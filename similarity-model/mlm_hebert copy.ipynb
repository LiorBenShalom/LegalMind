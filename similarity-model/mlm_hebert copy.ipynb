{
 "cells": [
  {
   "cell_type": "code",
   "execution_count": 10,
   "metadata": {},
   "outputs": [],
   "source": [
    "# !pip install transformers datasets accelerate\n",
    "# !pip install --force-reinstall soundfile"
   ]
  },
  {
   "cell_type": "code",
   "execution_count": 1,
   "metadata": {},
   "outputs": [
    {
     "name": "stderr",
     "output_type": "stream",
     "text": [
      "2025-04-22 16:00:16.447396: E external/local_xla/xla/stream_executor/cuda/cuda_fft.cc:467] Unable to register cuFFT factory: Attempting to register factory for plugin cuFFT when one has already been registered\n",
      "WARNING: All log messages before absl::InitializeLog() is called are written to STDERR\n",
      "E0000 00:00:1745326816.467518 3751908 cuda_dnn.cc:8579] Unable to register cuDNN factory: Attempting to register factory for plugin cuDNN when one has already been registered\n",
      "E0000 00:00:1745326816.473758 3751908 cuda_blas.cc:1407] Unable to register cuBLAS factory: Attempting to register factory for plugin cuBLAS when one has already been registered\n",
      "W0000 00:00:1745326816.489465 3751908 computation_placer.cc:177] computation placer already registered. Please check linkage and avoid linking the same target more than once.\n",
      "W0000 00:00:1745326816.489479 3751908 computation_placer.cc:177] computation placer already registered. Please check linkage and avoid linking the same target more than once.\n",
      "W0000 00:00:1745326816.489482 3751908 computation_placer.cc:177] computation placer already registered. Please check linkage and avoid linking the same target more than once.\n",
      "W0000 00:00:1745326816.489485 3751908 computation_placer.cc:177] computation placer already registered. Please check linkage and avoid linking the same target more than once.\n",
      "2025-04-22 16:00:16.494716: I tensorflow/core/platform/cpu_feature_guard.cc:210] This TensorFlow binary is optimized to use available CPU instructions in performance-critical operations.\n",
      "To enable the following instructions: AVX2 FMA, in other operations, rebuild TensorFlow with the appropriate compiler flags.\n"
     ]
    }
   ],
   "source": [
    "import pandas as pd\n",
    "import random\n",
    "from datasets import load_dataset\n",
    "from transformers import (\n",
    "    AutoTokenizer,\n",
    "    AutoModelForMaskedLM,\n",
    "    DataCollatorForLanguageModeling,\n",
    "    TrainingArguments,\n",
    "    Trainer,\n",
    ")\n",
    "import math\n",
    "import matplotlib.pyplot as plt\n"
   ]
  },
  {
   "cell_type": "code",
   "execution_count": 12,
   "metadata": {},
   "outputs": [
    {
     "name": "stdout",
     "output_type": "stream",
     "text": [
      "📊 Dataset Statistics\n",
      "Total facts: 5336\n",
      "Train set size: 4268\n",
      "Eval set size:  534\n",
      "Test set size:  534\n",
      "\n",
      "📎 Word Counts\n",
      "Min: 2\n",
      "Max: 4529\n",
      "Mean: 187.34\n",
      "Median: 150\n"
     ]
    }
   ],
   "source": [
    "# ======== Load and Combine Data ========\n",
    "df1 = pd.read_csv(\"/home/liorkob/M.Sc/thesis/data/5k/gpt/processed_verdicts_with_gpt.csv\")\n",
    "df2 = pd.read_csv(\"/home/liorkob/M.Sc/thesis/data/5k/gpt/processed_appeals_with_gpt.csv\")\n",
    "\n",
    "texts = pd.concat([\n",
    "    df1[\"extracted_gpt_facts\"].dropna(),\n",
    "    df2[\"extracted_gpt_facts\"].dropna()\n",
    "]).dropna().tolist()\n",
    "\n",
    "# ======== Shuffle and Split (80/10/10) ========\n",
    "random.seed(42)\n",
    "random.shuffle(texts)\n",
    "n = len(texts)\n",
    "\n",
    "train_texts = texts[:int(n*0.8)]\n",
    "eval_texts = texts[int(n*0.8):int(n*0.9)]\n",
    "test_texts = texts[int(n*0.9):]\n",
    "\n",
    "# ======== Save Files ========\n",
    "with open(\"gpt_facts.txt\", \"w\", encoding=\"utf-8\") as f:\n",
    "    for line in train_texts:\n",
    "        f.write(line.strip() + \"\\n\")\n",
    "\n",
    "with open(\"eval.txt\", \"w\", encoding=\"utf-8\") as f:\n",
    "    for line in eval_texts:\n",
    "        f.write(line.strip() + \"\\n\")\n",
    "\n",
    "with open(\"test.txt\", \"w\", encoding=\"utf-8\") as f:\n",
    "    for line in test_texts:\n",
    "        f.write(line.strip() + \"\\n\")\n",
    "\n",
    "# =======================\n",
    "# Print Statistics\n",
    "# =======================\n",
    "print(\"📊 Dataset Statistics\")\n",
    "print(f\"Total facts: {len(texts)}\")\n",
    "print(f\"Train set size: {len(train_texts)}\")\n",
    "print(f\"Eval set size:  {len(eval_texts)}\")\n",
    "print(f\"Test set size:  {len(test_texts)}\")\n",
    "\n",
    "\n",
    "# Word count per fact\n",
    "word_counts = [len(t.split()) for t in texts]\n",
    "print(\"\\n📎 Word Counts\")\n",
    "print(f\"Min: {min(word_counts)}\")\n",
    "print(f\"Max: {max(word_counts)}\")\n",
    "print(f\"Mean: {sum(word_counts)/len(word_counts):.2f}\")\n",
    "print(f\"Median: {sorted(word_counts)[len(word_counts)//2]}\")\n"
   ]
  },
  {
   "cell_type": "code",
   "execution_count": null,
   "metadata": {},
   "outputs": [
    {
     "data": {
      "application/vnd.jupyter.widget-view+json": {
       "model_id": "9c97063323af4c20b05f91fde4a30888",
       "version_major": 2,
       "version_minor": 0
      },
      "text/plain": [
       "Map:   0%|          | 0/540 [00:00<?, ? examples/s]"
      ]
     },
     "metadata": {},
     "output_type": "display_data"
    },
    {
     "name": "stderr",
     "output_type": "stream",
     "text": [
      "/home/liorkob/.conda/envs/new_env/lib/python3.9/site-packages/transformers/training_args.py:1575: FutureWarning: `evaluation_strategy` is deprecated and will be removed in version 4.46 of 🤗 Transformers. Use `eval_strategy` instead\n",
      "  warnings.warn(\n",
      "huggingface/tokenizers: The current process just got forked, after parallelism has already been used. Disabling parallelism to avoid deadlocks...\n",
      "To disable this warning, you can either:\n",
      "\t- Avoid using `tokenizers` before the fork if possible\n",
      "\t- Explicitly set the environment variable TOKENIZERS_PARALLELISM=(true | false)\n"
     ]
    },
    {
     "data": {
      "text/html": [
       "\n",
       "    <div>\n",
       "      \n",
       "      <progress value='2798' max='10500' style='width:300px; height:20px; vertical-align: middle;'></progress>\n",
       "      [ 2798/10500 05:42 < 15:43, 8.17 it/s, Epoch 4.00/15]\n",
       "    </div>\n",
       "    <table border=\"1\" class=\"dataframe\">\n",
       "  <thead>\n",
       " <tr style=\"text-align: left;\">\n",
       "      <th>Epoch</th>\n",
       "      <th>Training Loss</th>\n",
       "      <th>Validation Loss</th>\n",
       "    </tr>\n",
       "  </thead>\n",
       "  <tbody>\n",
       "    <tr>\n",
       "      <td>1</td>\n",
       "      <td>4.769300</td>\n",
       "      <td>4.629305</td>\n",
       "    </tr>\n",
       "    <tr>\n",
       "      <td>2</td>\n",
       "      <td>4.632000</td>\n",
       "      <td>4.460890</td>\n",
       "    </tr>\n",
       "    <tr>\n",
       "      <td>3</td>\n",
       "      <td>4.067800</td>\n",
       "      <td>3.938224</td>\n",
       "    </tr>\n",
       "  </tbody>\n",
       "</table><p>"
      ],
      "text/plain": [
       "<IPython.core.display.HTML object>"
      ]
     },
     "metadata": {},
     "output_type": "display_data"
    }
   ],
   "source": [
    "# ======== Load Tokenizer and Model ========\n",
    "model_name = \"avichr/heBERT\"\n",
    "tokenizer = AutoTokenizer.from_pretrained(model_name)\n",
    "model = AutoModelForMaskedLM.from_pretrained(model_name)\n",
    "\n",
    "# ======== Load Datasets ========\n",
    "dataset = load_dataset(\"text\", data_files={\"train\": \"gpt_facts.txt\"})\n",
    "eval_dataset = load_dataset(\"text\", data_files={\"eval\": \"eval.txt\"})\n",
    "test_dataset = load_dataset(\"text\", data_files={\"test\": \"test.txt\"})\n",
    "\n",
    "# ======== Tokenization ========\n",
    "def sliding_tokenize_function(examples):\n",
    "    return tokenizer(\n",
    "        examples[\"text\"],\n",
    "        max_length=512,\n",
    "        stride=256,\n",
    "        truncation=True,\n",
    "        padding=\"max_length\",\n",
    "        return_overflowing_tokens=True\n",
    "    )\n",
    "\n",
    "tokenized_train = dataset.map(sliding_tokenize_function, batched=True, remove_columns=[\"text\"])\n",
    "tokenized_eval = eval_dataset.map(sliding_tokenize_function, batched=True, remove_columns=[\"text\"])\n",
    "tokenized_test = test_dataset.map(sliding_tokenize_function, batched=True, remove_columns=[\"text\"])\n",
    "\n",
    "# ======== Training Arguments ========\n",
    "training_args = TrainingArguments(\n",
    "    output_dir=\"./hebert-mlm-verdicts\",\n",
    "    logging_dir=\"./hebert-mlm-verdicts/logs\",\n",
    "    per_device_train_batch_size=8,\n",
    "    per_device_eval_batch_size=8,\n",
    "    num_train_epochs=15,\n",
    "    save_steps=500,\n",
    "    logging_steps=100,\n",
    "    evaluation_strategy=\"epoch\",\n",
    "    save_total_limit=2\n",
    ")\n",
    "\n",
    "# ======== Data Collator for MLM ========\n",
    "data_collator = DataCollatorForLanguageModeling(\n",
    "    tokenizer=tokenizer, mlm=True, mlm_probability=0.15\n",
    ")\n",
    "\n",
    "# ======== Trainer ========\n",
    "trainer = Trainer(\n",
    "    model=model,\n",
    "    args=training_args,\n",
    "    train_dataset=tokenized_train[\"train\"],\n",
    "    eval_dataset=tokenized_eval[\"eval\"],\n",
    "    data_collator=data_collator\n",
    ")\n",
    "\n",
    "# ======== Training ========\n",
    "trainer.train()\n",
    "trainer.save_model(\"./hebert-mlm-verdicts/final\")\n",
    "\n",
    "# ======== Plots ========\n",
    "log_history = trainer.state.log_history\n",
    "train_loss = [x[\"loss\"] for x in log_history if \"loss\" in x]\n",
    "eval_loss = [x[\"eval_loss\"] for x in log_history if \"eval_loss\" in x]\n",
    "\n",
    "plt.plot(train_loss, label=\"Train Loss\")\n",
    "plt.plot(eval_loss, label=\"Eval Loss\")\n",
    "plt.xlabel(\"Logging Steps / Epochs\")\n",
    "plt.ylabel(\"Loss\")\n",
    "plt.legend()\n",
    "plt.title(\"Training vs Eval Loss\")\n",
    "plt.grid(True)\n",
    "plt.show()\n",
    "\n",
    "perplexities = [math.exp(loss) for loss in eval_loss]\n",
    "plt.plot(perplexities, label=\"Eval Perplexity\")\n",
    "plt.xlabel(\"Epoch\")\n",
    "plt.ylabel(\"Perplexity\")\n",
    "plt.title(\"Model Perplexity Over Epochs\")\n",
    "plt.grid(True)\n",
    "plt.legend()\n",
    "plt.show()\n",
    "\n",
    "# ======== Final Test Evaluation ========\n",
    "test_results = trainer.evaluate(eval_dataset=tokenized_test[\"test\"])\n",
    "print(\"🔍 Final Test Perplexity:\", math.exp(test_results[\"eval_loss\"]))\n"
   ]
  },
  {
   "cell_type": "code",
   "execution_count": null,
   "metadata": {},
   "outputs": [],
   "source": [
    "# ======== Final Test Evaluation ========\n",
    "# test_results = trainer.evaluate(eval_dataset=tokenized_test[\"test\"])\n",
    "print(\"🔍 Final Test Perplexity:\", math.exp(test_results[\"eval_loss\"]))\n"
   ]
  },
  {
   "cell_type": "code",
   "execution_count": 14,
   "metadata": {},
   "outputs": [
    {
     "data": {
      "application/vnd.jupyter.widget-view+json": {
       "model_id": "35f0c0fbf5144cc682d1751ad54fc7d7",
       "version_major": 2,
       "version_minor": 0
      },
      "text/plain": [
       "Map:   0%|          | 0/4389 [00:00<?, ? examples/s]"
      ]
     },
     "metadata": {},
     "output_type": "display_data"
    },
    {
     "name": "stderr",
     "output_type": "stream",
     "text": [
      "Token indices sequence length is longer than the specified maximum sequence length for this model (1538 > 512). Running this sequence through the model will result in indexing errors\n"
     ]
    },
    {
     "name": "stdout",
     "output_type": "stream",
     "text": [
      "train - ממוצע טוקנים: 818.41\n",
      "\n",
      "סה\"כ ממוצע טוקנים בכל הדאטה: 818.41\n"
     ]
    }
   ],
   "source": [
    "from transformers import AutoTokenizer\n",
    "\n",
    "tokenizer = AutoTokenizer.from_pretrained(\"bert-base-uncased\")  \n",
    "\n",
    "def get_token_count(example):\n",
    "    return {\"token_count\": len(tokenizer(example[\"text\"], add_special_tokens=True)[\"input_ids\"])}\n",
    "\n",
    "total_tokens = 0\n",
    "total_texts = 0\n",
    "\n",
    "for split_name, split_dataset in dataset.items():\n",
    "    tokenized_dataset = split_dataset.map(get_token_count)\n",
    "    split_total = sum(tokenized_dataset[\"token_count\"])\n",
    "    split_count = len(tokenized_dataset)\n",
    "\n",
    "    avg = split_total / split_count\n",
    "    print(f\"{split_name} - ממוצע טוקנים: {avg:.2f}\")\n",
    "\n",
    "    total_tokens += split_total\n",
    "    total_texts += split_count\n",
    "\n",
    "print(f\"\\nסה\\\"כ ממוצע טוקנים בכל הדאטה: {total_tokens / total_texts:.2f}\")\n"
   ]
  },
  {
   "cell_type": "code",
   "execution_count": 15,
   "metadata": {},
   "outputs": [
    {
     "name": "stdout",
     "output_type": "stream",
     "text": [
      "Perplexity: 46.996285618025105\n"
     ]
    }
   ],
   "source": [
    "# הערכה וחישוב Perplexity\n",
    "eval_results = trainer.evaluate(eval_dataset=tokenized_eval[\"eval\"])\n",
    "perplexity = math.exp(eval_results[\"eval_loss\"])\n",
    "print(\"Perplexity:\", perplexity)\n"
   ]
  },
  {
   "cell_type": "markdown",
   "metadata": {},
   "source": [
    "## baseline "
   ]
  },
  {
   "cell_type": "code",
   "execution_count": 2,
   "metadata": {},
   "outputs": [
    {
     "name": "stderr",
     "output_type": "stream",
     "text": [
      "BertForMaskedLM has generative capabilities, as `prepare_inputs_for_generation` is explicitly overwritten. However, it doesn't directly inherit from `GenerationMixin`. From 👉v4.50👈 onwards, `PreTrainedModel` will NOT inherit from `GenerationMixin`, and this model will lose the ability to call `generate` and other related functions.\n",
      "  - If you're using `trust_remote_code=True`, you can get rid of this warning by loading the model with an auto class. See https://huggingface.co/docs/transformers/en/model_doc/auto#auto-classes\n",
      "  - If you are the owner of the model architecture code, please modify your model class such that it inherits from `GenerationMixin` (after `PreTrainedModel`, otherwise you'll get an exception).\n",
      "  - If you are not the owner of the model architecture class, please contact the model code owner to update it.\n"
     ]
    },
    {
     "data": {
      "application/vnd.jupyter.widget-view+json": {
       "model_id": "133be37dab1c4592b3fd17412a276030",
       "version_major": 2,
       "version_minor": 0
      },
      "text/plain": [
       "Map:   0%|          | 0/602 [00:00<?, ? examples/s]"
      ]
     },
     "metadata": {},
     "output_type": "display_data"
    },
    {
     "name": "stderr",
     "output_type": "stream",
     "text": [
      "huggingface/tokenizers: The current process just got forked, after parallelism has already been used. Disabling parallelism to avoid deadlocks...\n",
      "To disable this warning, you can either:\n",
      "\t- Avoid using `tokenizers` before the fork if possible\n",
      "\t- Explicitly set the environment variable TOKENIZERS_PARALLELISM=(true | false)\n",
      "huggingface/tokenizers: The current process just got forked, after parallelism has already been used. Disabling parallelism to avoid deadlocks...\n",
      "To disable this warning, you can either:\n",
      "\t- Avoid using `tokenizers` before the fork if possible\n",
      "\t- Explicitly set the environment variable TOKENIZERS_PARALLELISM=(true | false)\n",
      "huggingface/tokenizers: The current process just got forked, after parallelism has already been used. Disabling parallelism to avoid deadlocks...\n",
      "To disable this warning, you can either:\n",
      "\t- Avoid using `tokenizers` before the fork if possible\n",
      "\t- Explicitly set the environment variable TOKENIZERS_PARALLELISM=(true | false)\n"
     ]
    },
    {
     "data": {
      "text/html": [
       "\n",
       "    <div>\n",
       "      \n",
       "      <progress value='96' max='96' style='width:300px; height:20px; vertical-align: middle;'></progress>\n",
       "      [96/96 00:06]\n",
       "    </div>\n",
       "    "
      ],
      "text/plain": [
       "<IPython.core.display.HTML object>"
      ]
     },
     "metadata": {},
     "output_type": "display_data"
    },
    {
     "name": "stdout",
     "output_type": "stream",
     "text": [
      "📉 Baseline Perplexity: 218.7959859721963\n"
     ]
    }
   ],
   "source": [
    "from transformers import AutoTokenizer, AutoModelForMaskedLM\n",
    "\n",
    "baseline_model = AutoModelForMaskedLM.from_pretrained(\"avichr/heBERT\")\n",
    "baseline_tokenizer = AutoTokenizer.from_pretrained(\"avichr/heBERT\")\n",
    "from datasets import load_dataset\n",
    "\n",
    "test_dataset = load_dataset(\"text\", data_files={\"test\": \"test.txt\"})\n",
    "def sliding_tokenize_function(examples):\n",
    "    return baseline_tokenizer(\n",
    "        examples[\"text\"],\n",
    "        max_length=512,\n",
    "        stride=256,\n",
    "        truncation=True,\n",
    "        padding=\"max_length\",\n",
    "        return_overflowing_tokens=True\n",
    "    )\n",
    "\n",
    "tokenized_test = test_dataset.map(sliding_tokenize_function, batched=True, remove_columns=[\"text\"])\n",
    "from transformers import Trainer, TrainingArguments, DataCollatorForLanguageModeling\n",
    "import math\n",
    "\n",
    "data_collator = DataCollatorForLanguageModeling(\n",
    "    tokenizer=baseline_tokenizer, mlm=True, mlm_probability=0.15\n",
    ")\n",
    "\n",
    "baseline_trainer = Trainer(\n",
    "    model=baseline_model,\n",
    "    args=TrainingArguments(output_dir=\"./baseline\", per_device_eval_batch_size=8),\n",
    "    eval_dataset=tokenized_test[\"test\"],\n",
    "    data_collator=data_collator\n",
    ")\n",
    "\n",
    "baseline_results = baseline_trainer.evaluate()\n",
    "print(\"📉 Baseline Perplexity:\", math.exp(baseline_results[\"eval_loss\"]))\n"
   ]
  }
 ],
 "metadata": {
  "kernelspec": {
   "display_name": "new_env",
   "language": "python",
   "name": "python3"
  },
  "language_info": {
   "codemirror_mode": {
    "name": "ipython",
    "version": 3
   },
   "file_extension": ".py",
   "mimetype": "text/x-python",
   "name": "python",
   "nbconvert_exporter": "python",
   "pygments_lexer": "ipython3",
   "version": "3.9.21"
  }
 },
 "nbformat": 4,
 "nbformat_minor": 2
}
