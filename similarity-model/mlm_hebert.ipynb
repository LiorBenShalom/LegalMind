{
 "cells": [
  {
   "cell_type": "code",
   "execution_count": null,
   "metadata": {},
   "outputs": [],
   "source": [
    "# !pip install transformers datasets accelerate\n",
    "# !pip install --force-reinstall soundfile"
   ]
  },
  {
   "cell_type": "code",
   "execution_count": 1,
   "metadata": {},
   "outputs": [
    {
     "name": "stderr",
     "output_type": "stream",
     "text": [
      "2025-04-20 13:19:00.145998: E external/local_xla/xla/stream_executor/cuda/cuda_fft.cc:467] Unable to register cuFFT factory: Attempting to register factory for plugin cuFFT when one has already been registered\n",
      "WARNING: All log messages before absl::InitializeLog() is called are written to STDERR\n",
      "E0000 00:00:1745144341.426047 3763741 cuda_dnn.cc:8579] Unable to register cuDNN factory: Attempting to register factory for plugin cuDNN when one has already been registered\n",
      "E0000 00:00:1745144342.023016 3763741 cuda_blas.cc:1407] Unable to register cuBLAS factory: Attempting to register factory for plugin cuBLAS when one has already been registered\n",
      "W0000 00:00:1745144346.831386 3763741 computation_placer.cc:177] computation placer already registered. Please check linkage and avoid linking the same target more than once.\n",
      "W0000 00:00:1745144346.831415 3763741 computation_placer.cc:177] computation placer already registered. Please check linkage and avoid linking the same target more than once.\n",
      "W0000 00:00:1745144346.831418 3763741 computation_placer.cc:177] computation placer already registered. Please check linkage and avoid linking the same target more than once.\n",
      "W0000 00:00:1745144346.831421 3763741 computation_placer.cc:177] computation placer already registered. Please check linkage and avoid linking the same target more than once.\n",
      "2025-04-20 13:19:07.123609: I tensorflow/core/platform/cpu_feature_guard.cc:210] This TensorFlow binary is optimized to use available CPU instructions in performance-critical operations.\n",
      "To enable the following instructions: AVX2 FMA, in other operations, rebuild TensorFlow with the appropriate compiler flags.\n"
     ]
    }
   ],
   "source": [
    "from transformers import AutoTokenizer, AutoModelForMaskedLM\n",
    "from datasets import load_dataset\n",
    "from transformers import TrainingArguments\n",
    "from transformers import Trainer, DataCollatorForLanguageModeling\n",
    "import pandas as pd\n",
    "import math\n"
   ]
  },
  {
   "cell_type": "code",
   "execution_count": 4,
   "metadata": {},
   "outputs": [],
   "source": [
    "df = pd.read_csv(\"/home/liorkob/M.Sc/thesis/data/5k/gpt/processed_verdicts_with_gpt.csv\")\n",
    "\n",
    "texts = df[\"extracted_gpt_facts\"].dropna().tolist()\n",
    "with open(\"gpt_facts.txt\", \"w\", encoding=\"utf-8\") as f:\n",
    "    for line in texts:\n",
    "        f.write(line.strip() + \"\\n\")\n",
    "\n",
    "        \n",
    "eval_texts = df[\"extracted_gpt_facts\"].dropna().sample(frac=0.1, random_state=42).tolist()\n",
    "\n",
    "with open(\"eval.txt\", \"w\", encoding=\"utf-8\") as f:\n",
    "    for line in eval_texts:\n",
    "        f.write(line.strip() + \"\\n\")\n"
   ]
  },
  {
   "cell_type": "code",
   "execution_count": null,
   "metadata": {},
   "outputs": [
    {
     "data": {
      "application/vnd.jupyter.widget-view+json": {
       "model_id": "9152ecc9d6b142ed87ef33da83a17037",
       "version_major": 2,
       "version_minor": 0
      },
      "text/plain": [
       "Map:   0%|          | 0/366 [00:00<?, ? examples/s]"
      ]
     },
     "metadata": {},
     "output_type": "display_data"
    },
    {
     "name": "stderr",
     "output_type": "stream",
     "text": [
      "/home/liorkob/.conda/envs/new_env/lib/python3.9/site-packages/transformers/training_args.py:1575: FutureWarning: `evaluation_strategy` is deprecated and will be removed in version 4.46 of 🤗 Transformers. Use `eval_strategy` instead\n",
      "  warnings.warn(\n",
      "huggingface/tokenizers: The current process just got forked, after parallelism has already been used. Disabling parallelism to avoid deadlocks...\n",
      "To disable this warning, you can either:\n",
      "\t- Avoid using `tokenizers` before the fork if possible\n",
      "\t- Explicitly set the environment variable TOKENIZERS_PARALLELISM=(true | false)\n"
     ]
    },
    {
     "data": {
      "text/html": [
       "\n",
       "    <div>\n",
       "      \n",
       "      <progress value='8001' max='12420' style='width:300px; height:20px; vertical-align: middle;'></progress>\n",
       "      [ 8001/12420 16:25 < 09:04, 8.12 it/s, Epoch 12.88/20]\n",
       "    </div>\n",
       "    <table border=\"1\" class=\"dataframe\">\n",
       "  <thead>\n",
       " <tr style=\"text-align: left;\">\n",
       "      <th>Epoch</th>\n",
       "      <th>Training Loss</th>\n",
       "      <th>Validation Loss</th>\n",
       "    </tr>\n",
       "  </thead>\n",
       "  <tbody>\n",
       "    <tr>\n",
       "      <td>1</td>\n",
       "      <td>4.787000</td>\n",
       "      <td>4.624930</td>\n",
       "    </tr>\n",
       "    <tr>\n",
       "      <td>2</td>\n",
       "      <td>4.630700</td>\n",
       "      <td>4.407584</td>\n",
       "    </tr>\n",
       "    <tr>\n",
       "      <td>3</td>\n",
       "      <td>4.122400</td>\n",
       "      <td>3.827338</td>\n",
       "    </tr>\n",
       "    <tr>\n",
       "      <td>4</td>\n",
       "      <td>3.147100</td>\n",
       "      <td>2.430610</td>\n",
       "    </tr>\n",
       "    <tr>\n",
       "      <td>5</td>\n",
       "      <td>2.203500</td>\n",
       "      <td>1.829180</td>\n",
       "    </tr>\n",
       "    <tr>\n",
       "      <td>6</td>\n",
       "      <td>1.651700</td>\n",
       "      <td>1.447101</td>\n",
       "    </tr>\n",
       "    <tr>\n",
       "      <td>7</td>\n",
       "      <td>1.545600</td>\n",
       "      <td>1.332974</td>\n",
       "    </tr>\n",
       "    <tr>\n",
       "      <td>8</td>\n",
       "      <td>1.428300</td>\n",
       "      <td>1.243729</td>\n",
       "    </tr>\n",
       "    <tr>\n",
       "      <td>9</td>\n",
       "      <td>1.367100</td>\n",
       "      <td>1.196902</td>\n",
       "    </tr>\n",
       "    <tr>\n",
       "      <td>10</td>\n",
       "      <td>1.297900</td>\n",
       "      <td>1.153709</td>\n",
       "    </tr>\n",
       "    <tr>\n",
       "      <td>11</td>\n",
       "      <td>1.244000</td>\n",
       "      <td>1.134066</td>\n",
       "    </tr>\n",
       "    <tr>\n",
       "      <td>12</td>\n",
       "      <td>1.204300</td>\n",
       "      <td>1.096447</td>\n",
       "    </tr>\n",
       "  </tbody>\n",
       "</table><p>"
      ],
      "text/plain": [
       "<IPython.core.display.HTML object>"
      ]
     },
     "metadata": {},
     "output_type": "display_data"
    }
   ],
   "source": [
    "from transformers import AutoTokenizer, AutoModelForMaskedLM, DataCollatorForLanguageModeling, TrainingArguments, Trainer\n",
    "from datasets import load_dataset\n",
    "\n",
    "# טוען את המודל והטוקנייזר\n",
    "model_name = \"avichr/heBERT\"\n",
    "tokenizer = AutoTokenizer.from_pretrained(model_name)\n",
    "model = AutoModelForMaskedLM.from_pretrained(model_name)\n",
    "\n",
    "# טוען את הקבצים\n",
    "dataset = load_dataset(\"text\", data_files={\"train\": \"gpt_facts.txt\"})\n",
    "eval_dataset = load_dataset(\"text\", data_files={\"eval\": \"eval.txt\"})\n",
    "\n",
    "# פונקציית טוקניזציה עם sliding window\n",
    "def sliding_tokenize_function(examples):\n",
    "    return tokenizer(\n",
    "        examples[\"text\"],\n",
    "        max_length=512,\n",
    "        stride=256,\n",
    "        truncation=True,\n",
    "        padding=\"max_length\",\n",
    "        return_overflowing_tokens=True\n",
    "    )\n",
    "\n",
    "# טוקניזציה עם פיצול חכם\n",
    "tokenized = dataset.map(sliding_tokenize_function, batched=True, remove_columns=[\"text\"])\n",
    "tokenized_eval = eval_dataset.map(sliding_tokenize_function, batched=True, remove_columns=[\"text\"])\n",
    "\n",
    "# הגדרות אימון\n",
    "training_args = TrainingArguments(\n",
    "    output_dir=\"./hebert-mlm-verdicts\",\n",
    "    logging_dir=\"./hebert-mlm-verdicts/logs\",  # NEW: log dir for TensorBoard\n",
    "    per_device_train_batch_size=8,\n",
    "    per_device_eval_batch_size=8,\n",
    "    num_train_epochs=20,\n",
    "    save_steps=500,\n",
    "    logging_steps=100,\n",
    "    evaluation_strategy=\"epoch\",  # הפעלת הערכה בסוף כל אפוק\n",
    "    eval_steps=None,              # אם את רוצה שזה יקרה כל X צעדים – תגדירי כאן מספר\n",
    "    save_total_limit=2            # לשמור רק את 2 המודלים האחרונים\n",
    ")\n",
    "\n",
    "# Data collator למסוך טוקנים\n",
    "data_collator = DataCollatorForLanguageModeling(\n",
    "    tokenizer=tokenizer, mlm=True, mlm_probability=0.15\n",
    ")\n",
    "\n",
    "# Trainer\n",
    "trainer = Trainer(\n",
    "    model=model,\n",
    "    args=training_args,\n",
    "    train_dataset=tokenized[\"train\"],\n",
    "    eval_dataset=tokenized_eval[\"eval\"],\n",
    "    data_collator=data_collator\n",
    ")\n",
    "\n",
    "# התחלת האימון\n",
    "trainer.train()\n",
    "# שמירת המודל המאומן\n",
    "trainer.save_model(\"./hebert-mlm-verdicts/final\")\n",
    "\n",
    "\n",
    "import matplotlib.pyplot as plt\n",
    "\n",
    "log_history = trainer.state.log_history\n",
    "\n",
    "train_loss = [x[\"loss\"] for x in log_history if \"loss\" in x]\n",
    "eval_loss = [x[\"eval_loss\"] for x in log_history if \"eval_loss\" in x]\n",
    "\n",
    "plt.plot(train_loss, label=\"Train Loss\")\n",
    "plt.plot(eval_loss, label=\"Eval Loss\")\n",
    "plt.xlabel(\"Logging Steps / Epochs\")\n",
    "plt.ylabel(\"Loss\")\n",
    "plt.legend()\n",
    "plt.title(\"Training vs Eval Loss\")\n",
    "plt.grid(True)\n",
    "plt.show()\n",
    "\n",
    "\n",
    "import math\n",
    "\n",
    "perplexities = [math.exp(loss) for loss in eval_loss]\n",
    "\n",
    "plt.plot(perplexities, label=\"Eval Perplexity\")\n",
    "plt.xlabel(\"Epoch\")\n",
    "plt.ylabel(\"Perplexity\")\n",
    "plt.title(\"Model Perplexity Over Epochs\")\n",
    "plt.grid(True)\n",
    "plt.legend()\n",
    "plt.show()\n"
   ]
  },
  {
   "cell_type": "code",
   "execution_count": 8,
   "metadata": {},
   "outputs": [
    {
     "data": {
      "application/vnd.jupyter.widget-view+json": {
       "model_id": "8375aa4adbf9442ebf29f16d70d4ab8b",
       "version_major": 2,
       "version_minor": 0
      },
      "text/plain": [
       "Map:   0%|          | 0/3676 [00:00<?, ? examples/s]"
      ]
     },
     "metadata": {},
     "output_type": "display_data"
    },
    {
     "name": "stderr",
     "output_type": "stream",
     "text": [
      "Token indices sequence length is longer than the specified maximum sequence length for this model (576 > 512). Running this sequence through the model will result in indexing errors\n"
     ]
    },
    {
     "name": "stdout",
     "output_type": "stream",
     "text": [
      "train - ממוצע טוקנים: 954.30\n",
      "\n",
      "סה\"כ ממוצע טוקנים בכל הדאטה: 954.30\n"
     ]
    }
   ],
   "source": [
    "from transformers import AutoTokenizer\n",
    "\n",
    "tokenizer = AutoTokenizer.from_pretrained(\"bert-base-uncased\")  # או כל מודל אחר\n",
    "\n",
    "def get_token_count(example):\n",
    "    return {\"token_count\": len(tokenizer(example[\"text\"], add_special_tokens=True)[\"input_ids\"])}\n",
    "\n",
    "total_tokens = 0\n",
    "total_texts = 0\n",
    "\n",
    "for split_name, split_dataset in dataset.items():\n",
    "    tokenized_dataset = split_dataset.map(get_token_count)\n",
    "    split_total = sum(tokenized_dataset[\"token_count\"])\n",
    "    split_count = len(tokenized_dataset)\n",
    "\n",
    "    avg = split_total / split_count\n",
    "    print(f\"{split_name} - ממוצע טוקנים: {avg:.2f}\")\n",
    "\n",
    "    total_tokens += split_total\n",
    "    total_texts += split_count\n",
    "\n",
    "print(f\"\\nסה\\\"כ ממוצע טוקנים בכל הדאטה: {total_tokens / total_texts:.2f}\")\n"
   ]
  },
  {
   "cell_type": "code",
   "execution_count": 7,
   "metadata": {},
   "outputs": [
    {
     "name": "stdout",
     "output_type": "stream",
     "text": [
      "Perplexity: 2.5685408549047715\n"
     ]
    }
   ],
   "source": [
    "# הערכה וחישוב Perplexity\n",
    "eval_results = trainer.evaluate(eval_dataset=tokenized_eval[\"eval\"])\n",
    "perplexity = math.exp(eval_results[\"eval_loss\"])\n",
    "print(\"Perplexity:\", perplexity)\n"
   ]
  }
 ],
 "metadata": {
  "kernelspec": {
   "display_name": "new_env",
   "language": "python",
   "name": "python3"
  },
  "language_info": {
   "codemirror_mode": {
    "name": "ipython",
    "version": 3
   },
   "file_extension": ".py",
   "mimetype": "text/x-python",
   "name": "python",
   "nbconvert_exporter": "python",
   "pygments_lexer": "ipython3",
   "version": "3.9.21"
  }
 },
 "nbformat": 4,
 "nbformat_minor": 2
}
