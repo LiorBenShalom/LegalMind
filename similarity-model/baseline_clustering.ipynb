{
 "cells": [
  {
   "cell_type": "code",
   "execution_count": null,
   "metadata": {},
   "outputs": [
    {
     "name": "stdout",
     "output_type": "stream",
     "text": [
      "Requirement already satisfied: umap-learn in /sise/home/liorkob/.conda/envs/judgeEnv/lib/python3.8/site-packages (0.5.7)\n",
      "Requirement already satisfied: numpy>=1.17 in /sise/home/liorkob/.conda/envs/judgeEnv/lib/python3.8/site-packages (from umap-learn) (1.24.4)\n",
      "Requirement already satisfied: scipy>=1.3.1 in /sise/home/liorkob/.conda/envs/judgeEnv/lib/python3.8/site-packages (from umap-learn) (1.10.1)\n",
      "Requirement already satisfied: scikit-learn>=0.22 in /sise/home/liorkob/.conda/envs/judgeEnv/lib/python3.8/site-packages (from umap-learn) (1.3.2)\n",
      "Requirement already satisfied: numba>=0.51.2 in /sise/home/liorkob/.conda/envs/judgeEnv/lib/python3.8/site-packages (from umap-learn) (0.58.1)\n",
      "Requirement already satisfied: pynndescent>=0.5 in /sise/home/liorkob/.conda/envs/judgeEnv/lib/python3.8/site-packages (from umap-learn) (0.5.13)\n",
      "Requirement already satisfied: tqdm in /sise/home/liorkob/.conda/envs/judgeEnv/lib/python3.8/site-packages (from umap-learn) (4.67.1)\n",
      "Requirement already satisfied: llvmlite<0.42,>=0.41.0dev0 in /sise/home/liorkob/.conda/envs/judgeEnv/lib/python3.8/site-packages (from numba>=0.51.2->umap-learn) (0.41.1)\n",
      "Requirement already satisfied: importlib-metadata in /sise/home/liorkob/.conda/envs/judgeEnv/lib/python3.8/site-packages (from numba>=0.51.2->umap-learn) (8.5.0)\n",
      "Requirement already satisfied: joblib>=0.11 in /sise/home/liorkob/.conda/envs/judgeEnv/lib/python3.8/site-packages (from pynndescent>=0.5->umap-learn) (1.4.2)\n",
      "Requirement already satisfied: threadpoolctl>=2.0.0 in /sise/home/liorkob/.conda/envs/judgeEnv/lib/python3.8/site-packages (from scikit-learn>=0.22->umap-learn) (3.5.0)\n",
      "Requirement already satisfied: zipp>=3.20 in /sise/home/liorkob/.conda/envs/judgeEnv/lib/python3.8/site-packages (from importlib-metadata->numba>=0.51.2->umap-learn) (3.20.2)\n",
      "Note: you may need to restart the kernel to use updated packages.\n"
     ]
    },
    {
     "ename": "",
     "evalue": "",
     "output_type": "error",
     "traceback": [
      "\u001b[1;31mThe Kernel crashed while executing code in the current cell or a previous cell. \n",
      "\u001b[1;31mPlease review the code in the cell(s) to identify a possible cause of the failure. \n",
      "\u001b[1;31mClick <a href='https://aka.ms/vscodeJupyterKernelCrash'>here</a> for more info. \n",
      "\u001b[1;31mView Jupyter <a href='command:jupyter.viewOutput'>log</a> for further details."
     ]
    }
   ],
   "source": [
    "# pip install umap-learn\n"
   ]
  },
  {
   "cell_type": "code",
   "execution_count": null,
   "metadata": {},
   "outputs": [
    {
     "name": "stderr",
     "output_type": "stream",
     "text": [
      "/home/liorkob/.conda/envs/judgeEnv/lib/python3.8/site-packages/tqdm/auto.py:21: TqdmWarning: IProgress not found. Please update jupyter and ipywidgets. See https://ipywidgets.readthedocs.io/en/stable/user_install.html\n",
      "  from .autonotebook import tqdm as notebook_tqdm\n"
     ]
    }
   ],
   "source": [
    "from transformers import AutoTokenizer, AutoModel\n",
    "import torch\n",
    "import numpy as np\n",
    "\n",
    "# Load HeBERT\n",
    "tokenizer = AutoTokenizer.from_pretrained(\"avichr/heBERT\")\n",
    "model = AutoModel.from_pretrained(\"avichr/heBERT\")\n",
    "\n",
    "def get_embedding(text):\n",
    "    inputs = tokenizer(text, return_tensors=\"pt\", truncation=True, padding=True)\n",
    "    with torch.no_grad():\n",
    "        outputs = model(**inputs)\n",
    "    # Mean pooling over token embeddings (excluding special tokens)\n",
    "    attention = inputs['attention_mask'].unsqueeze(-1)\n",
    "    embedding = (outputs.last_hidden_state * attention).sum(1) / attention.sum(1)\n",
    "    return embedding.squeeze().numpy()\n"
   ]
  },
  {
   "cell_type": "code",
   "execution_count": null,
   "metadata": {},
   "outputs": [],
   "source": [
    "df = pd.read_csv(\"/home/liorkob/thesis/data/processed_verdicts_with_gpt.csv\")\n",
    "verdict_paragraphs = df[\"extracted_gpt_facts\"].dropna().tolist()\n"
   ]
  },
  {
   "cell_type": "code",
   "execution_count": null,
   "metadata": {},
   "outputs": [],
   "source": [
    "embeddings = np.array([get_embedding(text) for text in verdict_paragraphs])\n"
   ]
  },
  {
   "cell_type": "code",
   "execution_count": null,
   "metadata": {},
   "outputs": [],
   "source": [
    "from sklearn.cluster import KMeans\n",
    "\n",
    "kmeans = KMeans(n_clusters=5, random_state=42)\n",
    "labels = kmeans.fit_predict(embeddings)\n"
   ]
  },
  {
   "cell_type": "code",
   "execution_count": null,
   "metadata": {},
   "outputs": [],
   "source": [
    "from sklearn.feature_extraction.text import TfidfVectorizer\n",
    "\n",
    "for i in range(5):\n",
    "    cluster_texts = [text for text, label in zip(verdict_paragraphs, labels) if label == i]\n",
    "    vectorizer = TfidfVectorizer(max_features=1000)\n",
    "    X = vectorizer.fit_transform(cluster_texts)\n",
    "    terms = vectorizer.get_feature_names_out()\n",
    "    mean_scores = np.asarray(X.mean(axis=0)).flatten()\n",
    "    top_indices = mean_scores.argsort()[-10:][::-1]\n",
    "    top_words = [terms[ind] for ind in top_indices]\n",
    "    print(f\"Cluster {i} top words:\", top_words)\n"
   ]
  },
  {
   "cell_type": "code",
   "execution_count": null,
   "metadata": {},
   "outputs": [],
   "source": [
    "import umap\n",
    "import matplotlib.pyplot as plt\n",
    "\n",
    "# Reduce embeddings to 2D\n",
    "reducer = umap.UMAP(n_neighbors=15, min_dist=0.1, random_state=42)\n",
    "embedding_2d = reducer.fit_transform(embeddings)\n",
    "\n",
    "# Plot\n",
    "plt.figure(figsize=(10, 7))\n",
    "scatter = plt.scatter(embedding_2d[:, 0], embedding_2d[:, 1], c=labels, cmap='tab10', s=50)\n",
    "plt.title(\"UMAP projection of clustered verdicts\", fontsize=14)\n",
    "plt.xlabel(\"UMAP-1\")\n",
    "plt.ylabel(\"UMAP-2\")\n",
    "plt.colorbar(scatter, label='Cluster')\n",
    "plt.grid(True)\n",
    "plt.show()\n"
   ]
  },
  {
   "cell_type": "code",
   "execution_count": null,
   "metadata": {},
   "outputs": [],
   "source": [
    "from sklearn.feature_extraction.text import TfidfVectorizer\n",
    "\n",
    "for i in range(k):\n",
    "    cluster_texts = [text for text, label in zip(verdict_paragraphs, labels) if label == i]\n",
    "    vectorizer = TfidfVectorizer(max_features=1000)\n",
    "    X = vectorizer.fit_transform(cluster_texts)\n",
    "    terms = vectorizer.get_feature_names_out()\n",
    "    mean_scores = np.asarray(X.mean(axis=0)).flatten()\n",
    "    top_indices = mean_scores.argsort()[-10:][::-1]\n",
    "    top_words = [terms[ind] for ind in top_indices]\n",
    "    print(f\"Cluster {i} top words:\", top_words)\n"
   ]
  }
 ],
 "metadata": {
  "kernelspec": {
   "display_name": "judgeEnv",
   "language": "python",
   "name": "python3"
  },
  "language_info": {
   "codemirror_mode": {
    "name": "ipython",
    "version": 3
   },
   "file_extension": ".py",
   "mimetype": "text/x-python",
   "name": "python",
   "nbconvert_exporter": "python",
   "pygments_lexer": "ipython3",
   "version": "3.8.20"
  }
 },
 "nbformat": 4,
 "nbformat_minor": 2
}
