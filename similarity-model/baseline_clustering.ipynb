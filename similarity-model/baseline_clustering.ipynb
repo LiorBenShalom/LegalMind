{
 "cells": [
  {
   "cell_type": "code",
   "execution_count": null,
   "metadata": {},
   "outputs": [],
   "source": [
    "# pip install umap-learn\n"
   ]
  },
  {
   "cell_type": "code",
   "execution_count": null,
   "metadata": {},
   "outputs": [],
   "source": [
    "from transformers import AutoTokenizer, AutoModel\n",
    "import torch\n",
    "import numpy as np\n",
    "\n",
    "# Load HeBERT\n",
    "tokenizer = AutoTokenizer.from_pretrained(\"avichr/heBERT\")\n",
    "model = AutoModel.from_pretrained(\"avichr/heBERT\")\n",
    "\n",
    "def get_embedding(text):\n",
    "    inputs = tokenizer(text, return_tensors=\"pt\", truncation=True, padding=True, max_length=512)\n",
    "    with torch.no_grad():\n",
    "        outputs = model(**inputs)\n",
    "    # Mean pooling over token embeddings (excluding special tokens)\n",
    "    attention = inputs['attention_mask'].unsqueeze(-1)\n",
    "    embedding = (outputs.last_hidden_state * attention).sum(1) / attention.sum(1)\n",
    "    return embedding.squeeze().numpy()\n"
   ]
  },
  {
   "cell_type": "code",
   "execution_count": null,
   "metadata": {},
   "outputs": [],
   "source": [
    "import pandas as pd\n",
    "df = pd.read_csv(\"/home/liorkob/M.Sc/thesis/data/wep/processed_verdicts_with_gpt.csv\")\n",
    "verdict_paragraphs = df[\"extracted_gpt_facts\"].dropna().tolist()\n"
   ]
  },
  {
   "cell_type": "code",
   "execution_count": null,
   "metadata": {},
   "outputs": [
    {
     "ename": "",
     "evalue": "",
     "output_type": "error",
     "traceback": [
      "\u001b[1;31mThe Kernel crashed while executing code in the current cell or a previous cell. \n",
      "\u001b[1;31mPlease review the code in the cell(s) to identify a possible cause of the failure. \n",
      "\u001b[1;31mClick <a href='https://aka.ms/vscodeJupyterKernelCrash'>here</a> for more info. \n",
      "\u001b[1;31mView Jupyter <a href='command:jupyter.viewOutput'>log</a> for further details."
     ]
    }
   ],
   "source": [
    "embeddings = np.array([get_embedding(text) for text in verdict_paragraphs])\n"
   ]
  },
  {
   "cell_type": "code",
   "execution_count": null,
   "metadata": {},
   "outputs": [],
   "source": [
    "from sklearn.cluster import KMeans\n",
    "\n",
    "kmeans = KMeans(n_clusters=5, random_state=42)\n",
    "labels = kmeans.fit_predict(embeddings)\n"
   ]
  },
  {
   "cell_type": "code",
   "execution_count": null,
   "metadata": {},
   "outputs": [],
   "source": [
    "from sklearn.feature_extraction.text import TfidfVectorizer\n",
    "\n",
    "for i in range(5):\n",
    "    cluster_texts = [text for text, label in zip(verdict_paragraphs, labels) if label == i]\n",
    "    vectorizer = TfidfVectorizer(max_features=1000)\n",
    "    X = vectorizer.fit_transform(cluster_texts)\n",
    "    terms = vectorizer.get_feature_names_out()\n",
    "    mean_scores = np.asarray(X.mean(axis=0)).flatten()\n",
    "    top_indices = mean_scores.argsort()[-10:][::-1]\n",
    "    top_words = [terms[ind] for ind in top_indices]\n",
    "    print(f\"Cluster {i} top words:\", top_words)\n"
   ]
  },
  {
   "cell_type": "code",
   "execution_count": null,
   "metadata": {},
   "outputs": [],
   "source": [
    "import umap\n",
    "import matplotlib.pyplot as plt\n",
    "\n",
    "# Reduce embeddings to 2D\n",
    "reducer = umap.UMAP(n_neighbors=15, min_dist=0.1, random_state=42)\n",
    "embedding_2d = reducer.fit_transform(embeddings)\n",
    "\n",
    "# Plot\n",
    "plt.figure(figsize=(10, 7))\n",
    "scatter = plt.scatter(embedding_2d[:, 0], embedding_2d[:, 1], c=labels, cmap='tab10', s=50)\n",
    "plt.title(\"UMAP projection of clustered verdicts\", fontsize=14)\n",
    "plt.xlabel(\"UMAP-1\")\n",
    "plt.ylabel(\"UMAP-2\")\n",
    "plt.colorbar(scatter, label='Cluster')\n",
    "plt.grid(True)\n",
    "plt.show()\n"
   ]
  },
  {
   "cell_type": "code",
   "execution_count": null,
   "metadata": {},
   "outputs": [],
   "source": [
    "from sklearn.feature_extraction.text import TfidfVectorizer\n",
    "k=5\n",
    "for i in range(k):\n",
    "    cluster_texts = [text for text, label in zip(verdict_paragraphs, labels) if label == i]\n",
    "    vectorizer = TfidfVectorizer(max_features=1000)\n",
    "    X = vectorizer.fit_transform(cluster_texts)\n",
    "    terms = vectorizer.get_feature_names_out()\n",
    "    mean_scores = np.asarray(X.mean(axis=0)).flatten()\n",
    "    top_indices = mean_scores.argsort()[-10:][::-1]\n",
    "    top_words = [terms[ind] for ind in top_indices]\n",
    "    print(f\"Cluster {i} top words:\", top_words)\n"
   ]
  },
  {
   "cell_type": "code",
   "execution_count": null,
   "metadata": {},
   "outputs": [],
   "source": [
    "# pip install gensim\n"
   ]
  },
  {
   "cell_type": "markdown",
   "metadata": {},
   "source": [
    "### try 2 -words cluster"
   ]
  },
  {
   "cell_type": "code",
   "execution_count": null,
   "metadata": {},
   "outputs": [],
   "source": [
    "import pandas as pd\n",
    "from gensim.models import Word2Vec\n",
    "from sklearn.cluster import KMeans\n",
    "from collections import defaultdict\n",
    "import nltk\n",
    "from transformers import AutoTokenizer\n",
    "import re\n",
    "\n",
    "tokenizer = AutoTokenizer.from_pretrained(\"avichr/heBERT\")\n",
    "def get_full_words(tokens):\n",
    "    words = []\n",
    "    current = \"\"\n",
    "    for tok in tokens:\n",
    "        if tok.startswith(\"##\"):\n",
    "            current += tok[2:]\n",
    "        else:\n",
    "            if current:\n",
    "                words.append(current)\n",
    "            current = tok\n",
    "    if current:\n",
    "        words.append(current)\n",
    "    return words\n",
    "\n",
    "# hebrew_stopwords = set(get_stop_words('he'))  # 'he' = Hebrew\n",
    "hebrew_stopwords = {\n",
    "    'של', 'על', 'את', 'כי', 'עם', 'זה', 'גם', 'אם', 'או', 'היה', 'היא', 'הוא', 'הם',\n",
    "    'אבל', 'אני', 'אנחנו', 'אתם', 'אתן', 'אין', 'כל', 'לא', 'כן', 'יש', 'מה', 'מי', 'בו',\n",
    "    'כך', 'לפי', 'ללא', 'וכן', 'עד', 'רק', 'כמו', 'מאוד', 'זאת', 'הזו', 'אותו', 'אותה'\n",
    "}\n",
    "def is_meaningful(word):\n",
    "    return bool(re.search(r'[א-ת]', word)) and not word.isdigit() and len(word) >= 2\n",
    "\n",
    "# 1. Load and tokenize\n",
    "df = pd.read_csv(\"/home/liorkob/M.Sc/thesis/data/processed_verdicts_with_gpt.csv\")\n",
    "verdict_paragraphs = df[\"extracted_gpt_facts\"].dropna().tolist()\n",
    "tokenized_sentences = [\n",
    "    [word for word in get_full_words(tokenizer.tokenize(p)) if word not in hebrew_stopwords]\n",
    "    for p in verdict_paragraphs\n",
    "]\n",
    "\n",
    "filtered_sentences = [\n",
    "    [word for word in sentence if word not in hebrew_stopwords and is_meaningful(word)]\n",
    "    for sentence in tokenized_sentences\n",
    "]\n",
    "\n",
    "# 2. Train Word2Vec\n",
    "w2v_model = Word2Vec(sentences=filtered_sentences, vector_size=100, window=5, min_count=5)\n",
    "\n",
    "# 3. Choose words to cluster\n",
    "words = list(w2v_model.wv.index_to_key)[:500]  # you can choose top N frequent words\n",
    "word_vectors = [w2v_model.wv[word] for word in words]\n",
    "\n",
    "# 4. Cluster\n",
    "kmeans = KMeans(n_clusters=7, random_state=42)\n",
    "labels = kmeans.fit_predict(word_vectors)\n",
    "\n",
    "# 5. Group words by cluster\n",
    "clusters = defaultdict(list)\n",
    "for word, label in zip(words, labels):\n",
    "    clusters[label].append(word)\n",
    "\n",
    "# 6. Print top words per cluster\n",
    "for cluster_id, word_list in clusters.items():\n",
    "    print(f\"Cluster {cluster_id} top words: {word_list[:10]}\")\n"
   ]
  },
  {
   "cell_type": "code",
   "execution_count": null,
   "metadata": {},
   "outputs": [],
   "source": []
  }
 ],
 "metadata": {
  "kernelspec": {
   "display_name": "judgeEnv",
   "language": "python",
   "name": "python3"
  },
  "language_info": {
   "codemirror_mode": {
    "name": "ipython",
    "version": 3
   },
   "file_extension": ".py",
   "mimetype": "text/x-python",
   "name": "python",
   "nbconvert_exporter": "python",
   "pygments_lexer": "ipython3",
   "version": "3.8.20"
  }
 },
 "nbformat": 4,
 "nbformat_minor": 2
}
