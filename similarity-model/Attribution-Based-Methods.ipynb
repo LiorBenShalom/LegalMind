{
 "cells": [
  {
   "cell_type": "markdown",
   "metadata": {},
   "source": [
    "Setup"
   ]
  },
  {
   "cell_type": "code",
   "execution_count": 1,
   "metadata": {},
   "outputs": [
    {
     "name": "stdout",
     "output_type": "stream",
     "text": [
      "/bin/bash: /home/liorkob/.conda/envs/judgeEnv/bin/pip: /home/itayraz/.conda/envs/judgeEnv/bin/python: bad interpreter: Permission denied\n"
     ]
    }
   ],
   "source": [
    "!pip install transformers sentence-transformers torch captum\n"
   ]
  },
  {
   "cell_type": "markdown",
   "metadata": {},
   "source": [
    "Basic Siamese Model for Similarity"
   ]
  },
  {
   "cell_type": "code",
   "execution_count": null,
   "metadata": {},
   "outputs": [],
   "source": [
    "from sentence_transformers import SentenceTransformer\n",
    "import torch\n",
    "import torch.nn.functional as F\n",
    "\n",
    "# Load model\n",
    "model = SentenceTransformer('all-MiniLM-L6-v2')  # or your custom Siamese model\n",
    "model.eval()\n"
   ]
  },
  {
   "cell_type": "markdown",
   "metadata": {},
   "source": [
    "IJ Implementation"
   ]
  },
  {
   "cell_type": "code",
   "execution_count": null,
   "metadata": {},
   "outputs": [],
   "source": [
    "from captum.attr import IntegratedGradients\n",
    "from transformers import AutoTokenizer\n",
    "import numpy as np\n",
    "\n",
    "tokenizer = AutoTokenizer.from_pretrained('sentence-transformers/all-MiniLM-L6-v2')\n",
    "\n",
    "# Define similarity model wrapper for Captum\n",
    "class SimilarityWrapper(torch.nn.Module):\n",
    "    def __init__(self, model):\n",
    "        super().__init__()\n",
    "        self.model = model\n",
    "\n",
    "    def forward(self, input1, input2):\n",
    "        # B x D\n",
    "        emb1 = self.model.encode(input1, convert_to_tensor=True)\n",
    "        emb2 = self.model.encode(input2, convert_to_tensor=True)\n",
    "        sim = F.cosine_similarity(emb1, emb2)\n",
    "        return sim\n",
    "\n",
    "similarity_model = SimilarityWrapper(model)\n",
    "\n",
    "# Example verdicts\n",
    "verdict_a = \"The defendant was convicted of drug trafficking.\"\n",
    "verdict_b = \"The accused was found guilty of smuggling illegal substances.\"\n",
    "\n",
    "# Create inputs\n",
    "inputs = [verdict_a, verdict_b]\n",
    "baseline = [\"\"] * 2  # empty string as baseline\n",
    "\n",
    "# Integrated Gradients\n",
    "ig = IntegratedGradients(similarity_model)\n",
    "\n",
    "attributions, delta = ig.attribute(inputs=inputs, baselines=baseline, return_convergence_delta=True)\n",
    "\n",
    "print(\"Attributions:\", attributions)\n",
    "print(\"Delta:\", delta)\n"
   ]
  }
 ],
 "metadata": {
  "kernelspec": {
   "display_name": "judgeEnv",
   "language": "python",
   "name": "python3"
  },
  "language_info": {
   "codemirror_mode": {
    "name": "ipython",
    "version": 3
   },
   "file_extension": ".py",
   "mimetype": "text/x-python",
   "name": "python",
   "nbconvert_exporter": "python",
   "pygments_lexer": "ipython3",
   "version": "3.8.20"
  }
 },
 "nbformat": 4,
 "nbformat_minor": 2
}
