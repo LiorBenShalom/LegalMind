{
 "cells": [
  {
   "cell_type": "code",
   "execution_count": 1,
   "metadata": {},
   "outputs": [
    {
     "name": "stdout",
     "output_type": "stream",
     "text": [
      "Requirement already satisfied: torch in /sise/home/liorkob/.conda/envs/lcp/lib/python3.9/site-packages (2.6.0)\n",
      "Requirement already satisfied: transformers in /sise/home/liorkob/.conda/envs/lcp/lib/python3.9/site-packages (4.48.3)\n",
      "Requirement already satisfied: pandas in /sise/home/liorkob/.conda/envs/lcp/lib/python3.9/site-packages (2.2.3)\n",
      "Requirement already satisfied: scikit-learn in /sise/home/liorkob/.conda/envs/lcp/lib/python3.9/site-packages (1.6.1)\n",
      "Requirement already satisfied: filelock in /sise/home/liorkob/.conda/envs/lcp/lib/python3.9/site-packages (from torch) (3.17.0)\n",
      "Requirement already satisfied: typing-extensions>=4.10.0 in /sise/home/liorkob/.conda/envs/lcp/lib/python3.9/site-packages (from torch) (4.12.2)\n",
      "Requirement already satisfied: networkx in /sise/home/liorkob/.conda/envs/lcp/lib/python3.9/site-packages (from torch) (3.2.1)\n",
      "Requirement already satisfied: jinja2 in /sise/home/liorkob/.conda/envs/lcp/lib/python3.9/site-packages (from torch) (3.1.5)\n",
      "Requirement already satisfied: fsspec in /sise/home/liorkob/.conda/envs/lcp/lib/python3.9/site-packages (from torch) (2025.2.0)\n",
      "Requirement already satisfied: nvidia-cuda-nvrtc-cu12==12.4.127 in /sise/home/liorkob/.conda/envs/lcp/lib/python3.9/site-packages (from torch) (12.4.127)\n",
      "Requirement already satisfied: nvidia-cuda-runtime-cu12==12.4.127 in /sise/home/liorkob/.conda/envs/lcp/lib/python3.9/site-packages (from torch) (12.4.127)\n",
      "Requirement already satisfied: nvidia-cuda-cupti-cu12==12.4.127 in /sise/home/liorkob/.conda/envs/lcp/lib/python3.9/site-packages (from torch) (12.4.127)\n",
      "Requirement already satisfied: nvidia-cudnn-cu12==9.1.0.70 in /sise/home/liorkob/.conda/envs/lcp/lib/python3.9/site-packages (from torch) (9.1.0.70)\n",
      "Requirement already satisfied: nvidia-cublas-cu12==12.4.5.8 in /sise/home/liorkob/.conda/envs/lcp/lib/python3.9/site-packages (from torch) (12.4.5.8)\n",
      "Requirement already satisfied: nvidia-cufft-cu12==11.2.1.3 in /sise/home/liorkob/.conda/envs/lcp/lib/python3.9/site-packages (from torch) (11.2.1.3)\n",
      "Requirement already satisfied: nvidia-curand-cu12==10.3.5.147 in /sise/home/liorkob/.conda/envs/lcp/lib/python3.9/site-packages (from torch) (10.3.5.147)\n",
      "Requirement already satisfied: nvidia-cusolver-cu12==11.6.1.9 in /sise/home/liorkob/.conda/envs/lcp/lib/python3.9/site-packages (from torch) (11.6.1.9)\n",
      "Requirement already satisfied: nvidia-cusparse-cu12==12.3.1.170 in /sise/home/liorkob/.conda/envs/lcp/lib/python3.9/site-packages (from torch) (12.3.1.170)\n",
      "Requirement already satisfied: nvidia-cusparselt-cu12==0.6.2 in /sise/home/liorkob/.conda/envs/lcp/lib/python3.9/site-packages (from torch) (0.6.2)\n",
      "Requirement already satisfied: nvidia-nccl-cu12==2.21.5 in /sise/home/liorkob/.conda/envs/lcp/lib/python3.9/site-packages (from torch) (2.21.5)\n",
      "Requirement already satisfied: nvidia-nvtx-cu12==12.4.127 in /sise/home/liorkob/.conda/envs/lcp/lib/python3.9/site-packages (from torch) (12.4.127)\n",
      "Requirement already satisfied: nvidia-nvjitlink-cu12==12.4.127 in /sise/home/liorkob/.conda/envs/lcp/lib/python3.9/site-packages (from torch) (12.4.127)\n",
      "Requirement already satisfied: triton==3.2.0 in /sise/home/liorkob/.conda/envs/lcp/lib/python3.9/site-packages (from torch) (3.2.0)\n",
      "Requirement already satisfied: sympy==1.13.1 in /sise/home/liorkob/.conda/envs/lcp/lib/python3.9/site-packages (from torch) (1.13.1)\n",
      "Requirement already satisfied: mpmath<1.4,>=1.1.0 in /sise/home/liorkob/.conda/envs/lcp/lib/python3.9/site-packages (from sympy==1.13.1->torch) (1.3.0)\n",
      "Requirement already satisfied: huggingface-hub<1.0,>=0.24.0 in /sise/home/liorkob/.conda/envs/lcp/lib/python3.9/site-packages (from transformers) (0.28.1)\n",
      "Requirement already satisfied: numpy>=1.17 in /sise/home/liorkob/.conda/envs/lcp/lib/python3.9/site-packages (from transformers) (2.0.2)\n",
      "Requirement already satisfied: packaging>=20.0 in /sise/home/liorkob/.conda/envs/lcp/lib/python3.9/site-packages (from transformers) (24.2)\n",
      "Requirement already satisfied: pyyaml>=5.1 in /sise/home/liorkob/.conda/envs/lcp/lib/python3.9/site-packages (from transformers) (6.0.2)\n",
      "Requirement already satisfied: regex!=2019.12.17 in /sise/home/liorkob/.conda/envs/lcp/lib/python3.9/site-packages (from transformers) (2024.11.6)\n",
      "Requirement already satisfied: requests in /sise/home/liorkob/.conda/envs/lcp/lib/python3.9/site-packages (from transformers) (2.32.3)\n",
      "Requirement already satisfied: tokenizers<0.22,>=0.21 in /sise/home/liorkob/.conda/envs/lcp/lib/python3.9/site-packages (from transformers) (0.21.0)\n",
      "Requirement already satisfied: safetensors>=0.4.1 in /sise/home/liorkob/.conda/envs/lcp/lib/python3.9/site-packages (from transformers) (0.5.2)\n",
      "Requirement already satisfied: tqdm>=4.27 in /sise/home/liorkob/.conda/envs/lcp/lib/python3.9/site-packages (from transformers) (4.67.1)\n",
      "Requirement already satisfied: python-dateutil>=2.8.2 in /sise/home/liorkob/.local/lib/python3.9/site-packages (from pandas) (2.9.0.post0)\n",
      "Requirement already satisfied: pytz>=2020.1 in /sise/home/liorkob/.local/lib/python3.9/site-packages (from pandas) (2024.1)\n",
      "Requirement already satisfied: tzdata>=2022.7 in /sise/home/liorkob/.local/lib/python3.9/site-packages (from pandas) (2024.1)\n",
      "Requirement already satisfied: scipy>=1.6.0 in /sise/home/liorkob/.conda/envs/lcp/lib/python3.9/site-packages (from scikit-learn) (1.13.1)\n",
      "Requirement already satisfied: joblib>=1.2.0 in /sise/home/liorkob/.conda/envs/lcp/lib/python3.9/site-packages (from scikit-learn) (1.4.2)\n",
      "Requirement already satisfied: threadpoolctl>=3.1.0 in /sise/home/liorkob/.conda/envs/lcp/lib/python3.9/site-packages (from scikit-learn) (3.5.0)\n",
      "Requirement already satisfied: six>=1.5 in /sise/home/liorkob/.conda/envs/lcp/lib/python3.9/site-packages (from python-dateutil>=2.8.2->pandas) (1.17.0)\n",
      "Requirement already satisfied: MarkupSafe>=2.0 in /sise/home/liorkob/.conda/envs/lcp/lib/python3.9/site-packages (from jinja2->torch) (3.0.2)\n",
      "Requirement already satisfied: charset-normalizer<4,>=2 in /sise/home/liorkob/.conda/envs/lcp/lib/python3.9/site-packages (from requests->transformers) (3.4.1)\n",
      "Requirement already satisfied: idna<4,>=2.5 in /sise/home/liorkob/.conda/envs/lcp/lib/python3.9/site-packages (from requests->transformers) (3.10)\n",
      "Requirement already satisfied: urllib3<3,>=1.21.1 in /sise/home/liorkob/.conda/envs/lcp/lib/python3.9/site-packages (from requests->transformers) (2.3.0)\n",
      "Requirement already satisfied: certifi>=2017.4.17 in /sise/home/liorkob/.conda/envs/lcp/lib/python3.9/site-packages (from requests->transformers) (2025.1.31)\n"
     ]
    }
   ],
   "source": [
    "!pip install torch transformers pandas scikit-learn\n"
   ]
  },
  {
   "cell_type": "code",
   "execution_count": 38,
   "metadata": {},
   "outputs": [
    {
     "name": "stdout",
     "output_type": "stream",
     "text": [
      "✅ Saved 0 valid paragraph pairs to:\n",
      "/home/liorkob/M.Sc/thesis/data/drugs/verdict_paragraph_pairs.csv\n",
      "🔍 Missing A: 95, Missing B: 103\n"
     ]
    }
   ],
   "source": [
    "import pandas as pd\n",
    "\n",
    "# Load facts CSV\n",
    "facts_df = pd.read_csv(\n",
    "    \"/home/liorkob/M.Sc/thesis/data/drugs/processed_verdicts_with_gpt.csv\",\n",
    "    encoding=\"utf-8-sig\",\n",
    "    quotechar='\"'\n",
    ")\n",
    "\n",
    "# Load similarity CSV\n",
    "pairs_df = pd.read_csv(\n",
    "    \"/home/liorkob/M.Sc/thesis/data/drugs/similarity_gt_drugs.csv\",\n",
    "    encoding=\"utf-8-sig\"\n",
    ")\n",
    "\n",
    "# Clean whitespace\n",
    "facts_df[\"verdict\"] = facts_df[\"verdict\"].astype(str).str.strip()\n",
    "pairs_df[\"verdict_1\"] = pairs_df[\"verdict_1\"].astype(str).str.strip()\n",
    "pairs_df[\"verdict_2\"] = pairs_df[\"verdict_2\"].astype(str).str.strip()\n",
    "\n",
    "# Merge paragraph A\n",
    "merged = pairs_df.merge(\n",
    "    facts_df[[\"verdict\", \"extracted_gpt_facts\"]],\n",
    "    left_on=\"verdict_1\",\n",
    "    right_on=\"verdict\",\n",
    "    how=\"left\"\n",
    ").rename(columns={\"extracted_gpt_facts\": \"verdict_a_paragraph\"}).drop(columns=[\"verdict\"])\n",
    "\n",
    "# Merge paragraph B\n",
    "merged = merged.merge(\n",
    "    facts_df[[\"verdict\", \"extracted_gpt_facts\"]],\n",
    "    left_on=\"verdict_2\",\n",
    "    right_on=\"verdict\",\n",
    "    how=\"left\"\n",
    ").rename(columns={\"extracted_gpt_facts\": \"verdict_b_paragraph\"}).drop(columns=[\"verdict\"])\n",
    "\n",
    "# Rename similarity column\n",
    "merged = merged.rename(columns={\"Similarity\": \"similarity_score\"})\n",
    "\n",
    "# Drop rows with missing paragraphs\n",
    "final_df = merged.dropna(subset=[\"verdict_a_paragraph\", \"verdict_b_paragraph\"])\n",
    "\n",
    "# Save\n",
    "output_path = \"/home/liorkob/M.Sc/thesis/data/drugs/verdict_paragraph_pairs.csv\"\n",
    "final_df[[\"verdict_a_paragraph\", \"verdict_b_paragraph\", \"similarity_score\"]].to_csv(\n",
    "    output_path,\n",
    "    index=False,\n",
    "    encoding=\"utf-8-sig\"\n",
    ")\n",
    "\n",
    "print(f\"✅ Saved {len(final_df)} valid paragraph pairs to:\")\n",
    "print(output_path)\n",
    "missing_a = merged[\"verdict_a_paragraph\"].isna().sum()\n",
    "missing_b = merged[\"verdict_b_paragraph\"].isna().sum()\n",
    "print(f\"🔍 Missing A: {missing_a}, Missing B: {missing_b}\")\n"
   ]
  },
  {
   "cell_type": "code",
   "execution_count": null,
   "metadata": {},
   "outputs": [
    {
     "name": "stdout",
     "output_type": "stream",
     "text": [
      "🔍 Examples from facts_df: ['ME-19-04-31343-39', 'ME-21-03-10139-230']\n",
      "🔍 Examples from pairs_df (verdict_1): ['ME-16-07-11608-225', 'ME-16-11-63255-338', 'ME-16-12-26620-433', 'ME-17-01-59971-328', 'ME-17-01-620-279', 'ME-17-03-30876-747', 'ME-17-03-30876-747', 'ME-17-04-17677-800', 'ME-18-02-5680-55', 'ME-18-02-5680-55']\n",
      "🔍 Examples from pairs_df (verdict_2): ['ME-22-12-47987-640', 'ME-18-01-73652-357', 'ME-16-06-6788-21', 'ME-14-01-16958-980', 'ME-16-12-19902-389', 'SH-23-02-41988-839', 'ME-17-01-59971-328', 'ME-14-01-16958-980', 'ME-22-04-7867-732', 'ME-15-11-31122-886']\n"
     ]
    }
   ],
   "source": []
  },
  {
   "cell_type": "code",
   "execution_count": null,
   "metadata": {},
   "outputs": [],
   "source": [
    "from transformers import AutoTokenizer, AutoModel\n",
    "import torch.nn as nn\n",
    "import torch.nn.functional as F\n",
    "\n",
    "class SiameseHeBERT(nn.Module):\n",
    "    def __init__(self, model_name='avichr/heBERT'):\n",
    "        super().__init__()\n",
    "        self.encoder = AutoModel.from_pretrained(model_name)\n",
    "        self.pool = lambda x: x.last_hidden_state[:, 0]  # [CLS]\n",
    "\n",
    "    def forward(self, ids_a, mask_a, ids_b, mask_b):\n",
    "        vec_a = self.pool(self.encoder(input_ids=ids_a, attention_mask=mask_a))\n",
    "        vec_b = self.pool(self.encoder(input_ids=ids_b, attention_mask=mask_b))\n",
    "        sim = F.cosine_similarity(vec_a, vec_b)\n",
    "        return sim\n"
   ]
  },
  {
   "cell_type": "code",
   "execution_count": null,
   "metadata": {},
   "outputs": [],
   "source": [
    "from torch.utils.data import Dataset\n",
    "import torch\n",
    "\n",
    "class VerdictDataset(Dataset):\n",
    "    def __init__(self, df, tokenizer, max_len=128):\n",
    "        self.df = df.copy()\n",
    "        self.tokenizer = tokenizer\n",
    "        self.max_len = max_len\n",
    "        # Normalize score: 1 → 0.0, 2 → 0.5, 3 → 1.0\n",
    "        self.df['norm_score'] = (df['similarity_score'] - 1) / 2\n",
    "\n",
    "    def __len__(self):\n",
    "        return len(self.df)\n",
    "\n",
    "    def __getitem__(self, idx):\n",
    "        row = self.df.iloc[idx]\n",
    "        enc_a = self.tokenizer(row['verdict_a_paragraph'], truncation=True, padding='max_length',\n",
    "                               max_length=self.max_len, return_tensors='pt')\n",
    "        enc_b = self.tokenizer(row['verdict_b_paragraph'], truncation=True, padding='max_length',\n",
    "                               max_length=self.max_len, return_tensors='pt')\n",
    "        return {\n",
    "            'input_ids_a': enc_a['input_ids'].squeeze(),\n",
    "            'attention_mask_a': enc_a['attention_mask'].squeeze(),\n",
    "            'input_ids_b': enc_b['input_ids'].squeeze(),\n",
    "            'attention_mask_b': enc_b['attention_mask'].squeeze(),\n",
    "            'label': torch.tensor(row['norm_score'], dtype=torch.float)\n",
    "        }\n"
   ]
  },
  {
   "cell_type": "code",
   "execution_count": null,
   "metadata": {},
   "outputs": [],
   "source": [
    "from torch.optim import Adam\n",
    "from tqdm import tqdm\n",
    "import torch.nn as nn\n",
    "\n",
    "def train(model, dataloader, optimizer, device):\n",
    "    model.train()\n",
    "    loss_fn = nn.MSELoss()\n",
    "\n",
    "    for batch in tqdm(dataloader):\n",
    "        for key in batch:\n",
    "            batch[key] = batch[key].to(device)\n",
    "\n",
    "        pred = model(batch['input_ids_a'], batch['attention_mask_a'],\n",
    "                     batch['input_ids_b'], batch['attention_mask_b'])\n",
    "\n",
    "        loss = loss_fn(pred, batch['label'])\n",
    "        optimizer.zero_grad()\n",
    "        loss.backward()\n",
    "        optimizer.step()\n",
    "        print(f\"Loss: {loss.item():.4f}\")\n"
   ]
  },
  {
   "cell_type": "code",
   "execution_count": null,
   "metadata": {},
   "outputs": [],
   "source": [
    "import pandas as pd\n",
    "from torch.utils.data import DataLoader\n",
    "\n",
    "df = pd.read_csv('/home/liorkob/M.Sc/thesis/data/drugs/verdict_paragraph_pairs.csv')  # with columns: verdict_a_paragraph, verdict_b_paragraph, similarity_score\n",
    "tokenizer = AutoTokenizer.from_pretrained('avichr/heBERT')\n",
    "dataset = VerdictDataset(df, tokenizer)\n",
    "loader = DataLoader(dataset, batch_size=8, shuffle=True)\n",
    "\n",
    "device = torch.device(\"cuda\" if torch.cuda.is_available() else \"cpu\")\n",
    "model = SiameseHeBERT().to(device)\n",
    "optimizer = Adam(model.parameters(), lr=2e-5)\n",
    "\n",
    "train(model, loader, optimizer, device)\n"
   ]
  },
  {
   "cell_type": "code",
   "execution_count": null,
   "metadata": {},
   "outputs": [],
   "source": [
    "model.eval()\n",
    "with torch.no_grad():\n",
    "    sim = model(ids_a, mask_a, ids_b, mask_b)\n",
    "    pred_score = 1 + sim.item() * 2  # Convert [0,1] back to [1,3]\n",
    "    print(f\"Predicted similarity score: {pred_score:.2f}\")\n"
   ]
  }
 ],
 "metadata": {
  "kernelspec": {
   "display_name": "lcp",
   "language": "python",
   "name": "python3"
  },
  "language_info": {
   "codemirror_mode": {
    "name": "ipython",
    "version": 3
   },
   "file_extension": ".py",
   "mimetype": "text/x-python",
   "name": "python",
   "nbconvert_exporter": "python",
   "pygments_lexer": "ipython3",
   "version": "3.9.21"
  }
 },
 "nbformat": 4,
 "nbformat_minor": 2
}
