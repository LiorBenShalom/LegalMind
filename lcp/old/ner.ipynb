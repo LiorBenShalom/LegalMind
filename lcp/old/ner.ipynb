{
 "cells": [
  {
   "cell_type": "code",
   "execution_count": 4,
   "metadata": {},
   "outputs": [
    {
     "name": "stdout",
     "output_type": "stream",
     "text": [
      "Requirement already satisfied: transformers in /sise/home/liorkob/.conda/envs/lcp/lib/python3.9/site-packages (4.47.1)\n",
      "Requirement already satisfied: filelock in /sise/home/liorkob/.local/lib/python3.9/site-packages (from transformers) (3.15.1)\n",
      "Requirement already satisfied: huggingface-hub<1.0,>=0.24.0 in /sise/home/liorkob/.conda/envs/lcp/lib/python3.9/site-packages (from transformers) (0.27.0)\n",
      "Requirement already satisfied: numpy>=1.17 in /sise/home/liorkob/.conda/envs/lcp/lib/python3.9/site-packages (from transformers) (2.0.2)\n",
      "Requirement already satisfied: packaging>=20.0 in /sise/home/liorkob/.local/lib/python3.9/site-packages (from transformers) (23.2)\n",
      "Requirement already satisfied: pyyaml>=5.1 in /sise/home/liorkob/.conda/envs/lcp/lib/python3.9/site-packages (from transformers) (6.0.2)\n",
      "Requirement already satisfied: regex!=2019.12.17 in /sise/home/liorkob/.local/lib/python3.9/site-packages (from transformers) (2024.5.15)\n",
      "Requirement already satisfied: requests in /sise/home/liorkob/.conda/envs/lcp/lib/python3.9/site-packages (from transformers) (2.32.3)\n",
      "Requirement already satisfied: tokenizers<0.22,>=0.21 in /sise/home/liorkob/.conda/envs/lcp/lib/python3.9/site-packages (from transformers) (0.21.0)\n",
      "Requirement already satisfied: safetensors>=0.4.1 in /sise/home/liorkob/.conda/envs/lcp/lib/python3.9/site-packages (from transformers) (0.4.5)\n",
      "Requirement already satisfied: tqdm>=4.27 in /sise/home/liorkob/.conda/envs/lcp/lib/python3.9/site-packages (from transformers) (4.67.1)\n",
      "Requirement already satisfied: fsspec>=2023.5.0 in /sise/home/liorkob/.local/lib/python3.9/site-packages (from huggingface-hub<1.0,>=0.24.0->transformers) (2024.6.0)\n",
      "Requirement already satisfied: typing-extensions>=3.7.4.3 in /sise/home/liorkob/.local/lib/python3.9/site-packages (from huggingface-hub<1.0,>=0.24.0->transformers) (4.12.2)\n",
      "Requirement already satisfied: charset-normalizer<4,>=2 in /sise/home/liorkob/.conda/envs/lcp/lib/python3.9/site-packages (from requests->transformers) (3.4.1)\n",
      "Requirement already satisfied: idna<4,>=2.5 in /sise/home/liorkob/.conda/envs/lcp/lib/python3.9/site-packages (from requests->transformers) (3.10)\n",
      "Requirement already satisfied: urllib3<3,>=1.21.1 in /sise/home/liorkob/.conda/envs/lcp/lib/python3.9/site-packages (from requests->transformers) (2.3.0)\n",
      "Requirement already satisfied: certifi>=2017.4.17 in /sise/home/liorkob/.conda/envs/lcp/lib/python3.9/site-packages (from requests->transformers) (2024.12.14)\n"
     ]
    }
   ],
   "source": [
    "!pip install transformers\n"
   ]
  },
  {
   "cell_type": "code",
   "execution_count": 5,
   "metadata": {},
   "outputs": [],
   "source": [
    "from transformers import AutoTokenizer, AutoModelForTokenClassification, pipeline\n",
    "import os\n",
    "from docx import Document\n",
    "import torch\n",
    "import csv\n",
    "import requests\n",
    "from tqdm import tqdm\n"
   ]
  },
  {
   "cell_type": "code",
   "execution_count": 14,
   "metadata": {},
   "outputs": [
    {
     "name": "stdout",
     "output_type": "stream",
     "text": [
      "{0: 'B-ANG', 1: 'B-DUC', 2: 'B-EVE', 3: 'B-FAC', 4: 'B-GPE', 5: 'B-LOC', 6: 'B-ORG', 7: 'B-PER', 8: 'B-WOA', 9: 'B-INFORMAL', 10: 'B-MISC', 11: 'B-TIMEX', 12: 'B-TTL', 13: 'I-DUC', 14: 'I-EVE', 15: 'I-FAC', 16: 'I-GPE', 17: 'I-LOC', 18: 'I-ORG', 19: 'I-PER', 20: 'I-WOA', 21: 'I-ANG', 22: 'I-INFORMAL', 23: 'I-MISC', 24: 'I-TIMEX', 25: 'I-TTL', 26: 'O'}\n"
     ]
    }
   ],
   "source": [
    "from transformers import AutoConfig\n",
    "\n",
    "# Load the model's configuration\n",
    "config = AutoConfig.from_pretrained(\"dicta-il/dictabert-ner\")\n",
    "\n",
    "# Print the label mapping\n",
    "print(config.id2label)\n"
   ]
  },
  {
   "cell_type": "code",
   "execution_count": null,
   "metadata": {},
   "outputs": [
    {
     "name": "stderr",
     "output_type": "stream",
     "text": [
      "Some weights of BertForTokenClassification were not initialized from the model checkpoint at avichr/Legal-heBERT and are newly initialized: ['classifier.bias', 'classifier.weight']\n",
      "You should probably TRAIN this model on a down-stream task to be able to use it for predictions and inference.\n",
      "Device set to use cuda:0\n"
     ]
    }
   ],
   "source": [
    "from tokenizers.decoders import WordPiece\n",
    "\n",
    "# Load tokenizer and model\n",
    "# tokenizer = AutoTokenizer.from_pretrained(\"avichr/Legal-heBERT\")\n",
    "model = AutoModelForTokenClassification.from_pretrained(\"avichr/Legal-heBERT\")\n",
    "\n",
    "# Create an NER pipeline\n",
    "# ner_pipeline = pipeline(\"ner\", model=model, tokenizer=tokenizer, aggregation_strategy=\"simple\")\n",
    "oracle = pipeline('ner', model='dicta-il/dictabert-ner', device=0, aggregation_strategy='simple')\n",
    "oracle.tokenizer.backend_tokenizer.decoder = WordPiece()\n"
   ]
  },
  {
   "cell_type": "code",
   "execution_count": 17,
   "metadata": {},
   "outputs": [
    {
     "name": "stderr",
     "output_type": "stream",
     "text": [
      "Device set to use cuda:0\n",
      "Processing files:   2%|▏         | 1/55 [00:01<01:16,  1.42s/it]"
     ]
    },
    {
     "name": "stdout",
     "output_type": "stream",
     "text": [
      "\n",
      "Results for ME-15-08-54962-361.docx:\n",
      "Entity: השופט, Label: TTL\n",
      "Entity: אב\"ד, Label: TTL\n",
      "Entity: עו\"ד, Label: TTL\n",
      "Entity: עו\"ד, Label: TTL\n",
      "Entity: עו\"ד, Label: TTL\n",
      "Entity: עו\"ד, Label: TTL\n",
      "Entity: עו\"ד, Label: TTL\n",
      "Entity: כב', Label: TTL\n",
      "Entity: השופטת, Label: TTL\n",
      "Entity: 05, Label: TTL\n",
      "Entity: השופט, Label: TTL\n",
      "Entity: השופט, Label: TTL\n",
      "Entity: השופט, Label: TTL\n",
      "Entity: השופטת, Label: TTL\n",
      "Entity: השופט, Label: TTL\n",
      "Entity: השופטת, Label: TTL\n"
     ]
    },
    {
     "name": "stderr",
     "output_type": "stream",
     "text": [
      "Processing files:   4%|▎         | 2/55 [00:02<00:57,  1.09s/it]"
     ]
    },
    {
     "name": "stdout",
     "output_type": "stream",
     "text": [
      "\n",
      "Results for ME-15-09-40313-52.docx:\n",
      "Entity: עו\"ד, Label: TTL\n",
      "Entity: עוה\"ד, Label: TTL\n",
      "Entity: סמנכ\"ל, Label: TTL\n",
      "Entity: עו\"ד, Label: TTL\n",
      "Entity: עוה\"ד, Label: TTL\n",
      "Entity: קרל גוסטב, Label: DUC\n",
      "Entity: כב', Label: TTL\n",
      "Entity: השופטת, Label: TTL\n",
      "Entity: כב', Label: TTL\n",
      "Entity: השופט, Label: TTL\n",
      "Entity: וכב ' השופטת, Label: TTL\n",
      "Entity: mp, Label: DUC\n",
      "Entity: קרל גוסטב, Label: DUC\n",
      "Entity: קרלו, Label: DUC\n"
     ]
    },
    {
     "name": "stderr",
     "output_type": "stream",
     "text": [
      "Processing files:   5%|▌         | 3/55 [00:03<00:52,  1.02s/it]"
     ]
    },
    {
     "name": "stdout",
     "output_type": "stream",
     "text": [
      "\n",
      "Results for ME-16-02-42291-618.docx:\n",
      "Entity: רובה סער 4, Label: DUC\n",
      "Entity: 16, Label: DUC\n",
      "Entity: 4, Label: DUC\n",
      "Entity: 16, Label: DUC\n",
      "Entity: 4, Label: DUC\n",
      "Entity: 16, Label: DUC\n",
      "Entity: 16, Label: DUC\n",
      "Entity: 4, Label: DUC\n",
      "Entity: 16, Label: DUC\n",
      "Entity: כב' השופטת, Label: TTL\n",
      "Entity: קרל גוסטב, Label: DUC\n",
      "Entity: נשיאת, Label: TTL\n"
     ]
    },
    {
     "name": "stderr",
     "output_type": "stream",
     "text": [
      "Processing files:   7%|▋         | 4/55 [00:04<00:54,  1.08s/it]"
     ]
    },
    {
     "name": "stdout",
     "output_type": "stream",
     "text": [
      "\n",
      "Results for ME-16-02-59812-881.docx:\n",
      "Entity: עו\"ד, Label: TTL\n",
      "Entity: עו\"ד, Label: TTL\n",
      "Entity: תארו, Label: DUC\n",
      "Entity: מר, Label: TTL\n",
      "Entity: עו\"ד, Label: TTL\n",
      "Entity: ב\"כ, Label: TTL\n",
      "Entity: עו\"ד, Label: TTL\n",
      "Entity: כב' השופט, Label: TTL\n",
      "Entity: פרקליט המדינה, Label: TTL\n",
      "Entity: קרל גוסטב, Label: DUC\n",
      "Entity: יריחו, Label: DUC\n",
      "Entity: קרלו, Label: DUC\n",
      "Entity: פרופ', Label: TTL\n",
      "Entity: כב' הנשיא, Label: TTL\n",
      "Entity: לשרת המשפטים, Label: TTL\n",
      "Entity: שר, Label: TTL\n",
      "Entity: והשר לביטחון פנים, Label: TTL\n"
     ]
    },
    {
     "name": "stderr",
     "output_type": "stream",
     "text": [
      "Token indices sequence length is longer than the specified maximum sequence length for this model (529 > 512). Running this sequence through the model will result in indexing errors\n",
      "Processing files:   9%|▉         | 5/55 [00:05<01:01,  1.23s/it]"
     ]
    },
    {
     "name": "stdout",
     "output_type": "stream",
     "text": [
      "\n",
      "Results for ME-16-05-33009-930.docx:\n",
      "Entity: פרקליט המדינה, Label: TTL\n",
      "Entity: ד\"ר, Label: TTL\n",
      "Entity: ביוטיוב, Label: DUC\n",
      "Entity: השופט, Label: TTL\n",
      "Entity: פרקליט המדינה, Label: TTL\n",
      "Entity: מד\"ר, Label: TTL\n",
      "Entity: ד\"ר, Label: TTL\n",
      "Entity: ד\"ר, Label: TTL\n",
      "Entity: הסניגור, Label: TTL\n",
      "Entity: קצין, Label: TTL\n",
      "Entity: קצין, Label: TTL\n",
      "Entity: ד\"ר, Label: TTL\n",
      "Entity: ד\"ר, Label: TTL\n"
     ]
    },
    {
     "name": "stderr",
     "output_type": "stream",
     "text": [
      "Processing files:  11%|█         | 6/55 [00:06<00:47,  1.03it/s]"
     ]
    },
    {
     "name": "stdout",
     "output_type": "stream",
     "text": [
      "\n",
      "Results for ME-16-06-11786-780.docx:\n",
      "Entity: פרקליט המדינה, Label: TTL\n"
     ]
    },
    {
     "name": "stderr",
     "output_type": "stream",
     "text": [
      "Processing files:  13%|█▎        | 7/55 [00:07<00:49,  1.03s/it]"
     ]
    },
    {
     "name": "stdout",
     "output_type": "stream",
     "text": [
      "\n",
      "Results for ME-16-07-41855-64.docx:\n",
      "Entity: קרל גוסטב, Label: DUC\n",
      "Entity: פרקליט המדינה, Label: TTL\n",
      "Entity: כב' השופטת, Label: TTL\n",
      "Entity: פרקליט המדינה, Label: TTL\n",
      "Entity: כב' השופטת, Label: TTL\n",
      "Entity: כב' השופט ( כתוארו אז ), Label: TTL\n",
      "Entity: השופטת, Label: TTL\n",
      "Entity: קרל גוסטב, Label: DUC\n",
      "Entity: רוס, Label: DUC\n",
      "Entity: m1, Label: DUC\n"
     ]
    },
    {
     "name": "stderr",
     "output_type": "stream",
     "text": [
      "Processing files:  15%|█▍        | 8/55 [00:08<00:52,  1.12s/it]"
     ]
    },
    {
     "name": "stdout",
     "output_type": "stream",
     "text": [
      "\n",
      "Results for ME-16-08-229-604.docx:\n",
      "Entity: m1, Label: DUC\n",
      "Entity: m1, Label: DUC\n",
      "Entity: m1, Label: DUC\n",
      "Entity: m1, Label: DUC\n",
      "Entity: ב\"כ המאשימה, Label: TTL\n",
      "Entity: ב\"כ המאשימה, Label: TTL\n",
      "Entity: m1, Label: DUC\n",
      "Entity: השופטת, Label: TTL\n",
      "Entity: m1, Label: DUC\n"
     ]
    },
    {
     "name": "stderr",
     "output_type": "stream",
     "text": [
      "Processing files:  16%|█▋        | 9/55 [00:09<00:46,  1.02s/it]"
     ]
    },
    {
     "name": "stdout",
     "output_type": "stream",
     "text": [
      "\n",
      "Results for ME-17-02-48435-315.docx:\n",
      "Entity: עו\"ד, Label: TTL\n",
      "Entity: עו\"ד, Label: TTL\n",
      "Entity: עו\"ד, Label: TTL\n",
      "Entity: עו\"ד, Label: TTL\n",
      "Entity: כב' השופט, Label: TTL\n",
      "Entity: כב' השופט, Label: TTL\n",
      "Entity: כב' השופט, Label: TTL\n"
     ]
    },
    {
     "name": "stderr",
     "output_type": "stream",
     "text": [
      "Processing files:  18%|█▊        | 10/55 [00:10<00:40,  1.12it/s]"
     ]
    },
    {
     "name": "stdout",
     "output_type": "stream",
     "text": [
      "\n",
      "Results for ME-16-10-16420-262.docx:\n",
      "Entity: גלוק, Label: DUC\n"
     ]
    },
    {
     "name": "stderr",
     "output_type": "stream",
     "text": [
      "Processing files:  20%|██        | 11/55 [00:11<00:40,  1.08it/s]"
     ]
    },
    {
     "name": "stdout",
     "output_type": "stream",
     "text": [
      "\n",
      "Results for ME-17-02-51038-581.docx:\n",
      "Entity: קרל גוסטב, Label: DUC\n",
      "Entity: קרל גוסטב, Label: DUC\n",
      "Entity: קארל גוסטב, Label: DUC\n",
      "Entity: עו\"ד, Label: TTL\n"
     ]
    },
    {
     "name": "stderr",
     "output_type": "stream",
     "text": [
      "Processing files:  22%|██▏       | 12/55 [00:12<00:39,  1.08it/s]"
     ]
    },
    {
     "name": "stdout",
     "output_type": "stream",
     "text": [
      "\n",
      "Results for ME-17-03-1995-297.docx:\n",
      "Entity: m - 16, Label: DUC\n",
      "Entity: מק, Label: DUC\n",
      "Entity: m - 16, Label: DUC\n",
      "Entity: m - 16, Label: DUC\n",
      "Entity: קלצ ' ניקוב, Label: DUC\n"
     ]
    },
    {
     "name": "stderr",
     "output_type": "stream",
     "text": [
      "Processing files:  24%|██▎       | 13/55 [00:12<00:37,  1.13it/s]"
     ]
    },
    {
     "name": "stdout",
     "output_type": "stream",
     "text": [
      "\n",
      "Results for ME-17-03-26417-129.docx:\n",
      "Entity: m1, Label: DUC\n",
      "Entity: m1, Label: DUC\n",
      "Entity: m1, Label: DUC\n",
      "Entity: השופטת, Label: TTL\n",
      "Entity: כב' השופט, Label: TTL\n",
      "Entity: השופט, Label: TTL\n"
     ]
    },
    {
     "name": "stderr",
     "output_type": "stream",
     "text": [
      "Processing files:  25%|██▌       | 14/55 [00:14<00:42,  1.04s/it]"
     ]
    },
    {
     "name": "stdout",
     "output_type": "stream",
     "text": [
      "\n",
      "Results for ME-17-04-21139-452.docx:\n",
      "Entity: פרקליט המדינה, Label: TTL\n",
      "Entity: c - 4, Label: DUC\n",
      "Entity: השופט, Label: TTL\n"
     ]
    },
    {
     "name": "stderr",
     "output_type": "stream",
     "text": [
      "Processing files:  27%|██▋       | 15/55 [00:15<00:43,  1.10s/it]"
     ]
    },
    {
     "name": "stdout",
     "output_type": "stream",
     "text": [
      "\n",
      "Results for ME-17-04-30875-798.docx:\n",
      "Entity: כב' סגן הנשיאה, Label: TTL\n",
      "Entity: השופט, Label: TTL\n",
      "Entity: אב\"ד, Label: TTL\n",
      "Entity: כב', Label: TTL\n",
      "Entity: השופט, Label: TTL\n",
      "Entity: כב', Label: TTL\n",
      "Entity: השופט, Label: TTL\n",
      "Entity: ס . נשיאה -, Label: TTL\n",
      "Entity: כסגן מנהל סניף באר שבע, Label: TTL\n",
      "Entity: כסגן מנהל סניף, Label: TTL\n",
      "Entity: קרלו, Label: DUC\n",
      "Entity: קרלו, Label: DUC\n",
      "Entity: כב' השופטת, Label: TTL\n",
      "Entity: m - 16, Label: DUC\n",
      "Entity: s & w, Label: DUC\n"
     ]
    },
    {
     "name": "stderr",
     "output_type": "stream",
     "text": [
      "Processing files:  29%|██▉       | 16/55 [00:16<00:44,  1.13s/it]"
     ]
    },
    {
     "name": "stdout",
     "output_type": "stream",
     "text": [
      "\n",
      "Results for ME-17-04-45561-926.docx:\n",
      "Entity: עו\"ד, Label: TTL\n",
      "Entity: עו\"ד, Label: TTL\n",
      "Entity: דייה, Label: DUC\n",
      "Entity: מר, Label: TTL\n",
      "Entity: הרב, Label: TTL\n",
      "Entity: מר, Label: TTL\n",
      "Entity: הרב, Label: TTL\n",
      "Entity: מר, Label: TTL\n",
      "Entity: עו\"ד, Label: TTL\n",
      "Entity: עו\"ד, Label: TTL\n",
      "Entity: כבוד, Label: TTL\n",
      "Entity: כב', Label: TTL\n",
      "Entity: השופטת, Label: TTL\n"
     ]
    },
    {
     "name": "stderr",
     "output_type": "stream",
     "text": [
      "Processing files:  31%|███       | 17/55 [00:17<00:43,  1.15s/it]"
     ]
    },
    {
     "name": "stdout",
     "output_type": "stream",
     "text": [
      "\n",
      "Results for ME-17-04-613-913.docx:\n",
      "Entity: עו\"ד, Label: TTL\n",
      "Entity: עו\"ד, Label: TTL\n",
      "Entity: מאזדה, Label: DUC\n",
      "Entity: ברטה, Label: DUC\n",
      "Entity: קליבר 9 מ\"מ פארא, Label: DUC\n",
      "Entity: עו\"ד, Label: TTL\n",
      "Entity: עו\"ד, Label: TTL\n"
     ]
    },
    {
     "name": "stderr",
     "output_type": "stream",
     "text": [
      "Processing files:  33%|███▎      | 18/55 [00:19<00:44,  1.20s/it]"
     ]
    },
    {
     "name": "stdout",
     "output_type": "stream",
     "text": [
      "\n",
      "Results for ME-17-05-395-224.docx:\n",
      "Entity: פרקליט המדינה, Label: TTL\n",
      "Entity: מר, Label: TTL\n",
      "Entity: כבוד השופט, Label: TTL\n",
      "Entity: כבוד השופטת, Label: TTL\n",
      "Entity: m - 4, Label: DUC\n",
      "Entity: מאג, Label: DUC\n",
      "Entity: קלצ ' ניקוב, Label: DUC\n",
      "Entity: m1, Label: DUC\n",
      "Entity: קרל גוסטב, Label: DUC\n",
      "Entity: קרל גוסטב, Label: DUC\n"
     ]
    },
    {
     "name": "stderr",
     "output_type": "stream",
     "text": [
      "Processing files:  35%|███▍      | 19/55 [00:20<00:39,  1.11s/it]"
     ]
    },
    {
     "name": "stdout",
     "output_type": "stream",
     "text": [
      "\n",
      "Results for ME-17-05-45747-167.docx:\n",
      "Entity: עו\"ד, Label: TTL\n",
      "Entity: עו\"ד, Label: TTL\n"
     ]
    },
    {
     "name": "stderr",
     "output_type": "stream",
     "text": [
      "Processing files:  36%|███▋      | 20/55 [00:21<00:38,  1.10s/it]"
     ]
    },
    {
     "name": "stdout",
     "output_type": "stream",
     "text": [
      "\n",
      "Results for ME-17-05-522-895.docx:\n",
      "Entity: עו\"ד, Label: TTL\n",
      "Entity: עו\"ד, Label: TTL\n",
      "Entity: קרל גוסטב, Label: DUC\n",
      "Entity: הקר, Label: DUC\n",
      "Entity: הקר, Label: DUC\n",
      "Entity: הקר, Label: DUC\n",
      "Entity: סירקיס, Label: DUC\n",
      "Entity: fn, Label: DUC\n",
      "Entity: חלו, Label: DUC\n",
      "Entity: ko, Label: DUC\n",
      "Entity: & he, Label: DUC\n",
      "Entity: מודל, Label: DUC\n",
      "Entity: p, Label: DUC\n",
      "Entity: c, Label: DUC\n",
      "Entity: ד\"ר, Label: TTL\n",
      "Entity: ד\"ר, Label: TTL\n",
      "Entity: מר, Label: TTL\n",
      "Entity: הגב', Label: TTL\n",
      "Entity: השופט, Label: TTL\n",
      "Entity: קרל גוסטב, Label: DUC\n",
      "Entity: m - 16, Label: DUC\n",
      "Entity: fn, Label: DUC\n"
     ]
    },
    {
     "name": "stderr",
     "output_type": "stream",
     "text": [
      "Processing files:  38%|███▊      | 21/55 [00:22<00:37,  1.10s/it]"
     ]
    },
    {
     "name": "stdout",
     "output_type": "stream",
     "text": [
      "\n",
      "Results for ME-17-05-57618-514.docx:\n",
      "Entity: פרקליט המדינה, Label: TTL\n"
     ]
    },
    {
     "name": "stderr",
     "output_type": "stream",
     "text": [
      "Processing files:  40%|████      | 22/55 [00:23<00:33,  1.03s/it]"
     ]
    },
    {
     "name": "stdout",
     "output_type": "stream",
     "text": [
      "\n",
      "Results for ME-17-05-633-549.docx:\n",
      "Entity: קרלו - גוסטב, Label: DUC\n",
      "Entity: הקר, Label: DUC\n",
      "Entity: סירקיס, Label: DUC\n",
      "Entity: פרקליט המדינה, Label: TTL\n",
      "Entity: פרקליט המדינה, Label: TTL\n",
      "Entity: קרלו, Label: DUC\n",
      "Entity: הקר, Label: DUC\n"
     ]
    },
    {
     "name": "stderr",
     "output_type": "stream",
     "text": [
      "Processing files:  42%|████▏     | 23/55 [00:24<00:31,  1.02it/s]"
     ]
    },
    {
     "name": "stdout",
     "output_type": "stream",
     "text": [
      "\n",
      "Results for ME-17-06-17856-893.docx:\n",
      "Entity: כב' השופטת, Label: TTL\n",
      "Entity: כב' השופטת, Label: TTL\n",
      "Entity: כב' השופט ( כתוארו אז ), Label: TTL\n",
      "Entity: השופטת, Label: TTL\n",
      "Entity: m - 4, Label: DUC\n"
     ]
    },
    {
     "name": "stderr",
     "output_type": "stream",
     "text": [
      "Processing files:  44%|████▎     | 24/55 [00:25<00:34,  1.10s/it]"
     ]
    },
    {
     "name": "stdout",
     "output_type": "stream",
     "text": [
      "\n",
      "Results for ME-17-06-31034-933.docx:\n",
      "Entity: יונדאי, Label: DUC\n",
      "Entity: רס, Label: TTL\n",
      "Entity: רס, Label: TTL\n",
      "Entity: רס, Label: TTL\n",
      "Entity: עו\"ד, Label: TTL\n",
      "Entity: השוטר, Label: TTL\n",
      "Entity: השוטר, Label: TTL\n",
      "Entity: עו\"ד, Label: TTL\n",
      "Entity: כב', Label: TTL\n",
      "Entity: השופטת, Label: TTL\n",
      "Entity: כב' השופט, Label: TTL\n",
      "Entity: גלוק, Label: DUC\n",
      "Entity: מאזדה, Label: DUC\n"
     ]
    },
    {
     "name": "stderr",
     "output_type": "stream",
     "text": [
      "Processing files:  45%|████▌     | 25/55 [00:26<00:29,  1.01it/s]"
     ]
    },
    {
     "name": "stdout",
     "output_type": "stream",
     "text": [
      "\n",
      "Results for ME-17-06-52219-192.docx:\n",
      "Entity: כב' השופטת, Label: TTL\n",
      "Entity: כב' השופט, Label: TTL\n"
     ]
    },
    {
     "name": "stderr",
     "output_type": "stream",
     "text": [
      "Processing files:  47%|████▋     | 26/55 [00:26<00:26,  1.08it/s]"
     ]
    },
    {
     "name": "stdout",
     "output_type": "stream",
     "text": [
      "\n",
      "Results for ME-17-06-55670-340.docx:\n",
      "Entity: קרל גוסטב, Label: DUC\n",
      "Entity: השופט, Label: TTL\n"
     ]
    },
    {
     "name": "stderr",
     "output_type": "stream",
     "text": [
      "Processing files:  49%|████▉     | 27/55 [00:27<00:26,  1.06it/s]"
     ]
    },
    {
     "name": "stdout",
     "output_type": "stream",
     "text": [
      "\n",
      "Results for ME-17-07-45713-955.docx:\n",
      "Entity: עו\"ד, Label: TTL\n",
      "Entity: עו\"ד, Label: TTL\n",
      "Entity: קיה פיק ##נטו, Label: DUC\n",
      "Entity: fn, Label: DUC\n",
      "Entity: ברטה, Label: DUC\n",
      "Entity: עו\"ד, Label: TTL\n",
      "Entity: עו\"ד, Label: TTL\n"
     ]
    },
    {
     "name": "stderr",
     "output_type": "stream",
     "text": [
      "Processing files:  51%|█████     | 28/55 [00:28<00:25,  1.06it/s]"
     ]
    },
    {
     "name": "stdout",
     "output_type": "stream",
     "text": [
      "\n",
      "Results for ME-17-07-520-371.docx:\n",
      "Entity: קאיה, Label: DUC\n",
      "Entity: כב', Label: TTL\n",
      "Entity: השופט, Label: TTL\n"
     ]
    },
    {
     "name": "stderr",
     "output_type": "stream",
     "text": [
      "Processing files:  53%|█████▎    | 29/55 [00:30<00:26,  1.03s/it]"
     ]
    },
    {
     "name": "stdout",
     "output_type": "stream",
     "text": [
      "\n",
      "Results for ME-17-08-28615-573.docx:\n",
      "Entity: פרקליט המדינה, Label: TTL\n"
     ]
    },
    {
     "name": "stderr",
     "output_type": "stream",
     "text": [
      "Processing files:  55%|█████▍    | 30/55 [00:31<00:29,  1.16s/it]"
     ]
    },
    {
     "name": "stdout",
     "output_type": "stream",
     "text": [
      "\n",
      "Results for ME-17-08-13632-55.docx:\n",
      "Entity: עו\"ד, Label: TTL\n",
      "Entity: עו\"ד, Label: TTL\n",
      "Entity: ועו\"ד, Label: TTL\n",
      "Entity: כב' השופטת, Label: TTL\n",
      "Entity: כב', Label: TTL\n",
      "Entity: השופט, Label: TTL\n",
      "Entity: קרלו, Label: DUC\n",
      "Entity: 16, Label: DUC\n"
     ]
    },
    {
     "name": "stderr",
     "output_type": "stream",
     "text": [
      "Processing files:  56%|█████▋    | 31/55 [00:32<00:25,  1.08s/it]"
     ]
    },
    {
     "name": "stdout",
     "output_type": "stream",
     "text": [
      "\n",
      "Results for ME-17-08-47161-136.docx:\n",
      "Entity: עו\"ד, Label: TTL\n",
      "Entity: עו\"ד, Label: TTL\n",
      "Entity: קרל גוסטב, Label: DUC\n",
      "Entity: מזדה, Label: DUC\n",
      "Entity: הנשיאה, Label: TTL\n"
     ]
    },
    {
     "name": "stderr",
     "output_type": "stream",
     "text": [
      "Processing files:  58%|█████▊    | 32/55 [00:33<00:26,  1.15s/it]"
     ]
    },
    {
     "name": "stdout",
     "output_type": "stream",
     "text": [
      "\n",
      "Results for ME-17-08-50556-55.docx:\n",
      "Entity: ברטה, Label: DUC\n",
      "Entity: כב', Label: TTL\n",
      "Entity: השופטת, Label: TTL\n",
      "Entity: כב', Label: TTL\n",
      "Entity: השופט, Label: TTL\n",
      "Entity: קרלו, Label: DUC\n",
      "Entity: ברטה, Label: DUC\n",
      "Entity: כב' השופט, Label: TTL\n"
     ]
    },
    {
     "name": "stderr",
     "output_type": "stream",
     "text": [
      "Processing files:  60%|██████    | 33/55 [00:34<00:20,  1.05it/s]"
     ]
    },
    {
     "name": "stdout",
     "output_type": "stream",
     "text": [
      "\n",
      "Results for ME-17-09-31661-744.docx:\n"
     ]
    },
    {
     "name": "stderr",
     "output_type": "stream",
     "text": [
      "Processing files:  62%|██████▏   | 34/55 [00:34<00:17,  1.19it/s]"
     ]
    },
    {
     "name": "stdout",
     "output_type": "stream",
     "text": [
      "\n",
      "Results for ME-17-09-34413-331.docx:\n",
      "Entity: עו\"ד, Label: TTL\n",
      "Entity: עו\"ד, Label: TTL\n",
      "Entity: מעו\"ד, Label: TTL\n",
      "Entity: כב', Label: TTL\n",
      "Entity: הנשיאה, Label: TTL\n"
     ]
    },
    {
     "name": "stderr",
     "output_type": "stream",
     "text": [
      "Processing files:  64%|██████▎   | 35/55 [00:36<00:18,  1.07it/s]"
     ]
    },
    {
     "name": "stdout",
     "output_type": "stream",
     "text": [
      "\n",
      "Results for ME-17-09-38154-771.docx:\n",
      "Entity: קרלו, Label: DUC\n",
      "Entity: 16 -, Label: DUC\n"
     ]
    },
    {
     "name": "stderr",
     "output_type": "stream",
     "text": [
      "Processing files:  65%|██████▌   | 36/55 [00:36<00:17,  1.08it/s]"
     ]
    },
    {
     "name": "stdout",
     "output_type": "stream",
     "text": [
      "\n",
      "Results for ME-17-09-49995-56.docx:\n",
      "Entity: פרקליט המדינה, Label: TTL\n",
      "Entity: כב', Label: TTL\n",
      "Entity: השופטת, Label: TTL\n",
      "Entity: לממונה על עבודות שרות, Label: TTL\n",
      "Entity: ב\"כ המאשימה, Label: TTL\n",
      "Entity: עו\"ד, Label: TTL\n",
      "Entity: עו\"ד, Label: TTL\n"
     ]
    },
    {
     "name": "stderr",
     "output_type": "stream",
     "text": [
      "Processing files:  67%|██████▋   | 37/55 [00:37<00:15,  1.15it/s]"
     ]
    },
    {
     "name": "stdout",
     "output_type": "stream",
     "text": [
      "\n",
      "Results for ME-17-09-55908-387.docx:\n",
      "Entity: גלוק, Label: DUC\n"
     ]
    },
    {
     "name": "stderr",
     "output_type": "stream",
     "text": [
      "Processing files:  69%|██████▉   | 38/55 [00:38<00:13,  1.26it/s]"
     ]
    },
    {
     "name": "stdout",
     "output_type": "stream",
     "text": [
      "\n",
      "Results for ME-17-10-48506-537.docx:\n",
      "Entity: פרקליט המדינה, Label: TTL\n"
     ]
    },
    {
     "name": "stderr",
     "output_type": "stream",
     "text": [
      "Processing files:  71%|███████   | 39/55 [00:39<00:13,  1.16it/s]"
     ]
    },
    {
     "name": "stdout",
     "output_type": "stream",
     "text": [
      "\n",
      "Results for ME-17-10-51523-521.docx:\n",
      "Entity: sc, Label: DUC\n",
      "Entity: קליבר, Label: DUC\n",
      "Entity: פולקסווגן מספר 22 - 007 - 51, Label: DUC\n",
      "Entity: כב', Label: TTL\n",
      "Entity: השופט, Label: TTL\n",
      "Entity: כבוד השופטת, Label: TTL\n",
      "Entity: כבוד השופטת, Label: TTL\n",
      "Entity: כב' השופטת, Label: TTL\n",
      "Entity: קרל גוסטב, Label: DUC\n",
      "Entity: השופט, Label: TTL\n"
     ]
    },
    {
     "name": "stderr",
     "output_type": "stream",
     "text": [
      "Processing files:  73%|███████▎  | 40/55 [00:40<00:15,  1.01s/it]"
     ]
    },
    {
     "name": "stdout",
     "output_type": "stream",
     "text": [
      "\n",
      "Results for ME-17-12-20051-644.docx:\n",
      "Entity: השמאי, Label: TTL\n",
      "Entity: השופטת, Label: TTL\n"
     ]
    },
    {
     "name": "stderr",
     "output_type": "stream",
     "text": [
      "Processing files:  75%|███████▍  | 41/55 [00:41<00:12,  1.10it/s]"
     ]
    },
    {
     "name": "stdout",
     "output_type": "stream",
     "text": [
      "\n",
      "Results for ME-17-12-22830-699.docx:\n"
     ]
    },
    {
     "name": "stderr",
     "output_type": "stream",
     "text": [
      "Processing files:  76%|███████▋  | 42/55 [00:41<00:10,  1.28it/s]"
     ]
    },
    {
     "name": "stdout",
     "output_type": "stream",
     "text": [
      "\n",
      "Results for ME-17-12-32803-592.docx:\n"
     ]
    },
    {
     "name": "stderr",
     "output_type": "stream",
     "text": [
      "Processing files:  78%|███████▊  | 43/55 [00:43<00:12,  1.03s/it]"
     ]
    },
    {
     "name": "stdout",
     "output_type": "stream",
     "text": [
      "\n",
      "Results for ME-17-12-32889-55.docx:\n",
      "Entity: ב\"כ המאשימה, Label: TTL\n",
      "Entity: עו\"ד, Label: TTL\n",
      "Entity: השבר, Label: DUC\n",
      "Entity: סגן ראש העיר, Label: TTL\n",
      "Entity: כב' השופט, Label: TTL\n",
      "Entity: כב' הש ', Label: TTL\n",
      "Entity: כב' הש ', Label: TTL\n"
     ]
    },
    {
     "name": "stderr",
     "output_type": "stream",
     "text": [
      "Processing files:  80%|████████  | 44/55 [00:44<00:10,  1.05it/s]"
     ]
    },
    {
     "name": "stdout",
     "output_type": "stream",
     "text": [
      "\n",
      "Results for ME-18-01-52479-769.docx:\n",
      "Entity: הנשיאה, Label: TTL\n",
      "Entity: קארל, Label: DUC\n"
     ]
    },
    {
     "name": "stderr",
     "output_type": "stream",
     "text": [
      "Processing files:  82%|████████▏ | 45/55 [00:45<00:09,  1.05it/s]"
     ]
    },
    {
     "name": "stdout",
     "output_type": "stream",
     "text": [
      "\n",
      "Results for ME-18-02-630-602.docx:\n",
      "Entity: סי - זד, Label: DUC\n",
      "Entity: גב', Label: TTL\n",
      "Entity: גב', Label: TTL\n",
      "Entity: גב', Label: TTL\n",
      "Entity: ברטה, Label: DUC\n",
      "Entity: עו\"ד, Label: TTL\n",
      "Entity: עו\"ד, Label: TTL\n"
     ]
    },
    {
     "name": "stderr",
     "output_type": "stream",
     "text": [
      "Processing files:  84%|████████▎ | 46/55 [00:46<00:08,  1.07it/s]"
     ]
    },
    {
     "name": "stdout",
     "output_type": "stream",
     "text": [
      "\n",
      "Results for ME-18-03-35106-980.docx:\n",
      "Entity: קרלו, Label: DUC\n",
      "Entity: הקר, Label: DUC\n",
      "Entity: הקר, Label: DUC\n"
     ]
    },
    {
     "name": "stderr",
     "output_type": "stream",
     "text": [
      "Processing files:  85%|████████▌ | 47/55 [00:46<00:06,  1.28it/s]"
     ]
    },
    {
     "name": "stdout",
     "output_type": "stream",
     "text": [
      "\n",
      "Results for ME-18-03-50551-148.docx:\n"
     ]
    },
    {
     "name": "stderr",
     "output_type": "stream",
     "text": [
      "Processing files:  87%|████████▋ | 48/55 [00:47<00:05,  1.25it/s]"
     ]
    },
    {
     "name": "stdout",
     "output_type": "stream",
     "text": [
      "\n",
      "Results for ME-18-04-3295-790.docx:\n",
      "Entity: מאזדה 3, Label: DUC\n",
      "Entity: עוזי, Label: DUC\n",
      "Entity: ב\"כ המאשימה, Label: TTL\n",
      "Entity: ב\"כ המאשימה, Label: TTL\n",
      "Entity: כב' השופט, Label: TTL\n",
      "Entity: כבוד השופטת, Label: TTL\n",
      "Entity: קרל גוסטב, Label: DUC\n",
      "Entity: השופט, Label: TTL\n"
     ]
    },
    {
     "name": "stderr",
     "output_type": "stream",
     "text": [
      "Processing files:  89%|████████▉ | 49/55 [00:48<00:04,  1.28it/s]"
     ]
    },
    {
     "name": "stdout",
     "output_type": "stream",
     "text": [
      "\n",
      "Results for ME-18-04-34003-438.docx:\n",
      "Entity: סטאר, Label: DUC\n",
      "Entity: עו\"ד, Label: TTL\n",
      "Entity: עו\"ד, Label: TTL\n",
      "Entity: bmw x, Label: DUC\n"
     ]
    },
    {
     "name": "stderr",
     "output_type": "stream",
     "text": [
      "Processing files:  91%|█████████ | 50/55 [00:48<00:03,  1.31it/s]"
     ]
    },
    {
     "name": "stdout",
     "output_type": "stream",
     "text": [
      "\n",
      "Results for ME-18-04-49416-848.docx:\n",
      "Entity: עו\"ד, Label: TTL\n",
      "Entity: ב\"כ המאשימה, Label: TTL\n",
      "Entity: עו\"ד, Label: TTL\n",
      "Entity: פרקליט המדינה, Label: TTL\n",
      "Entity: עו\"ד, Label: TTL\n",
      "Entity: ועו\"ד, Label: TTL\n",
      "Entity: קרל גוסטב, Label: DUC\n",
      "Entity: עוזי, Label: DUC\n"
     ]
    },
    {
     "name": "stderr",
     "output_type": "stream",
     "text": [
      "Processing files:  93%|█████████▎| 51/55 [00:50<00:03,  1.09it/s]"
     ]
    },
    {
     "name": "stdout",
     "output_type": "stream",
     "text": [
      "\n",
      "Results for ME-18-04-34027-630.docx:\n",
      "Entity: ווטסאפ, Label: DUC\n",
      "Entity: 16, Label: DUC\n",
      "Entity: m - 16, Label: DUC\n",
      "Entity: m - 16, Label: DUC\n",
      "Entity: וואטסאפ, Label: DUC\n",
      "Entity: c, Label: DUC\n",
      "Entity: 14, Label: DUC\n",
      "Entity: bmw, Label: DUC\n",
      "Entity: m - 4, Label: DUC\n",
      "Entity: ברטה, Label: DUC\n",
      "Entity: 51, Label: DUC\n",
      "Entity: קליבר 9 מ\"מ, Label: DUC\n",
      "Entity: הגב', Label: TTL\n",
      "Entity: גב', Label: TTL\n",
      "Entity: פרקליט המדינה, Label: TTL\n",
      "Entity: m4, Label: DUC\n",
      "Entity: קרלו, Label: DUC\n",
      "Entity: קרלו, Label: DUC\n",
      "Entity: m1, Label: DUC\n",
      "Entity: קרלו, Label: DUC\n",
      "Entity: m1, Label: DUC\n",
      "Entity: השופט, Label: TTL\n",
      "Entity: ואט, Label: DUC\n",
      "Entity: קרל גוסטב, Label: DUC\n",
      "Entity: השופטת, Label: TTL\n"
     ]
    },
    {
     "name": "stderr",
     "output_type": "stream",
     "text": [
      "Processing files:  95%|█████████▍| 52/55 [00:50<00:02,  1.24it/s]"
     ]
    },
    {
     "name": "stdout",
     "output_type": "stream",
     "text": [
      "\n",
      "Results for ME-18-05-32659-754.docx:\n",
      "Entity: עוזי, Label: DUC\n",
      "Entity: m1, Label: DUC\n",
      "Entity: קרלו, Label: DUC\n",
      "Entity: ראש המועצה, Label: TTL\n"
     ]
    },
    {
     "name": "stderr",
     "output_type": "stream",
     "text": [
      "Processing files:  96%|█████████▋| 53/55 [00:51<00:01,  1.30it/s]"
     ]
    },
    {
     "name": "stdout",
     "output_type": "stream",
     "text": [
      "\n",
      "Results for ME-18-05-42697-576.docx:\n",
      "Entity: עו\"ד, Label: TTL\n",
      "Entity: c, Label: DUC\n"
     ]
    },
    {
     "name": "stderr",
     "output_type": "stream",
     "text": [
      "Processing files:  98%|█████████▊| 54/55 [00:52<00:00,  1.31it/s]"
     ]
    },
    {
     "name": "stdout",
     "output_type": "stream",
     "text": [
      "\n",
      "Results for ME-18-07-3742-540.docx:\n",
      "Entity: עו\"ד, Label: TTL\n",
      "Entity: עו\"ד, Label: TTL\n",
      "Entity: מס' 400, Label: DUC\n",
      "Entity: השופטת, Label: TTL\n",
      "Entity: כב' השופט, Label: TTL\n",
      "Entity: מאזדה 3, Label: DUC\n"
     ]
    },
    {
     "name": "stderr",
     "output_type": "stream",
     "text": [
      "Processing files: 100%|██████████| 55/55 [00:52<00:00,  1.05it/s]"
     ]
    },
    {
     "name": "stdout",
     "output_type": "stream",
     "text": [
      "\n",
      "Results for SH-16-11-49772-358.docx:\n",
      "Entity: עו\"ד, Label: TTL\n",
      "Entity: עו\"ד, Label: TTL\n",
      "Entity: ברטה, Label: DUC\n",
      "Entity: קארין, Label: DUC\n",
      "Entity: יריחו, Label: DUC\n",
      "Entity: קארל גוסטב, Label: DUC\n",
      "Entity: עו\"ד, Label: TTL\n",
      "Entity: עו\"ד, Label: TTL\n"
     ]
    },
    {
     "name": "stderr",
     "output_type": "stream",
     "text": [
      "\n"
     ]
    }
   ],
   "source": [
    "from transformers import AutoTokenizer, AutoModelForTokenClassification, pipeline\n",
    "from tqdm import tqdm\n",
    "from docx import Document\n",
    "import os\n",
    "\n",
    "# Load tokenizer and model\n",
    "tokenizer = AutoTokenizer.from_pretrained(\"dicta-il/dictabert-ner\")\n",
    "model = AutoModelForTokenClassification.from_pretrained(\"dicta-il/dictabert-ner\")\n",
    "\n",
    "# Create an NER pipeline\n",
    "ner_pipeline = pipeline(\"ner\", model=model, tokenizer=tokenizer, aggregation_strategy=\"simple\")\n",
    "\n",
    "# Function to split text into chunks based on tokens\n",
    "def chunk_text_by_tokens(text, max_tokens):\n",
    "    paragraphs = text.split(\"\\n\")\n",
    "    chunks = []\n",
    "    for paragraph in paragraphs:\n",
    "        tokens = tokenizer.encode(paragraph, add_special_tokens=False)\n",
    "        if len(tokens) > max_tokens:\n",
    "            for i in range(0, len(tokens), max_tokens):\n",
    "                chunk = tokens[i:i + max_tokens]\n",
    "                chunks.append(tokenizer.decode(chunk, skip_special_tokens=True))\n",
    "        else:\n",
    "            chunks.append(paragraph)\n",
    "    return chunks\n",
    "\n",
    "# Function to read .docx files\n",
    "def read_docx(file_path):\n",
    "    doc = Document(file_path)\n",
    "    return \"\\n\".join([p.text for p in doc.paragraphs])\n",
    "\n",
    "# Process files and query the NER model\n",
    "def process_files(directory, max_tokens=512):\n",
    "    files = [f for f in os.listdir(directory) if f.endswith(\".docx\")]\n",
    "    for filename in tqdm(files, desc=\"Processing files\"):\n",
    "        file_path = os.path.join(directory, filename)\n",
    "        try:\n",
    "            text = read_docx(file_path)\n",
    "            chunks = chunk_text_by_tokens(text, max_tokens)\n",
    "\n",
    "            results = []\n",
    "            for chunk in chunks:\n",
    "                try:\n",
    "                    chunk_results = ner_pipeline(chunk)\n",
    "                    results.extend(chunk_results)\n",
    "                except Exception as e:\n",
    "                    print(f\"Error processing chunk: {str(e)}\")\n",
    "\n",
    "            # Filter results for TTL and DUC labels\n",
    "            relevant_labels = {'TTL', 'DUC'}\n",
    "            threshold = 0.8\n",
    "            filtered_results = [\n",
    "                entity for entity in results\n",
    "                if entity['entity_group'] in relevant_labels and entity['score'] >= threshold\n",
    "            ]\n",
    "\n",
    "            # Merge entities\n",
    "            merged_entities = []\n",
    "            current_entity = \"\"\n",
    "            current_label = None\n",
    "\n",
    "            for entity in filtered_results:\n",
    "                if not entity['word'].startswith(\"##\"):\n",
    "                    if current_entity and current_label:\n",
    "                        merged_entities.append((current_entity.strip(), current_label))\n",
    "                    current_entity = entity['word']\n",
    "                    current_label = entity['entity_group']\n",
    "                else:\n",
    "                    current_entity += entity['word'].replace(\"##\", \"\")\n",
    "\n",
    "            if current_entity and current_label:\n",
    "                merged_entities.append((current_entity.strip(), current_label))\n",
    "\n",
    "            # Display results\n",
    "            print(f\"\\nResults for {filename}:\")\n",
    "            for entity, label in merged_entities:\n",
    "                print(f\"Entity: {entity}, Label: {label}\")\n",
    "\n",
    "        except Exception as e:\n",
    "            print(f\"Error processing file {filename}: {str(e)}\")\n",
    "\n",
    "# Main script\n",
    "if __name__ == \"__main__\":\n",
    "    docs_directory = \"/home/liorkob/thesis/nlp_course/lcp/docx\"\n",
    "    process_files(docs_directory, max_tokens=510)\n"
   ]
  },
  {
   "cell_type": "code",
   "execution_count": null,
   "metadata": {},
   "outputs": [],
   "source": []
  }
 ],
 "metadata": {
  "kernelspec": {
   "display_name": "lcp",
   "language": "python",
   "name": "python3"
  },
  "language_info": {
   "codemirror_mode": {
    "name": "ipython",
    "version": 3
   },
   "file_extension": ".py",
   "mimetype": "text/x-python",
   "name": "python",
   "nbconvert_exporter": "python",
   "pygments_lexer": "ipython3",
   "version": "3.9.21"
  }
 },
 "nbformat": 4,
 "nbformat_minor": 2
}
