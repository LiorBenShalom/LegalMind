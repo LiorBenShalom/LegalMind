{
 "cells": [
  {
   "cell_type": "markdown",
   "metadata": {},
   "source": [
    "### data merge"
   ]
  },
  {
   "cell_type": "code",
   "execution_count": 1,
   "metadata": {},
   "outputs": [
    {
     "name": "stdout",
     "output_type": "stream",
     "text": [
      "Total rows in CSV: 2987\n",
      "Unique verdicts: 2987\n",
      "Unique extracted_gpt_facts: 2971\n"
     ]
    }
   ],
   "source": [
    "import pandas as pd\n",
    "\n",
    "facts_df = pd.read_csv(\"/home/liorkob/M.Sc/thesis/data/drugs_3k/gpt/processed_verdicts_with_gpt.csv\")  # contains: verdict, extracted_gpt_facts\n",
    "ranges_df = pd.read_csv(\"/home/liorkob/M.Sc/thesis/data/drugs_3k/gpt/punishment_range/punishment_ranges.csv\")  # contains: file_name, low, high\n",
    "\n",
    "# Clean file_name column (remove .csv extension)\n",
    "ranges_df[\"verdict\"] = ranges_df[\"file_name\"].str.replace(\".csv\", \"\", regex=False)\n",
    "\n",
    "# Merge on 'verdict'\n",
    "merged_df = pd.merge(facts_df, ranges_df[[\"verdict\", \"low\", \"high\"]], on=\"verdict\", how=\"left\")\n",
    "\n",
    "# Remove duplicates – keep only one row per verdict\n",
    "merged_df = merged_df.drop_duplicates(subset=\"verdict\", keep=\"first\")\n",
    "\n",
    "# Save result\n",
    "merged_df.to_csv(\"merged_output.csv\", index=False)\n",
    "\n",
    "\n",
    "\n",
    "df = pd.read_csv(\"merged_output.csv\")\n",
    "print(\"Total rows in CSV:\", len(df))\n",
    "print(\"Unique verdicts:\", df[\"verdict\"].nunique())\n",
    "print(\"Unique extracted_gpt_facts:\", df[\"extracted_gpt_facts\"].nunique())\n"
   ]
  },
  {
   "cell_type": "code",
   "execution_count": 2,
   "metadata": {},
   "outputs": [
    {
     "name": "stdout",
     "output_type": "stream",
     "text": [
      "               low         high\n",
      "count  2502.000000  2502.000000\n",
      "mean     13.949241    28.672262\n",
      "std      13.773581    21.116149\n",
      "min       0.000000     2.000000\n",
      "25%       6.000000    12.000000\n",
      "50%       9.000000    22.000000\n",
      "75%      18.000000    36.000000\n",
      "max     144.000000   192.000000\n",
      "0.03080013391362571\n"
     ]
    },
    {
     "data": {
      "text/html": [
       "<div>\n",
       "<style scoped>\n",
       "    .dataframe tbody tr th:only-of-type {\n",
       "        vertical-align: middle;\n",
       "    }\n",
       "\n",
       "    .dataframe tbody tr th {\n",
       "        vertical-align: top;\n",
       "    }\n",
       "\n",
       "    .dataframe thead th {\n",
       "        text-align: right;\n",
       "    }\n",
       "</style>\n",
       "<table border=\"1\" class=\"dataframe\">\n",
       "  <thead>\n",
       "    <tr style=\"text-align: right;\">\n",
       "      <th></th>\n",
       "      <th>extracted_gpt_facts</th>\n",
       "      <th>low</th>\n",
       "      <th>high</th>\n",
       "    </tr>\n",
       "  </thead>\n",
       "  <tbody>\n",
       "    <tr>\n",
       "      <th>37</th>\n",
       "      <td>הנאשם הורשע על פי הודאתו בעבירות של החזקת חלק ...</td>\n",
       "      <td>10.0</td>\n",
       "      <td>24.0</td>\n",
       "    </tr>\n",
       "    <tr>\n",
       "      <th>2550</th>\n",
       "      <td>הנאשם הורשע על פי הודאתו בעבירות של החזקת חלק ...</td>\n",
       "      <td>NaN</td>\n",
       "      <td>NaN</td>\n",
       "    </tr>\n",
       "    <tr>\n",
       "      <th>2068</th>\n",
       "      <td>הנאשם הורשע על פי הודאתו בעבירות של החזקת חלק ...</td>\n",
       "      <td>6.0</td>\n",
       "      <td>18.0</td>\n",
       "    </tr>\n",
       "    <tr>\n",
       "      <th>1993</th>\n",
       "      <td>הנאשם הורשע על פי הודאתו בעבירות של החזקת חלק ...</td>\n",
       "      <td>NaN</td>\n",
       "      <td>NaN</td>\n",
       "    </tr>\n",
       "    <tr>\n",
       "      <th>1931</th>\n",
       "      <td>הנאשם הורשע על פי הודאתו בעבירות של החזקת חלק ...</td>\n",
       "      <td>10.0</td>\n",
       "      <td>20.0</td>\n",
       "    </tr>\n",
       "    <tr>\n",
       "      <th>1842</th>\n",
       "      <td>הנאשם הורשע על פי הודאתו בעבירות של החזקת חלק ...</td>\n",
       "      <td>NaN</td>\n",
       "      <td>NaN</td>\n",
       "    </tr>\n",
       "    <tr>\n",
       "      <th>2563</th>\n",
       "      <td>הנאשם הורשע על פי הודאתו בעבירות של החזקת חלק ...</td>\n",
       "      <td>NaN</td>\n",
       "      <td>NaN</td>\n",
       "    </tr>\n",
       "    <tr>\n",
       "      <th>1246</th>\n",
       "      <td>הנאשם הורשע על פי הודאתו בעבירות של החזקת חלק ...</td>\n",
       "      <td>NaN</td>\n",
       "      <td>NaN</td>\n",
       "    </tr>\n",
       "    <tr>\n",
       "      <th>1724</th>\n",
       "      <td>הנאשם הורשע על פי הודאתו בעבירות של החזקת חלק ...</td>\n",
       "      <td>NaN</td>\n",
       "      <td>NaN</td>\n",
       "    </tr>\n",
       "    <tr>\n",
       "      <th>893</th>\n",
       "      <td>הנאשם הורשע על פי הודאתו בעבירות של החזקת חלק ...</td>\n",
       "      <td>24.0</td>\n",
       "      <td>48.0</td>\n",
       "    </tr>\n",
       "    <tr>\n",
       "      <th>689</th>\n",
       "      <td>הנאשם הורשע על פי הודאתו בעבירות של החזקת חלק ...</td>\n",
       "      <td>NaN</td>\n",
       "      <td>NaN</td>\n",
       "    </tr>\n",
       "    <tr>\n",
       "      <th>434</th>\n",
       "      <td>הנאשם הורשע על פי הודאתו בעבירות של החזקת חלק ...</td>\n",
       "      <td>12.0</td>\n",
       "      <td>36.0</td>\n",
       "    </tr>\n",
       "    <tr>\n",
       "      <th>361</th>\n",
       "      <td>הנאשם הורשע על פי הודאתו בעבירות של החזקת חלק ...</td>\n",
       "      <td>42.0</td>\n",
       "      <td>54.0</td>\n",
       "    </tr>\n",
       "    <tr>\n",
       "      <th>320</th>\n",
       "      <td>הנאשם הורשע על פי הודאתו בעבירות של החזקת חלק ...</td>\n",
       "      <td>NaN</td>\n",
       "      <td>NaN</td>\n",
       "    </tr>\n",
       "    <tr>\n",
       "      <th>2882</th>\n",
       "      <td>הנאשם הורשע על פי הודאתו בעבירות של החזקת חלק ...</td>\n",
       "      <td>NaN</td>\n",
       "      <td>NaN</td>\n",
       "    </tr>\n",
       "    <tr>\n",
       "      <th>604</th>\n",
       "      <td>הנאשם שלפניי הודה והורשע בביצוע עבירות המפורטו...</td>\n",
       "      <td>4.0</td>\n",
       "      <td>8.0</td>\n",
       "    </tr>\n",
       "    <tr>\n",
       "      <th>2037</th>\n",
       "      <td>הנאשם שלפניי הודה והורשע בביצוע עבירות המפורטו...</td>\n",
       "      <td>4.0</td>\n",
       "      <td>8.0</td>\n",
       "    </tr>\n",
       "    <tr>\n",
       "      <th>2466</th>\n",
       "      <td>לא נמצא טקסט הכולל פסקת כתב אישום.</td>\n",
       "      <td>6.0</td>\n",
       "      <td>12.0</td>\n",
       "    </tr>\n",
       "    <tr>\n",
       "      <th>1189</th>\n",
       "      <td>לא נמצא טקסט הכולל פסקת כתב אישום.</td>\n",
       "      <td>18.0</td>\n",
       "      <td>18.0</td>\n",
       "    </tr>\n",
       "  </tbody>\n",
       "</table>\n",
       "</div>"
      ],
      "text/plain": [
       "                                    extracted_gpt_facts   low  high\n",
       "37    הנאשם הורשע על פי הודאתו בעבירות של החזקת חלק ...  10.0  24.0\n",
       "2550  הנאשם הורשע על פי הודאתו בעבירות של החזקת חלק ...   NaN   NaN\n",
       "2068  הנאשם הורשע על פי הודאתו בעבירות של החזקת חלק ...   6.0  18.0\n",
       "1993  הנאשם הורשע על פי הודאתו בעבירות של החזקת חלק ...   NaN   NaN\n",
       "1931  הנאשם הורשע על פי הודאתו בעבירות של החזקת חלק ...  10.0  20.0\n",
       "1842  הנאשם הורשע על פי הודאתו בעבירות של החזקת חלק ...   NaN   NaN\n",
       "2563  הנאשם הורשע על פי הודאתו בעבירות של החזקת חלק ...   NaN   NaN\n",
       "1246  הנאשם הורשע על פי הודאתו בעבירות של החזקת חלק ...   NaN   NaN\n",
       "1724  הנאשם הורשע על פי הודאתו בעבירות של החזקת חלק ...   NaN   NaN\n",
       "893   הנאשם הורשע על פי הודאתו בעבירות של החזקת חלק ...  24.0  48.0\n",
       "689   הנאשם הורשע על פי הודאתו בעבירות של החזקת חלק ...   NaN   NaN\n",
       "434   הנאשם הורשע על פי הודאתו בעבירות של החזקת חלק ...  12.0  36.0\n",
       "361   הנאשם הורשע על פי הודאתו בעבירות של החזקת חלק ...  42.0  54.0\n",
       "320   הנאשם הורשע על פי הודאתו בעבירות של החזקת חלק ...   NaN   NaN\n",
       "2882  הנאשם הורשע על פי הודאתו בעבירות של החזקת חלק ...   NaN   NaN\n",
       "604   הנאשם שלפניי הודה והורשע בביצוע עבירות המפורטו...   4.0   8.0\n",
       "2037  הנאשם שלפניי הודה והורשע בביצוע עבירות המפורטו...   4.0   8.0\n",
       "2466                 לא נמצא טקסט הכולל פסקת כתב אישום.   6.0  12.0\n",
       "1189                 לא נמצא טקסט הכולל פסקת כתב אישום.  18.0  18.0"
      ]
     },
     "execution_count": 2,
     "metadata": {},
     "output_type": "execute_result"
    }
   ],
   "source": [
    "print(df[[\"low\", \"high\"]].describe())\n",
    "print((df[\"low\"] == df[\"high\"]).mean())  # percent of equal ranges\n",
    "df[df[\"extracted_gpt_facts\"].duplicated(keep=False)].sort_values(\"extracted_gpt_facts\")[[\"extracted_gpt_facts\", \"low\", \"high\"]]\n"
   ]
  },
  {
   "cell_type": "code",
   "execution_count": 3,
   "metadata": {},
   "outputs": [
    {
     "data": {
      "text/plain": [
       "2502"
      ]
     },
     "execution_count": 3,
     "metadata": {},
     "output_type": "execute_result"
    }
   ],
   "source": [
    "import pandas as pd\n",
    "\n",
    "# הסר שורות עם NaN ב-low או high\n",
    "df = df.dropna(subset=[\"low\", \"high\"])\n",
    "len(df)"
   ]
  },
  {
   "cell_type": "code",
   "execution_count": 4,
   "metadata": {},
   "outputs": [
    {
     "name": "stdout",
     "output_type": "stream",
     "text": [
      "Total unique samples: 2502\n",
      ">512 tokens: 430 (17.2%)\n"
     ]
    }
   ],
   "source": [
    "from transformers import AutoTokenizer\n",
    "\n",
    "tokenizer = AutoTokenizer.from_pretrained(\"/home/liorkob/M.Sc/thesis/pre-train/hebert-mlm-3k-drugs/final\")\n",
    "# tokenizer = AutoTokenizer.from_pretrained(\"avichr/heBERT\")\n",
    "\n",
    "# Drop duplicates to get one fact per verdict\n",
    "df_unique = df.drop_duplicates(subset=[\"verdict\"])\n",
    "\n",
    "token_lengths = df_unique[\"extracted_gpt_facts\"].dropna().apply(\n",
    "    lambda x: len(tokenizer.tokenize(str(x)))\n",
    ")\n",
    "\n",
    "print(f\"Total unique samples: {len(token_lengths)}\")\n",
    "print(f\">512 tokens: {(token_lengths > 512).sum()} ({100 * (token_lengths > 512).mean():.1f}%)\")\n"
   ]
  },
  {
   "cell_type": "markdown",
   "metadata": {},
   "source": [
    "### predict punishment range(after mlm ft)"
   ]
  },
  {
   "cell_type": "code",
   "execution_count": 5,
   "metadata": {},
   "outputs": [
    {
     "name": "stderr",
     "output_type": "stream",
     "text": [
      "2025-06-11 22:35:45.660322: I tensorflow/core/util/port.cc:153] oneDNN custom operations are on. You may see slightly different numerical results due to floating-point round-off errors from different computation orders. To turn them off, set the environment variable `TF_ENABLE_ONEDNN_OPTS=0`.\n",
      "2025-06-11 22:35:45.670259: E external/local_xla/xla/stream_executor/cuda/cuda_fft.cc:467] Unable to register cuFFT factory: Attempting to register factory for plugin cuFFT when one has already been registered\n",
      "WARNING: All log messages before absl::InitializeLog() is called are written to STDERR\n",
      "E0000 00:00:1749670545.679680 1664649 cuda_dnn.cc:8579] Unable to register cuDNN factory: Attempting to register factory for plugin cuDNN when one has already been registered\n",
      "E0000 00:00:1749670545.682477 1664649 cuda_blas.cc:1407] Unable to register cuBLAS factory: Attempting to register factory for plugin cuBLAS when one has already been registered\n",
      "W0000 00:00:1749670545.691242 1664649 computation_placer.cc:177] computation placer already registered. Please check linkage and avoid linking the same target more than once.\n",
      "W0000 00:00:1749670545.691252 1664649 computation_placer.cc:177] computation placer already registered. Please check linkage and avoid linking the same target more than once.\n",
      "W0000 00:00:1749670545.691253 1664649 computation_placer.cc:177] computation placer already registered. Please check linkage and avoid linking the same target more than once.\n",
      "W0000 00:00:1749670545.691253 1664649 computation_placer.cc:177] computation placer already registered. Please check linkage and avoid linking the same target more than once.\n",
      "2025-06-11 22:35:45.694483: I tensorflow/core/platform/cpu_feature_guard.cc:210] This TensorFlow binary is optimized to use available CPU instructions in performance-critical operations.\n",
      "To enable the following instructions: AVX2 AVX512F AVX512_VNNI AVX512_BF16 AVX_VNNI FMA, in other operations, rebuild TensorFlow with the appropriate compiler flags.\n"
     ]
    },
    {
     "name": "stdout",
     "output_type": "stream",
     "text": [
      "\n",
      "🔧 Running config: lr=1e-05, dropout=0.1, batch_size=4, epochs=10\n"
     ]
    },
    {
     "name": "stderr",
     "output_type": "stream",
     "text": [
      "Some weights of BertModel were not initialized from the model checkpoint at /home/liorkob/M.Sc/thesis/pre-train/hebert-mlm-3k-drugs/final and are newly initialized: ['bert.pooler.dense.bias', 'bert.pooler.dense.weight']\n",
      "You should probably TRAIN this model on a down-stream task to be able to use it for predictions and inference.\n",
      "Epoch 1/10: 100%|██████████| 450/450 [00:46<00:00,  9.68it/s]\n"
     ]
    },
    {
     "name": "stdout",
     "output_type": "stream",
     "text": [
      "Epoch 1 Training Loss: 3775.1008\n"
     ]
    },
    {
     "name": "stderr",
     "output_type": "stream",
     "text": [
      "Epoch 2/10: 100%|██████████| 450/450 [00:39<00:00, 11.45it/s]\n"
     ]
    },
    {
     "name": "stdout",
     "output_type": "stream",
     "text": [
      "Epoch 2 Training Loss: 3214.0394\n"
     ]
    },
    {
     "name": "stderr",
     "output_type": "stream",
     "text": [
      "Epoch 3/10: 100%|██████████| 450/450 [00:39<00:00, 11.42it/s]\n"
     ]
    },
    {
     "name": "stdout",
     "output_type": "stream",
     "text": [
      "Epoch 3 Training Loss: 2931.7082\n"
     ]
    },
    {
     "name": "stderr",
     "output_type": "stream",
     "text": [
      "Epoch 4/10: 100%|██████████| 450/450 [00:39<00:00, 11.41it/s]\n"
     ]
    },
    {
     "name": "stdout",
     "output_type": "stream",
     "text": [
      "Epoch 4 Training Loss: 2706.5313\n"
     ]
    },
    {
     "name": "stderr",
     "output_type": "stream",
     "text": [
      "Epoch 5/10: 100%|██████████| 450/450 [00:39<00:00, 11.41it/s]\n"
     ]
    },
    {
     "name": "stdout",
     "output_type": "stream",
     "text": [
      "Epoch 5 Training Loss: 2539.9105\n"
     ]
    },
    {
     "name": "stderr",
     "output_type": "stream",
     "text": [
      "Epoch 6/10: 100%|██████████| 450/450 [00:39<00:00, 11.39it/s]\n"
     ]
    },
    {
     "name": "stdout",
     "output_type": "stream",
     "text": [
      "Epoch 6 Training Loss: 2415.3683\n"
     ]
    },
    {
     "name": "stderr",
     "output_type": "stream",
     "text": [
      "Epoch 7/10: 100%|██████████| 450/450 [00:39<00:00, 11.38it/s]\n"
     ]
    },
    {
     "name": "stdout",
     "output_type": "stream",
     "text": [
      "Epoch 7 Training Loss: 2336.5391\n"
     ]
    },
    {
     "name": "stderr",
     "output_type": "stream",
     "text": [
      "Epoch 8/10: 100%|██████████| 450/450 [00:39<00:00, 11.38it/s]\n"
     ]
    },
    {
     "name": "stdout",
     "output_type": "stream",
     "text": [
      "Epoch 8 Training Loss: 2146.1524\n"
     ]
    },
    {
     "name": "stderr",
     "output_type": "stream",
     "text": [
      "Epoch 9/10: 100%|██████████| 450/450 [00:39<00:00, 11.36it/s]\n"
     ]
    },
    {
     "name": "stdout",
     "output_type": "stream",
     "text": [
      "Epoch 9 Training Loss: 1920.1214\n"
     ]
    },
    {
     "name": "stderr",
     "output_type": "stream",
     "text": [
      "Epoch 10/10: 100%|██████████| 450/450 [00:39<00:00, 11.38it/s]\n"
     ]
    },
    {
     "name": "stdout",
     "output_type": "stream",
     "text": [
      "Epoch 10 Training Loss: 1695.0699\n",
      "🔸 LOW Accuracy ±2 months: 28.34%\n",
      "🔸 HIGH Accuracy ±2 months: 13.97%\n",
      "🚨 LOW Severe Errors (>5 months): 44.11%\n",
      "🚨 HIGH Severe Errors (>5 months): 64.67%\n",
      "📊 LOW Error Percentiles (25/50/75/90/95%): [ 1.69537735  4.35797405  8.35491943 16.71979523 27.89423752]\n",
      "📊 HIGH Error Percentiles (25/50/75/90/95%): [ 3.77430344  6.87820244 16.59095192 30.28578186 44.08854675]\n",
      "\n",
      "🔹 LOW Prediction:\n",
      "MSE: 128.42657470703125\n",
      "MAE: 7.1679368019104\n",
      "R²: 0.2654914855957031\n",
      "\n",
      "🔹 HIGH Prediction:\n",
      "MSE: 364.7908630371094\n",
      "MAE: 12.560639381408691\n",
      "R²: 0.1435754895210266\n"
     ]
    }
   ],
   "source": [
    "import pandas as pd\n",
    "import torch\n",
    "import numpy as np\n",
    "from torch import nn\n",
    "from torch.utils.data import Dataset, DataLoader\n",
    "from transformers import (\n",
    "    AutoTokenizer,\n",
    "    AutoModel,\n",
    "    AutoConfig,\n",
    "    BertPreTrainedModel\n",
    ")\n",
    "from torch.optim import AdamW\n",
    "from sklearn.model_selection import train_test_split\n",
    "from sklearn.metrics import mean_squared_error, mean_absolute_error, r2_score\n",
    "from tqdm import tqdm\n",
    "import itertools\n",
    "\n",
    "# ========= Load Data =========\n",
    "df = pd.read_csv(\"merged_output.csv\")\n",
    "df = df.dropna(subset=[\"extracted_gpt_facts\", \"low\", \"high\"])\n",
    "df[\"text\"] = df[\"extracted_gpt_facts\"]\n",
    "df[\"labels\"] = df[[\"low\", \"high\"]].values.tolist()\n",
    "\n",
    "# ========= Tokenizer =========\n",
    "model_path = \"/home/liorkob/M.Sc/thesis/pre-train/hebert-mlm-3k-drugs/final\"\n",
    "tokenizer = AutoTokenizer.from_pretrained(model_path)\n",
    "\n",
    "# ========= Sliding Window Tokenization =========\n",
    "def sliding_tokenize(text, tokenizer, max_length=512, stride=256):\n",
    "    tokens = tokenizer(text, return_tensors=\"pt\", truncation=False)[\"input_ids\"][0]\n",
    "    chunks = []\n",
    "    for i in range(0, len(tokens), stride):\n",
    "        chunk = tokens[i:i+max_length]\n",
    "        if len(chunk) < max_length:\n",
    "            pad_len = max_length - len(chunk)\n",
    "            chunk = torch.cat([chunk, torch.full((pad_len,), tokenizer.pad_token_id)])\n",
    "        chunks.append(chunk.unsqueeze(0))\n",
    "        if len(chunk) < max_length:\n",
    "            break\n",
    "    return torch.cat(chunks, dim=0)\n",
    "\n",
    "# ========= Dataset =========\n",
    "class PunishmentDataset(Dataset):\n",
    "    def __init__(self, df, tokenizer):\n",
    "        self.texts = df[\"text\"].tolist()\n",
    "        self.labels = df[\"labels\"].tolist()\n",
    "        self.tokenizer = tokenizer\n",
    "\n",
    "    def __len__(self):\n",
    "        return len(self.texts)\n",
    "\n",
    "    def __getitem__(self, idx):\n",
    "        text = self.texts[idx]\n",
    "        tokens = self.tokenizer(text, return_tensors=\"pt\", truncation=False)[\"input_ids\"][0]\n",
    "        if len(tokens) <= 512:\n",
    "            input_ids = tokens.unsqueeze(0)\n",
    "        else:\n",
    "            input_ids = sliding_tokenize(text, self.tokenizer)\n",
    "        attention_mask = (input_ids != self.tokenizer.pad_token_id).long()\n",
    "        label = torch.tensor(self.labels[idx], dtype=torch.float)\n",
    "        return {\n",
    "            \"input_ids\": input_ids,\n",
    "            \"attention_mask\": attention_mask,\n",
    "            \"labels\": label\n",
    "        }\n",
    "\n",
    "# ========= Collate =========\n",
    "def collate_fn(batch):\n",
    "    input_ids = [item[\"input_ids\"] for item in batch]\n",
    "    attention_mask = [item[\"attention_mask\"] for item in batch]\n",
    "    labels = torch.stack([item[\"labels\"] for item in batch])\n",
    "    return {\n",
    "        \"input_ids\": input_ids,\n",
    "        \"attention_mask\": attention_mask,\n",
    "        \"labels\": labels\n",
    "    }\n",
    "\n",
    "\n",
    "def log_scaled_mse(pred, target):\n",
    "    error = torch.abs(pred - target)\n",
    "    return torch.mean(torch.log1p(error) * error ** 2)\n",
    "\n",
    "\n",
    "# ========= Model =========\n",
    "class HeBERTPunishmentRegressor(BertPreTrainedModel):\n",
    "    def __init__(self, config, dropout_rate=0.3):\n",
    "        super().__init__(config)\n",
    "        self.bert = AutoModel.from_pretrained(model_path)\n",
    "        self.low_regressor = nn.Linear(self.bert.config.hidden_size, 1)\n",
    "        self.high_regressor = nn.Linear(self.bert.config.hidden_size, 1)\n",
    "        self.dropout = nn.Dropout(dropout_rate)\n",
    "        self.init_weights()\n",
    "\n",
    "    def forward(self, input_ids, attention_mask, labels=None):\n",
    "        batch_cls = []\n",
    "        for ids, mask in zip(input_ids, attention_mask):\n",
    "            outputs = self.bert(input_ids=ids, attention_mask=mask)\n",
    "            cls_tokens = outputs.last_hidden_state[:, 0, :]\n",
    "            mean_cls = cls_tokens.mean(dim=0)\n",
    "            batch_cls.append(mean_cls)\n",
    "\n",
    "        pooled_output = torch.stack(batch_cls)\n",
    "        x = self.dropout(pooled_output)\n",
    "        low = self.low_regressor(x).squeeze(1)\n",
    "        high = self.high_regressor(x).squeeze(1)\n",
    "        logits = torch.stack([low, high], dim=1)\n",
    "\n",
    "        if labels is not None:\n",
    "            loss_fn = nn.MSELoss()\n",
    "            loss = log_scaled_mse(low, labels[:, 0]) + log_scaled_mse(high, labels[:, 1])\n",
    "        else:\n",
    "            loss = torch.tensor(0.0, device=x.device)  # ensures not None\n",
    "\n",
    "        return {\"loss\": loss, \"logits\": logits}\n",
    "\n",
    "# ========= Grid Search =========\n",
    "# param_grid = {\n",
    "#     \"lr\": [1e-5, 2e-5, 5e-5],\n",
    "#     \"dropout\": [0.1, 0.3, 0.5],\n",
    "#     \"batch_size\": [4, 8],\n",
    "#     \"epoch\": [5, 10, 15]\n",
    "# }\n",
    "param_grid = {\n",
    "    \"lr\": [1e-5],\n",
    "    \"dropout\": [0.1],\n",
    "    \"batch_size\": [4],\n",
    "    \"epoch\": [15]\n",
    "}\n",
    "\n",
    "\n",
    "train_val_df, test_df = train_test_split(df, test_size=0.2, random_state=42)\n",
    "train_df, val_df = train_test_split(train_val_df, test_size=0.1, random_state=42)\n",
    "\n",
    "device = torch.device(\"cuda\" if torch.cuda.is_available() else \"cpu\")\n",
    "best_mae = float(\"inf\")\n",
    "best_params = None\n",
    "\n",
    "for lr, dropout, batch_size, num_epochs in itertools.product(\n",
    "        param_grid[\"lr\"], param_grid[\"dropout\"], param_grid[\"batch_size\"], param_grid[\"epoch\"]):\n",
    "\n",
    "    print(f\"\\n🔧 Running config: lr={lr}, dropout={dropout}, batch_size={batch_size}, epochs={num_epochs}\")\n",
    "    train_dataset = PunishmentDataset(train_df, tokenizer)\n",
    "    test_dataset = PunishmentDataset(test_df, tokenizer)\n",
    "    train_loader = DataLoader(train_dataset, batch_size=batch_size, shuffle=True, collate_fn=collate_fn)\n",
    "    test_loader = DataLoader(test_dataset, batch_size=batch_size, collate_fn=collate_fn)\n",
    "\n",
    "    config = AutoConfig.from_pretrained(model_path)\n",
    "    model = HeBERTPunishmentRegressor(config).to(device)\n",
    "    model.dropout.p = dropout\n",
    "    optimizer = AdamW(model.parameters(), lr=lr)\n",
    "\n",
    "    for epoch in range(num_epochs):\n",
    "        model.train()\n",
    "        total_loss = 0\n",
    "        for batch in tqdm(train_loader, desc=f\"Epoch {epoch+1}/{num_epochs}\"):\n",
    "            input_ids = [b.to(device) for b in batch[\"input_ids\"]]\n",
    "            attention_mask = [b.to(device) for b in batch[\"attention_mask\"]]\n",
    "            labels = batch[\"labels\"].to(device)\n",
    "\n",
    "            outputs = model(input_ids=input_ids, attention_mask=attention_mask, labels=labels)\n",
    "            loss = outputs[\"loss\"]\n",
    "\n",
    "            loss.backward()\n",
    "            optimizer.step()\n",
    "            optimizer.zero_grad()\n",
    "            total_loss += loss.item()\n",
    "\n",
    "        print(f\"Epoch {epoch+1} Training Loss: {total_loss / len(train_loader):.4f}\")\n",
    "\n",
    "    # Evaluation\n",
    "    model.eval()\n",
    "    preds, trues = [], []\n",
    "    with torch.no_grad():\n",
    "        for batch in test_loader:\n",
    "            input_ids = [b.to(device) for b in batch[\"input_ids\"]]\n",
    "            attention_mask = [b.to(device) for b in batch[\"attention_mask\"]]\n",
    "            labels = batch[\"labels\"].to(device)\n",
    "\n",
    "            outputs = model(input_ids=input_ids, attention_mask=attention_mask)\n",
    "            pred = outputs[\"logits\"].cpu().numpy()\n",
    "            preds.append(pred)\n",
    "            trues.append(labels.cpu().numpy())\n",
    "\n",
    "    preds = np.vstack(preds)\n",
    "    trues = np.vstack(trues)\n",
    "# ========= Evaluation Metrics =========\n",
    "low_true = trues[:, 0]\n",
    "high_true = trues[:, 1]\n",
    "low_pred = preds[:, 0]\n",
    "high_pred = preds[:, 1]\n",
    "\n",
    "# --- טולרנס: טעות עד 2 חודשים ---\n",
    "tolerance = 2\n",
    "low_within_tolerance = np.mean(np.abs(low_pred - low_true) <= tolerance)\n",
    "high_within_tolerance = np.mean(np.abs(high_pred - high_true) <= tolerance)\n",
    "\n",
    "print(f\"🔸 LOW Accuracy ±{tolerance} months: {low_within_tolerance:.2%}\")\n",
    "print(f\"🔸 HIGH Accuracy ±{tolerance} months: {high_within_tolerance:.2%}\")\n",
    "\n",
    "# --- טעות חמורה (יותר מ-5 חודשים) ---\n",
    "severe_low = np.mean(np.abs(low_pred - low_true) > 5)\n",
    "severe_high = np.mean(np.abs(high_pred - high_true) > 5)\n",
    "\n",
    "print(f\"🚨 LOW Severe Errors (>5 months): {severe_low:.2%}\")\n",
    "print(f\"🚨 HIGH Severe Errors (>5 months): {severe_high:.2%}\")\n",
    "\n",
    "# --- Percentiles של שגיאות ---\n",
    "low_errors = np.abs(low_pred - low_true)\n",
    "high_errors = np.abs(high_pred - high_true)\n",
    "\n",
    "print(\"📊 LOW Error Percentiles (25/50/75/90/95%):\", np.percentile(low_errors, [25, 50, 75, 90, 95]))\n",
    "print(\"📊 HIGH Error Percentiles (25/50/75/90/95%):\", np.percentile(high_errors, [25, 50, 75, 90, 95]))\n",
    "\n",
    "# --- מדדים סטנדרטיים ---\n",
    "print(\"\\n🔹 LOW Prediction:\")\n",
    "print(\"MSE:\", mean_squared_error(low_true, low_pred))\n",
    "print(\"MAE:\", mean_absolute_error(low_true, low_pred))\n",
    "print(\"R²:\", r2_score(low_true, low_pred))\n",
    "\n",
    "print(\"\\n🔹 HIGH Prediction:\")\n",
    "print(\"MSE:\", mean_squared_error(high_true, high_pred))\n",
    "print(\"MAE:\", mean_absolute_error(high_true, high_pred))\n",
    "print(\"R²:\", r2_score(high_true, high_pred))\n"
   ]
  },
  {
   "cell_type": "markdown",
   "metadata": {},
   "source": [
    "### predict punishent range with no mlm ft"
   ]
  },
  {
   "cell_type": "code",
   "execution_count": 6,
   "metadata": {},
   "outputs": [
    {
     "name": "stderr",
     "output_type": "stream",
     "text": [
      "/home/liorkob/.conda/envs/new_env/lib/python3.9/site-packages/transformers/training_args.py:1575: FutureWarning: `evaluation_strategy` is deprecated and will be removed in version 4.46 of 🤗 Transformers. Use `eval_strategy` instead\n",
      "  warnings.warn(\n",
      "huggingface/tokenizers: The current process just got forked, after parallelism has already been used. Disabling parallelism to avoid deadlocks...\n",
      "To disable this warning, you can either:\n",
      "\t- Avoid using `tokenizers` before the fork if possible\n",
      "\t- Explicitly set the environment variable TOKENIZERS_PARALLELISM=(true | false)\n",
      "Some weights of BertModel were not initialized from the model checkpoint at avichr/heBERT and are newly initialized: ['bert.pooler.dense.bias', 'bert.pooler.dense.weight']\n",
      "You should probably TRAIN this model on a down-stream task to be able to use it for predictions and inference.\n"
     ]
    },
    {
     "data": {
      "text/html": [
       "\n",
       "    <div>\n",
       "      \n",
       "      <progress value='164' max='1125' style='width:300px; height:20px; vertical-align: middle;'></progress>\n",
       "      [ 164/1125 00:16 < 01:39, 9.64 it/s, Epoch 0.72/5]\n",
       "    </div>\n",
       "    <table border=\"1\" class=\"dataframe\">\n",
       "  <thead>\n",
       " <tr style=\"text-align: left;\">\n",
       "      <th>Epoch</th>\n",
       "      <th>Training Loss</th>\n",
       "      <th>Validation Loss</th>\n",
       "    </tr>\n",
       "  </thead>\n",
       "  <tbody>\n",
       "  </tbody>\n",
       "</table><p>"
      ],
      "text/plain": [
       "<IPython.core.display.HTML object>"
      ]
     },
     "metadata": {},
     "output_type": "display_data"
    },
    {
     "ename": "KeyboardInterrupt",
     "evalue": "",
     "output_type": "error",
     "traceback": [
      "\u001b[0;31m---------------------------------------------------------------------------\u001b[0m",
      "\u001b[0;31mKeyboardInterrupt\u001b[0m                         Traceback (most recent call last)",
      "Cell \u001b[0;32mIn[6], line 124\u001b[0m\n\u001b[1;32m    114\u001b[0m model \u001b[38;5;241m=\u001b[39m HeBERTPunishmentRegressor(config)\n\u001b[1;32m    116\u001b[0m trainer \u001b[38;5;241m=\u001b[39m Trainer(\n\u001b[1;32m    117\u001b[0m     model\u001b[38;5;241m=\u001b[39mmodel,\n\u001b[1;32m    118\u001b[0m     args\u001b[38;5;241m=\u001b[39mtraining_args,\n\u001b[0;32m   (...)\u001b[0m\n\u001b[1;32m    121\u001b[0m     data_collator\u001b[38;5;241m=\u001b[39mcollate_fn\n\u001b[1;32m    122\u001b[0m )\n\u001b[0;32m--> 124\u001b[0m \u001b[43mtrainer\u001b[49m\u001b[38;5;241;43m.\u001b[39;49m\u001b[43mtrain\u001b[49m\u001b[43m(\u001b[49m\u001b[43m)\u001b[49m\n\u001b[1;32m    126\u001b[0m \u001b[38;5;66;03m# ========= Save =========\u001b[39;00m\n\u001b[1;32m    127\u001b[0m model\u001b[38;5;241m.\u001b[39msave_pretrained(\u001b[38;5;124m\"\u001b[39m\u001b[38;5;124m./hebert-3k-drugs-punishment/final\u001b[39m\u001b[38;5;124m\"\u001b[39m)\n",
      "File \u001b[0;32m~/.conda/envs/new_env/lib/python3.9/site-packages/transformers/trainer.py:2171\u001b[0m, in \u001b[0;36mTrainer.train\u001b[0;34m(self, resume_from_checkpoint, trial, ignore_keys_for_eval, **kwargs)\u001b[0m\n\u001b[1;32m   2169\u001b[0m         hf_hub_utils\u001b[38;5;241m.\u001b[39menable_progress_bars()\n\u001b[1;32m   2170\u001b[0m \u001b[38;5;28;01melse\u001b[39;00m:\n\u001b[0;32m-> 2171\u001b[0m     \u001b[38;5;28;01mreturn\u001b[39;00m \u001b[43minner_training_loop\u001b[49m\u001b[43m(\u001b[49m\n\u001b[1;32m   2172\u001b[0m \u001b[43m        \u001b[49m\u001b[43margs\u001b[49m\u001b[38;5;241;43m=\u001b[39;49m\u001b[43margs\u001b[49m\u001b[43m,\u001b[49m\n\u001b[1;32m   2173\u001b[0m \u001b[43m        \u001b[49m\u001b[43mresume_from_checkpoint\u001b[49m\u001b[38;5;241;43m=\u001b[39;49m\u001b[43mresume_from_checkpoint\u001b[49m\u001b[43m,\u001b[49m\n\u001b[1;32m   2174\u001b[0m \u001b[43m        \u001b[49m\u001b[43mtrial\u001b[49m\u001b[38;5;241;43m=\u001b[39;49m\u001b[43mtrial\u001b[49m\u001b[43m,\u001b[49m\n\u001b[1;32m   2175\u001b[0m \u001b[43m        \u001b[49m\u001b[43mignore_keys_for_eval\u001b[49m\u001b[38;5;241;43m=\u001b[39;49m\u001b[43mignore_keys_for_eval\u001b[49m\u001b[43m,\u001b[49m\n\u001b[1;32m   2176\u001b[0m \u001b[43m    \u001b[49m\u001b[43m)\u001b[49m\n",
      "File \u001b[0;32m~/.conda/envs/new_env/lib/python3.9/site-packages/transformers/trainer.py:2533\u001b[0m, in \u001b[0;36mTrainer._inner_training_loop\u001b[0;34m(self, batch_size, args, resume_from_checkpoint, trial, ignore_keys_for_eval)\u001b[0m\n\u001b[1;32m   2530\u001b[0m \u001b[38;5;28;01mwith\u001b[39;00m context():\n\u001b[1;32m   2531\u001b[0m     tr_loss_step \u001b[38;5;241m=\u001b[39m \u001b[38;5;28mself\u001b[39m\u001b[38;5;241m.\u001b[39mtraining_step(model, inputs, num_items_in_batch)\n\u001b[0;32m-> 2533\u001b[0m \u001b[38;5;28;01mif\u001b[39;00m (\n\u001b[1;32m   2534\u001b[0m     args\u001b[38;5;241m.\u001b[39mlogging_nan_inf_filter\n\u001b[1;32m   2535\u001b[0m     \u001b[38;5;129;01mand\u001b[39;00m \u001b[38;5;129;01mnot\u001b[39;00m is_torch_xla_available()\n\u001b[1;32m   2536\u001b[0m     \u001b[38;5;129;01mand\u001b[39;00m (torch\u001b[38;5;241m.\u001b[39misnan(tr_loss_step) \u001b[38;5;129;01mor\u001b[39;00m torch\u001b[38;5;241m.\u001b[39misinf(tr_loss_step))\n\u001b[1;32m   2537\u001b[0m ):\n\u001b[1;32m   2538\u001b[0m     \u001b[38;5;66;03m# if loss is nan or inf simply add the average of previous logged losses\u001b[39;00m\n\u001b[1;32m   2539\u001b[0m     tr_loss \u001b[38;5;241m=\u001b[39m tr_loss \u001b[38;5;241m+\u001b[39m tr_loss \u001b[38;5;241m/\u001b[39m (\u001b[38;5;241m1\u001b[39m \u001b[38;5;241m+\u001b[39m \u001b[38;5;28mself\u001b[39m\u001b[38;5;241m.\u001b[39mstate\u001b[38;5;241m.\u001b[39mglobal_step \u001b[38;5;241m-\u001b[39m \u001b[38;5;28mself\u001b[39m\u001b[38;5;241m.\u001b[39m_globalstep_last_logged)\n\u001b[1;32m   2540\u001b[0m \u001b[38;5;28;01melse\u001b[39;00m:\n",
      "\u001b[0;31mKeyboardInterrupt\u001b[0m: "
     ]
    }
   ],
   "source": [
    "import pandas as pd\n",
    "import torch\n",
    "import numpy as np\n",
    "from torch import nn\n",
    "from torch.utils.data import Dataset\n",
    "from transformers import (\n",
    "    AutoTokenizer,\n",
    "    AutoModel,\n",
    "    AutoConfig,\n",
    "    BertPreTrainedModel,\n",
    "    Trainer,\n",
    "    TrainingArguments\n",
    ")\n",
    "from sklearn.model_selection import train_test_split\n",
    "from sklearn.metrics import mean_squared_error, mean_absolute_error, r2_score\n",
    "import os\n",
    "\n",
    "# ========= Load Data =========\n",
    "df = pd.read_csv(\"merged_output.csv\")\n",
    "df = df.dropna(subset=[\"extracted_gpt_facts\", \"low\", \"high\"])\n",
    "df[\"text\"] = df[\"extracted_gpt_facts\"]\n",
    "df[\"labels\"] = df[[\"low\", \"high\"]].values.tolist()\n",
    "\n",
    "# ========= Tokenizer =========\n",
    "model_path = \"avichr/heBERT\"  \n",
    "tokenizer = AutoTokenizer.from_pretrained(model_path)\n",
    "\n",
    "# ========= Sliding Window Tokenization =========\n",
    "def sliding_tokenize(text, tokenizer, max_length=512, stride=256):\n",
    "    tokens = tokenizer(text, return_tensors=\"pt\", truncation=False)[\"input_ids\"][0]\n",
    "    chunks = []\n",
    "    for i in range(0, len(tokens), stride):\n",
    "        chunk = tokens[i:i+max_length]\n",
    "        if len(chunk) < max_length:\n",
    "            pad_len = max_length - len(chunk)\n",
    "            chunk = torch.cat([chunk, torch.full((pad_len,), tokenizer.pad_token_id)])\n",
    "        chunks.append(chunk.unsqueeze(0))\n",
    "        if len(chunk) < max_length:\n",
    "            break\n",
    "    return torch.cat(chunks, dim=0)\n",
    "\n",
    "# ========= Dataset =========\n",
    "class PunishmentDataset(Dataset):\n",
    "    def __init__(self, df, tokenizer):\n",
    "        self.texts = df[\"text\"].tolist()\n",
    "        self.labels = df[\"labels\"].tolist()\n",
    "        self.tokenizer = tokenizer\n",
    "\n",
    "    def __len__(self):\n",
    "        return len(self.texts)\n",
    "\n",
    "    def __getitem__(self, idx):\n",
    "        input_ids = sliding_tokenize(self.texts[idx], self.tokenizer)\n",
    "        attention_mask = (input_ids != self.tokenizer.pad_token_id).long()\n",
    "        label = torch.tensor(self.labels[idx], dtype=torch.float)\n",
    "        return {\n",
    "            \"input_ids\": input_ids,\n",
    "            \"attention_mask\": attention_mask,\n",
    "            \"labels\": label\n",
    "        }\n",
    "\n",
    "# ========= Collate =========\n",
    "def collate_fn(batch):\n",
    "    input_ids = [torch.mean(x[\"input_ids\"].float(), dim=0) for x in batch]\n",
    "    attention_mask = [torch.mean(x[\"attention_mask\"].float(), dim=0) for x in batch]\n",
    "    labels = torch.stack([x[\"labels\"] for x in batch])\n",
    "    return {\n",
    "        \"input_ids\": torch.stack(input_ids).long(),\n",
    "        \"attention_mask\": torch.stack(attention_mask).long(),\n",
    "        \"labels\": labels\n",
    "    }\n",
    "\n",
    "# ========= Model =========\n",
    "class HeBERTPunishmentRegressor(BertPreTrainedModel):\n",
    "    def __init__(self, config):\n",
    "        super().__init__(config)\n",
    "        self.bert = AutoModel.from_pretrained(model_path, config=config)\n",
    "        self.dropout = nn.Dropout(0.3)\n",
    "        self.regressor = nn.Linear(config.hidden_size, 2)\n",
    "        self.init_weights()\n",
    "\n",
    "    def forward(self, input_ids, attention_mask, labels=None):\n",
    "        outputs = self.bert(input_ids=input_ids, attention_mask=attention_mask)\n",
    "        cls_output = outputs.last_hidden_state[:, 0, :]\n",
    "        x = self.dropout(cls_output)\n",
    "        logits = self.regressor(x)\n",
    "        loss = nn.MSELoss()(logits, labels) if labels is not None else None\n",
    "        return {\"loss\": loss, \"logits\": logits}\n",
    "\n",
    "# ========= Prepare Data =========\n",
    "train_val_df, test_df = train_test_split(df, test_size=0.2, random_state=42)\n",
    "train_df, val_df = train_test_split(train_val_df, test_size=0.1, random_state=42)\n",
    "\n",
    "train_dataset = PunishmentDataset(train_df, tokenizer)\n",
    "val_dataset = PunishmentDataset(val_df, tokenizer)\n",
    "test_dataset = PunishmentDataset(test_df, tokenizer)\n",
    "\n",
    "# ========= Training Arguments =========\n",
    "training_args = TrainingArguments(\n",
    "    output_dir=\"./hebert-punishment\",\n",
    "    num_train_epochs=5,\n",
    "    per_device_train_batch_size=8,\n",
    "    per_device_eval_batch_size=8,\n",
    "    evaluation_strategy=\"epoch\",\n",
    "    save_strategy=\"epoch\",\n",
    "    logging_strategy=\"epoch\",\n",
    "    load_best_model_at_end=True,\n",
    "    metric_for_best_model=\"eval_loss\",\n",
    "    report_to=\"none\"\n",
    ")\n",
    "\n",
    "# ========= Train =========\n",
    "config = AutoConfig.from_pretrained(model_path)\n",
    "model = HeBERTPunishmentRegressor(config)\n",
    "\n",
    "trainer = Trainer(\n",
    "    model=model,\n",
    "    args=training_args,\n",
    "    train_dataset=train_dataset,\n",
    "    eval_dataset=val_dataset,\n",
    "    data_collator=collate_fn\n",
    ")\n",
    "\n",
    "trainer.train()\n",
    "\n",
    "# ========= Save =========\n",
    "model.save_pretrained(\"./hebert-3k-drugs-punishment/final\")\n",
    "tokenizer.save_pretrained(\"./hebert-3k-drugs-punishment/final\")\n",
    "\n",
    "# ========= Evaluation =========\n",
    "print(\"\\n✅ Evaluation on Test Set\")\n",
    "predictions = trainer.predict(test_dataset).predictions\n",
    "true = np.vstack(test_df[\"labels\"].values)\n",
    "\n",
    "print(\"📉 MSE:\", mean_squared_error(true, predictions))\n",
    "print(\"📏 MAE:\", mean_absolute_error(true, predictions))\n",
    "print(\"📊 R2:\", r2_score(true, predictions))\n"
   ]
  },
  {
   "cell_type": "markdown",
   "metadata": {},
   "source": [
    "### baseline- mean"
   ]
  },
  {
   "cell_type": "code",
   "execution_count": null,
   "metadata": {},
   "outputs": [],
   "source": [
    "low_mean = df[\"low\"].mean()\n",
    "high_mean = df[\"high\"].mean()\n",
    "\n",
    "baseline_preds = np.array([[low_mean, high_mean]] * len(test_df))\n",
    "true = np.vstack(test_df[\"labels\"].values)\n",
    "\n",
    "print(\"🔹 Baseline:\")\n",
    "print(\"MSE:\", mean_squared_error(true, baseline_preds))\n",
    "print(\"MAE:\", mean_absolute_error(true, baseline_preds))\n",
    "print(\"R2:\", r2_score(true, baseline_preds))"
   ]
  },
  {
   "cell_type": "markdown",
   "metadata": {},
   "source": [
    "### 2 models!"
   ]
  },
  {
   "cell_type": "code",
   "execution_count": null,
   "metadata": {},
   "outputs": [
    {
     "name": "stderr",
     "output_type": "stream",
     "text": [
      "Some weights of BertModel were not initialized from the model checkpoint at /home/liorkob/M.Sc/thesis/pre-train/hebert-mlm-3k-drugs/final and are newly initialized: ['bert.pooler.dense.bias', 'bert.pooler.dense.weight']\n",
      "You should probably TRAIN this model on a down-stream task to be able to use it for predictions and inference.\n"
     ]
    },
    {
     "name": "stdout",
     "output_type": "stream",
     "text": [
      "\n",
      "=== 🔧 Training for: LOW ===\n"
     ]
    },
    {
     "name": "stderr",
     "output_type": "stream",
     "text": [
      "low Epoch 1: 100%|██████████| 450/450 [00:54<00:00,  8.20it/s]\n"
     ]
    },
    {
     "name": "stdout",
     "output_type": "stream",
     "text": [
      "low Epoch 1 Loss: 668.8033\n"
     ]
    },
    {
     "name": "stderr",
     "output_type": "stream",
     "text": [
      "low Epoch 2: 100%|██████████| 450/450 [00:55<00:00,  8.15it/s]\n"
     ]
    },
    {
     "name": "stdout",
     "output_type": "stream",
     "text": [
      "low Epoch 2 Loss: 613.8230\n"
     ]
    },
    {
     "name": "stderr",
     "output_type": "stream",
     "text": [
      "low Epoch 3: 100%|██████████| 450/450 [00:55<00:00,  8.12it/s]\n"
     ]
    },
    {
     "name": "stdout",
     "output_type": "stream",
     "text": [
      "low Epoch 3 Loss: 570.9976\n"
     ]
    },
    {
     "name": "stderr",
     "output_type": "stream",
     "text": [
      "low Epoch 4: 100%|██████████| 450/450 [00:55<00:00,  8.12it/s]\n"
     ]
    },
    {
     "name": "stdout",
     "output_type": "stream",
     "text": [
      "low Epoch 4 Loss: 497.8380\n"
     ]
    },
    {
     "name": "stderr",
     "output_type": "stream",
     "text": [
      "low Epoch 5: 100%|██████████| 450/450 [00:55<00:00,  8.11it/s]\n"
     ]
    },
    {
     "name": "stdout",
     "output_type": "stream",
     "text": [
      "low Epoch 5 Loss: 437.9697\n"
     ]
    },
    {
     "name": "stderr",
     "output_type": "stream",
     "text": [
      "low Epoch 6: 100%|██████████| 450/450 [00:55<00:00,  8.09it/s]\n"
     ]
    },
    {
     "name": "stdout",
     "output_type": "stream",
     "text": [
      "low Epoch 6 Loss: 389.4245\n"
     ]
    },
    {
     "name": "stderr",
     "output_type": "stream",
     "text": [
      "low Epoch 7: 100%|██████████| 450/450 [00:55<00:00,  8.08it/s]\n"
     ]
    },
    {
     "name": "stdout",
     "output_type": "stream",
     "text": [
      "low Epoch 7 Loss: 351.0619\n"
     ]
    },
    {
     "name": "stderr",
     "output_type": "stream",
     "text": [
      "low Epoch 8: 100%|██████████| 450/450 [00:55<00:00,  8.09it/s]\n"
     ]
    },
    {
     "name": "stdout",
     "output_type": "stream",
     "text": [
      "low Epoch 8 Loss: 319.7493\n"
     ]
    },
    {
     "name": "stderr",
     "output_type": "stream",
     "text": [
      "low Epoch 9: 100%|██████████| 450/450 [00:55<00:00,  8.09it/s]\n"
     ]
    },
    {
     "name": "stdout",
     "output_type": "stream",
     "text": [
      "low Epoch 9 Loss: 289.1897\n"
     ]
    },
    {
     "name": "stderr",
     "output_type": "stream",
     "text": [
      "low Epoch 10: 100%|██████████| 450/450 [00:55<00:00,  8.09it/s]\n"
     ]
    },
    {
     "name": "stdout",
     "output_type": "stream",
     "text": [
      "low Epoch 10 Loss: 271.0236\n"
     ]
    },
    {
     "name": "stderr",
     "output_type": "stream",
     "text": [
      "low Epoch 11: 100%|██████████| 450/450 [00:55<00:00,  8.09it/s]\n"
     ]
    },
    {
     "name": "stdout",
     "output_type": "stream",
     "text": [
      "low Epoch 11 Loss: 249.9328\n"
     ]
    },
    {
     "name": "stderr",
     "output_type": "stream",
     "text": [
      "low Epoch 12: 100%|██████████| 450/450 [00:55<00:00,  8.08it/s]\n"
     ]
    },
    {
     "name": "stdout",
     "output_type": "stream",
     "text": [
      "low Epoch 12 Loss: 226.4281\n"
     ]
    },
    {
     "name": "stderr",
     "output_type": "stream",
     "text": [
      "low Epoch 13: 100%|██████████| 450/450 [00:55<00:00,  8.11it/s]\n"
     ]
    },
    {
     "name": "stdout",
     "output_type": "stream",
     "text": [
      "low Epoch 13 Loss: 218.8853\n"
     ]
    },
    {
     "name": "stderr",
     "output_type": "stream",
     "text": [
      "low Epoch 14: 100%|██████████| 450/450 [00:55<00:00,  8.13it/s]\n"
     ]
    },
    {
     "name": "stdout",
     "output_type": "stream",
     "text": [
      "low Epoch 14 Loss: 198.7298\n"
     ]
    },
    {
     "name": "stderr",
     "output_type": "stream",
     "text": [
      "low Epoch 15: 100%|██████████| 450/450 [00:55<00:00,  8.14it/s]\n"
     ]
    },
    {
     "name": "stdout",
     "output_type": "stream",
     "text": [
      "low Epoch 15 Loss: 188.6361\n",
      "\n",
      "📊 LOW Evaluation:\n",
      "MAE: 6.89\n",
      "MSE: 113.30\n",
      "R²: 0.35\n"
     ]
    },
    {
     "name": "stderr",
     "output_type": "stream",
     "text": [
      "Some weights of BertModel were not initialized from the model checkpoint at /home/liorkob/M.Sc/thesis/pre-train/hebert-mlm-3k-drugs/final and are newly initialized: ['bert.pooler.dense.bias', 'bert.pooler.dense.weight']\n",
      "You should probably TRAIN this model on a down-stream task to be able to use it for predictions and inference.\n"
     ]
    },
    {
     "name": "stdout",
     "output_type": "stream",
     "text": [
      "✅ Saved model to: /home/liorkob/M.Sc/thesis/pre-train/hebert-mlm-3k-drugs-punishment\n",
      "\n",
      "=== 🔧 Training for: HIGH ===\n"
     ]
    },
    {
     "name": "stderr",
     "output_type": "stream",
     "text": [
      "high Epoch 1: 100%|██████████| 450/450 [00:55<00:00,  8.09it/s]\n"
     ]
    },
    {
     "name": "stdout",
     "output_type": "stream",
     "text": [
      "high Epoch 1 Loss: 2633.7349\n"
     ]
    },
    {
     "name": "stderr",
     "output_type": "stream",
     "text": [
      "high Epoch 2: 100%|██████████| 450/450 [00:55<00:00,  8.10it/s]\n"
     ]
    },
    {
     "name": "stdout",
     "output_type": "stream",
     "text": [
      "high Epoch 2 Loss: 2265.9777\n"
     ]
    },
    {
     "name": "stderr",
     "output_type": "stream",
     "text": [
      "high Epoch 3: 100%|██████████| 450/450 [00:55<00:00,  8.08it/s]\n"
     ]
    },
    {
     "name": "stdout",
     "output_type": "stream",
     "text": [
      "high Epoch 3 Loss: 2093.0695\n"
     ]
    },
    {
     "name": "stderr",
     "output_type": "stream",
     "text": [
      "high Epoch 4: 100%|██████████| 450/450 [00:55<00:00,  8.09it/s]\n"
     ]
    },
    {
     "name": "stdout",
     "output_type": "stream",
     "text": [
      "high Epoch 4 Loss: 1960.9661\n"
     ]
    },
    {
     "name": "stderr",
     "output_type": "stream",
     "text": [
      "high Epoch 5: 100%|██████████| 450/450 [00:55<00:00,  8.07it/s]\n"
     ]
    },
    {
     "name": "stdout",
     "output_type": "stream",
     "text": [
      "high Epoch 5 Loss: 1849.6690\n"
     ]
    },
    {
     "name": "stderr",
     "output_type": "stream",
     "text": [
      "high Epoch 6: 100%|██████████| 450/450 [00:55<00:00,  8.07it/s]\n"
     ]
    },
    {
     "name": "stdout",
     "output_type": "stream",
     "text": [
      "high Epoch 6 Loss: 1773.9768\n"
     ]
    },
    {
     "name": "stderr",
     "output_type": "stream",
     "text": [
      "high Epoch 7: 100%|██████████| 450/450 [00:55<00:00,  8.08it/s]\n"
     ]
    },
    {
     "name": "stdout",
     "output_type": "stream",
     "text": [
      "high Epoch 7 Loss: 1710.6457\n"
     ]
    },
    {
     "name": "stderr",
     "output_type": "stream",
     "text": [
      "high Epoch 8: 100%|██████████| 450/450 [00:55<00:00,  8.07it/s]\n"
     ]
    },
    {
     "name": "stdout",
     "output_type": "stream",
     "text": [
      "high Epoch 8 Loss: 1672.3865\n"
     ]
    },
    {
     "name": "stderr",
     "output_type": "stream",
     "text": [
      "high Epoch 9: 100%|██████████| 450/450 [00:55<00:00,  8.07it/s]\n"
     ]
    },
    {
     "name": "stdout",
     "output_type": "stream",
     "text": [
      "high Epoch 9 Loss: 1639.3781\n"
     ]
    },
    {
     "name": "stderr",
     "output_type": "stream",
     "text": [
      "high Epoch 10: 100%|██████████| 450/450 [00:55<00:00,  8.06it/s]\n"
     ]
    },
    {
     "name": "stdout",
     "output_type": "stream",
     "text": [
      "high Epoch 10 Loss: 1625.8685\n"
     ]
    },
    {
     "name": "stderr",
     "output_type": "stream",
     "text": [
      "high Epoch 11: 100%|██████████| 450/450 [00:55<00:00,  8.07it/s]\n"
     ]
    },
    {
     "name": "stdout",
     "output_type": "stream",
     "text": [
      "high Epoch 11 Loss: 1617.4752\n"
     ]
    },
    {
     "name": "stderr",
     "output_type": "stream",
     "text": [
      "high Epoch 12: 100%|██████████| 450/450 [00:55<00:00,  8.07it/s]\n"
     ]
    },
    {
     "name": "stdout",
     "output_type": "stream",
     "text": [
      "high Epoch 12 Loss: 1612.7278\n"
     ]
    },
    {
     "name": "stderr",
     "output_type": "stream",
     "text": [
      "high Epoch 13: 100%|██████████| 450/450 [00:55<00:00,  8.07it/s]\n"
     ]
    },
    {
     "name": "stdout",
     "output_type": "stream",
     "text": [
      "high Epoch 13 Loss: 1576.9133\n"
     ]
    },
    {
     "name": "stderr",
     "output_type": "stream",
     "text": [
      "high Epoch 14: 100%|██████████| 450/450 [00:55<00:00,  8.07it/s]\n"
     ]
    },
    {
     "name": "stdout",
     "output_type": "stream",
     "text": [
      "high Epoch 14 Loss: 1495.6973\n"
     ]
    },
    {
     "name": "stderr",
     "output_type": "stream",
     "text": [
      "high Epoch 15: 100%|██████████| 450/450 [00:55<00:00,  8.06it/s]\n"
     ]
    },
    {
     "name": "stdout",
     "output_type": "stream",
     "text": [
      "high Epoch 15 Loss: 1317.7412\n",
      "\n",
      "📊 HIGH Evaluation:\n",
      "MAE: 13.03\n",
      "MSE: 345.76\n",
      "R²: 0.19\n",
      "✅ Saved model to: /home/liorkob/M.Sc/thesis/pre-train/hebert-mlm-3k-drugs-punishment\n"
     ]
    }
   ],
   "source": [
    "# import pandas as pd\n",
    "# import torch\n",
    "# import numpy as np\n",
    "# from torch import nn\n",
    "# from torch.utils.data import Dataset, DataLoader\n",
    "# from transformers import (\n",
    "#     AutoTokenizer,\n",
    "#     AutoModel,\n",
    "#     AutoConfig,\n",
    "#     BertPreTrainedModel\n",
    "# )\n",
    "# from torch.optim import AdamW\n",
    "# from sklearn.model_selection import train_test_split\n",
    "# from sklearn.metrics import mean_squared_error, mean_absolute_error, r2_score\n",
    "# from tqdm import tqdm\n",
    "# import os\n",
    "\n",
    "# # ========== הגדרת מודל וטוקניזר שכבר עברו fine-tuning ==========\n",
    "# finetuned_model_path = \"/home/liorkob/M.Sc/thesis/pre-train/hebert-mlm-3k-drugs/final\"\n",
    "# tokenizer = AutoTokenizer.from_pretrained(finetuned_model_path)\n",
    "\n",
    "# device = torch.device(\"cuda\" if torch.cuda.is_available() else \"cpu\")\n",
    "\n",
    "# # ========== פונקציית Tokenization Sliding Window ==========\n",
    "# def sliding_tokenize(text, tokenizer, max_length=512, stride=256):\n",
    "#     tokens = tokenizer(text, return_tensors=\"pt\", truncation=False)[\"input_ids\"][0]\n",
    "#     chunks = []\n",
    "#     for i in range(0, len(tokens), stride):\n",
    "#         chunk = tokens[i:i+max_length]\n",
    "#         if len(chunk) < max_length:\n",
    "#             pad_len = max_length - len(chunk)\n",
    "#             chunk = torch.cat([chunk, torch.full((pad_len,), tokenizer.pad_token_id)])\n",
    "#         chunks.append(chunk.unsqueeze(0))\n",
    "#         if len(chunk) < max_length:\n",
    "#             break\n",
    "#     return torch.cat(chunks, dim=0)\n",
    "\n",
    "# # ========== Dataset ==========\n",
    "# class SingleTargetDataset(Dataset):\n",
    "#     def __init__(self, df, tokenizer, target_col):\n",
    "#         self.texts = df[\"text\"].tolist()\n",
    "#         self.labels = df[target_col].tolist()\n",
    "#         self.tokenizer = tokenizer\n",
    "\n",
    "#     def __len__(self):\n",
    "#         return len(self.texts)\n",
    "\n",
    "#     def __getitem__(self, idx):\n",
    "#         text = self.texts[idx]\n",
    "#         chunks = sliding_tokenize(text, self.tokenizer)\n",
    "#         attention_mask = (chunks != self.tokenizer.pad_token_id).long()\n",
    "#         label = torch.tensor(self.labels[idx], dtype=torch.float)\n",
    "#         return {\n",
    "#             \"input_ids\": chunks,\n",
    "#             \"attention_mask\": attention_mask,\n",
    "#             \"labels\": label\n",
    "#         }\n",
    "\n",
    "# # ========== Collate ==========\n",
    "# def collate_fn(batch):\n",
    "#     return {\n",
    "#         \"input_ids\": [x[\"input_ids\"] for x in batch],\n",
    "#         \"attention_mask\": [x[\"attention_mask\"] for x in batch],\n",
    "#         \"labels\": torch.stack([x[\"labels\"] for x in batch])\n",
    "#     }\n",
    "\n",
    "# # ========== Loss Function ==========\n",
    "# def log_scaled_mse(pred, target):\n",
    "#     error = torch.abs(pred - target)\n",
    "#     return torch.mean(torch.log1p(error) * error ** 2)\n",
    "\n",
    "# # ========== Regression Model ==========\n",
    "# class HeBERTSingleRegressor(BertPreTrainedModel):\n",
    "#     def __init__(self, config, bert_model_path, dropout_rate=0.3):\n",
    "#         super().__init__(config)\n",
    "#         self.bert = AutoModel.from_pretrained(bert_model_path)\n",
    "#         self.regressor = nn.Linear(self.bert.config.hidden_size, 1)\n",
    "#         self.dropout = nn.Dropout(dropout_rate)\n",
    "#         self.init_weights()\n",
    "\n",
    "#     def forward(self, input_ids, attention_mask, labels=None):\n",
    "#         batch_cls = []\n",
    "#         for ids, mask in zip(input_ids, attention_mask):\n",
    "#             ids = ids.to(self.device)\n",
    "#             mask = mask.to(self.device)\n",
    "#             outputs = self.bert(input_ids=ids, attention_mask=mask)\n",
    "#             cls_tokens = outputs.last_hidden_state[:, 0, :]\n",
    "#             mean_cls = cls_tokens.mean(dim=0)\n",
    "#             batch_cls.append(mean_cls)\n",
    "\n",
    "#         pooled_output = torch.stack(batch_cls)\n",
    "#         x = self.dropout(pooled_output)\n",
    "#         prediction = self.regressor(x).squeeze(1)\n",
    "\n",
    "#         loss = log_scaled_mse(prediction, labels) if labels is not None else torch.tensor(0.0, device=x.device)\n",
    "#         return {\"loss\": loss, \"logits\": prediction}\n",
    "\n",
    "# # ========== Load Data ==========\n",
    "# df = pd.read_csv(\"merged_output.csv\")\n",
    "# df = df.dropna(subset=[\"extracted_gpt_facts\", \"low\", \"high\"])\n",
    "# df[\"text\"] = df[\"extracted_gpt_facts\"]\n",
    "\n",
    "# # ========== Training Loop for both LOW and HIGH ==========\n",
    "# for target_col in [\"low\", \"high\"]:\n",
    "#     print(f\"\\n=== 🔧 Training for: {target_col.upper()} ===\")\n",
    "\n",
    "#     train_val_df, test_df = train_test_split(df, test_size=0.2, random_state=42)\n",
    "#     train_df, val_df = train_test_split(train_val_df, test_size=0.1, random_state=42)\n",
    "\n",
    "#     train_dataset = SingleTargetDataset(train_df, tokenizer, target_col)\n",
    "#     test_dataset = SingleTargetDataset(test_df, tokenizer, target_col)\n",
    "#     train_loader = DataLoader(train_dataset, batch_size=4, shuffle=True, collate_fn=collate_fn)\n",
    "#     test_loader = DataLoader(test_dataset, batch_size=4, collate_fn=collate_fn)\n",
    "\n",
    "#     config = AutoConfig.from_pretrained(finetuned_model_path)\n",
    "#     model = HeBERTSingleRegressor(config, bert_model_path=finetuned_model_path).to(device)\n",
    "#     optimizer = AdamW(model.parameters(), lr=1e-5)\n",
    "\n",
    "#     for epoch in range(15):\n",
    "#         model.train()\n",
    "#         total_loss = 0\n",
    "#         for batch in tqdm(train_loader, desc=f\"{target_col} Epoch {epoch+1}\"):\n",
    "#             input_ids = [b.to(device) for b in batch[\"input_ids\"]]\n",
    "#             attention_mask = [b.to(device) for b in batch[\"attention_mask\"]]\n",
    "#             labels = batch[\"labels\"].to(device)\n",
    "\n",
    "#             outputs = model(input_ids=input_ids, attention_mask=attention_mask, labels=labels)\n",
    "#             loss = outputs[\"loss\"]\n",
    "#             loss.backward()\n",
    "#             optimizer.step()\n",
    "#             optimizer.zero_grad()\n",
    "#             total_loss += loss.item()\n",
    "\n",
    "#         print(f\"{target_col} Epoch {epoch+1} Loss: {total_loss / len(train_loader):.4f}\")\n",
    "\n",
    "#     # --- הערכה ---\n",
    "#     model.eval()\n",
    "#     preds, trues = [], []\n",
    "#     with torch.no_grad():\n",
    "#         for batch in test_loader:\n",
    "#             input_ids = [b.to(device) for b in batch[\"input_ids\"]]\n",
    "#             attention_mask = [b.to(device) for b in batch[\"attention_mask\"]]\n",
    "#             labels = batch[\"labels\"].to(device)\n",
    "#             outputs = model(input_ids=input_ids, attention_mask=attention_mask)\n",
    "#             preds.extend(outputs[\"logits\"].cpu().numpy())\n",
    "#             trues.extend(labels.cpu().numpy())\n",
    "\n",
    "#     preds, trues = np.array(preds), np.array(trues)\n",
    "#     mae = mean_absolute_error(trues, preds)\n",
    "#     mse = mean_squared_error(trues, preds)\n",
    "#     r2 = r2_score(trues, preds)\n",
    "\n",
    "#     print(f\"\\n📊 {target_col.upper()} Evaluation:\")\n",
    "#     print(f\"MAE: {mae:.2f}\")\n",
    "#     print(f\"MSE: {mse:.2f}\")\n",
    "#     print(f\"R²: {r2:.2f}\")\n",
    "\n",
    "#     # --- שמירה ---\n",
    "#     save_path = \"/home/liorkob/M.Sc/thesis/pre-train/hebert-mlm-3k-drugs-punishment\"\n",
    "#     model.bert.save_pretrained(save_path)\n",
    "#     tokenizer.save_pretrained(save_path)\n",
    "#     torch.save(model.regressor.state_dict(), f\"{save_path}/regressor.pt\")\n",
    "#     print(f\"✅ Saved model to: {save_path}\")\n"
   ]
  },
  {
   "cell_type": "markdown",
   "metadata": {},
   "source": []
  },
  {
   "cell_type": "code",
   "execution_count": 1,
   "metadata": {},
   "outputs": [],
   "source": [
    "import os\n",
    "os.environ[\"CUDA_VISIBLE_DEVICES\"] = \"5\"\n"
   ]
  },
  {
   "cell_type": "code",
   "execution_count": 4,
   "metadata": {},
   "outputs": [
    {
     "name": "stderr",
     "output_type": "stream",
     "text": [
      "Some weights of BertModel were not initialized from the model checkpoint at /home/liorkob/M.Sc/thesis/pre-train/hebert-mlm-3k-drugs/final and are newly initialized: ['bert.pooler.dense.bias', 'bert.pooler.dense.weight']\n",
      "You should probably TRAIN this model on a down-stream task to be able to use it for predictions and inference.\n"
     ]
    },
    {
     "name": "stdout",
     "output_type": "stream",
     "text": [
      "\n",
      "=== 🔧 Training for: LOW ===\n"
     ]
    },
    {
     "name": "stderr",
     "output_type": "stream",
     "text": [
      "low Epoch 1: 100%|██████████| 225/225 [00:25<00:00,  8.85it/s]\n"
     ]
    },
    {
     "name": "stdout",
     "output_type": "stream",
     "text": [
      "low Epoch 1 Loss: 316.7894\n"
     ]
    },
    {
     "name": "stderr",
     "output_type": "stream",
     "text": [
      "low Epoch 2: 100%|██████████| 225/225 [00:26<00:00,  8.63it/s]\n"
     ]
    },
    {
     "name": "stdout",
     "output_type": "stream",
     "text": [
      "low Epoch 2 Loss: 266.4900\n"
     ]
    },
    {
     "name": "stderr",
     "output_type": "stream",
     "text": [
      "low Epoch 3: 100%|██████████| 225/225 [00:26<00:00,  8.43it/s]\n"
     ]
    },
    {
     "name": "stdout",
     "output_type": "stream",
     "text": [
      "low Epoch 3 Loss: 229.7418\n"
     ]
    },
    {
     "name": "stderr",
     "output_type": "stream",
     "text": [
      "low Epoch 4: 100%|██████████| 225/225 [00:26<00:00,  8.34it/s]\n"
     ]
    },
    {
     "name": "stdout",
     "output_type": "stream",
     "text": [
      "low Epoch 4 Loss: 205.6842\n"
     ]
    },
    {
     "name": "stderr",
     "output_type": "stream",
     "text": [
      "low Epoch 5: 100%|██████████| 225/225 [00:26<00:00,  8.35it/s]\n"
     ]
    },
    {
     "name": "stdout",
     "output_type": "stream",
     "text": [
      "low Epoch 5 Loss: 194.7886\n"
     ]
    },
    {
     "name": "stderr",
     "output_type": "stream",
     "text": [
      "low Epoch 6: 100%|██████████| 225/225 [00:26<00:00,  8.33it/s]\n"
     ]
    },
    {
     "name": "stdout",
     "output_type": "stream",
     "text": [
      "low Epoch 6 Loss: 189.8290\n"
     ]
    },
    {
     "name": "stderr",
     "output_type": "stream",
     "text": [
      "low Epoch 7: 100%|██████████| 225/225 [00:27<00:00,  8.16it/s]\n"
     ]
    },
    {
     "name": "stdout",
     "output_type": "stream",
     "text": [
      "low Epoch 7 Loss: 185.8266\n"
     ]
    },
    {
     "name": "stderr",
     "output_type": "stream",
     "text": [
      "low Epoch 8: 100%|██████████| 225/225 [00:27<00:00,  8.17it/s]\n"
     ]
    },
    {
     "name": "stdout",
     "output_type": "stream",
     "text": [
      "low Epoch 8 Loss: 168.3641\n"
     ]
    },
    {
     "name": "stderr",
     "output_type": "stream",
     "text": [
      "low Epoch 9: 100%|██████████| 225/225 [00:27<00:00,  8.15it/s]\n"
     ]
    },
    {
     "name": "stdout",
     "output_type": "stream",
     "text": [
      "low Epoch 9 Loss: 147.9520\n"
     ]
    },
    {
     "name": "stderr",
     "output_type": "stream",
     "text": [
      "low Epoch 10: 100%|██████████| 225/225 [00:27<00:00,  8.18it/s]\n"
     ]
    },
    {
     "name": "stdout",
     "output_type": "stream",
     "text": [
      "low Epoch 10 Loss: 126.8083\n"
     ]
    },
    {
     "name": "stderr",
     "output_type": "stream",
     "text": [
      "low Epoch 11: 100%|██████████| 225/225 [00:27<00:00,  8.16it/s]\n"
     ]
    },
    {
     "name": "stdout",
     "output_type": "stream",
     "text": [
      "low Epoch 11 Loss: 109.0439\n"
     ]
    },
    {
     "name": "stderr",
     "output_type": "stream",
     "text": [
      "low Epoch 12: 100%|██████████| 225/225 [00:27<00:00,  8.15it/s]\n"
     ]
    },
    {
     "name": "stdout",
     "output_type": "stream",
     "text": [
      "low Epoch 12 Loss: 93.3896\n"
     ]
    },
    {
     "name": "stderr",
     "output_type": "stream",
     "text": [
      "low Epoch 13: 100%|██████████| 225/225 [00:27<00:00,  8.15it/s]\n"
     ]
    },
    {
     "name": "stdout",
     "output_type": "stream",
     "text": [
      "low Epoch 13 Loss: 82.9933\n"
     ]
    },
    {
     "name": "stderr",
     "output_type": "stream",
     "text": [
      "low Epoch 14: 100%|██████████| 225/225 [00:27<00:00,  8.13it/s]\n"
     ]
    },
    {
     "name": "stdout",
     "output_type": "stream",
     "text": [
      "low Epoch 14 Loss: 71.8234\n"
     ]
    },
    {
     "name": "stderr",
     "output_type": "stream",
     "text": [
      "low Epoch 15: 100%|██████████| 225/225 [00:27<00:00,  8.12it/s]\n"
     ]
    },
    {
     "name": "stdout",
     "output_type": "stream",
     "text": [
      "low Epoch 15 Loss: 63.3552\n"
     ]
    },
    {
     "name": "stderr",
     "output_type": "stream",
     "text": [
      "low Epoch 16: 100%|██████████| 225/225 [00:27<00:00,  8.11it/s]\n"
     ]
    },
    {
     "name": "stdout",
     "output_type": "stream",
     "text": [
      "low Epoch 16 Loss: 54.8782\n"
     ]
    },
    {
     "name": "stderr",
     "output_type": "stream",
     "text": [
      "low Epoch 17: 100%|██████████| 225/225 [00:27<00:00,  8.15it/s]\n"
     ]
    },
    {
     "name": "stdout",
     "output_type": "stream",
     "text": [
      "low Epoch 17 Loss: 54.4118\n"
     ]
    },
    {
     "name": "stderr",
     "output_type": "stream",
     "text": [
      "low Epoch 18: 100%|██████████| 225/225 [00:27<00:00,  8.09it/s]\n"
     ]
    },
    {
     "name": "stdout",
     "output_type": "stream",
     "text": [
      "low Epoch 18 Loss: 45.0538\n"
     ]
    },
    {
     "name": "stderr",
     "output_type": "stream",
     "text": [
      "low Epoch 19: 100%|██████████| 225/225 [00:27<00:00,  8.12it/s]\n"
     ]
    },
    {
     "name": "stdout",
     "output_type": "stream",
     "text": [
      "low Epoch 19 Loss: 38.9283\n"
     ]
    },
    {
     "name": "stderr",
     "output_type": "stream",
     "text": [
      "low Epoch 20: 100%|██████████| 225/225 [00:27<00:00,  8.10it/s]\n"
     ]
    },
    {
     "name": "stdout",
     "output_type": "stream",
     "text": [
      "low Epoch 20 Loss: 37.0286\n"
     ]
    },
    {
     "name": "stderr",
     "output_type": "stream",
     "text": [
      "low Epoch 21: 100%|██████████| 225/225 [00:27<00:00,  8.11it/s]\n"
     ]
    },
    {
     "name": "stdout",
     "output_type": "stream",
     "text": [
      "low Epoch 21 Loss: 32.9997\n"
     ]
    },
    {
     "name": "stderr",
     "output_type": "stream",
     "text": [
      "low Epoch 22: 100%|██████████| 225/225 [00:27<00:00,  8.10it/s]\n"
     ]
    },
    {
     "name": "stdout",
     "output_type": "stream",
     "text": [
      "low Epoch 22 Loss: 28.3313\n"
     ]
    },
    {
     "name": "stderr",
     "output_type": "stream",
     "text": [
      "low Epoch 23: 100%|██████████| 225/225 [00:27<00:00,  8.10it/s]\n"
     ]
    },
    {
     "name": "stdout",
     "output_type": "stream",
     "text": [
      "low Epoch 23 Loss: 25.3131\n"
     ]
    },
    {
     "name": "stderr",
     "output_type": "stream",
     "text": [
      "low Epoch 24: 100%|██████████| 225/225 [00:27<00:00,  8.11it/s]\n"
     ]
    },
    {
     "name": "stdout",
     "output_type": "stream",
     "text": [
      "low Epoch 24 Loss: 24.2497\n"
     ]
    },
    {
     "name": "stderr",
     "output_type": "stream",
     "text": [
      "low Epoch 25: 100%|██████████| 225/225 [00:27<00:00,  8.12it/s]\n"
     ]
    },
    {
     "name": "stdout",
     "output_type": "stream",
     "text": [
      "low Epoch 25 Loss: 23.1013\n"
     ]
    },
    {
     "data": {
      "image/png": "[encoded data removed]",
      "text/plain": [
       "<Figure size 600x600 with 1 Axes>"
      ]
     },
     "metadata": {},
     "output_type": "display_data"
    },
    {
     "data": {
      "image/png": "[encoded data removed]",
      "text/plain": [
       "<Figure size 600x400 with 1 Axes>"
      ]
     },
     "metadata": {},
     "output_type": "display_data"
    },
    {
     "name": "stdout",
     "output_type": "stream",
     "text": [
      "\n",
      "📊 LOW Evaluation:\n",
      "MAE: 7.02\n",
      "MSE: 106.40\n",
      "R²: 0.39\n",
      "\n",
      "🔍 Mean Relative Error: 565260.62 (0.50 median)\n",
      "Over-predictions: 264, Under-predictions: 237\n",
      "\n",
      "🔍 Top 10 Largest Errors:\n",
      "True: 72.00, Pred: 13.56, Error: 58.44\n",
      "True: 74.00, Pred: 22.97, Error: 51.03\n",
      "True: 60.00, Pred: 22.13, Error: 37.87\n",
      "True: 48.00, Pred: 10.60, Error: 37.40\n",
      "True: 54.00, Pred: 18.13, Error: 35.87\n",
      "True: 54.00, Pred: 18.14, Error: 35.86\n",
      "True: 36.00, Pred: 3.85, Error: 32.15\n",
      "True: 36.00, Pred: 6.77, Error: 29.23\n",
      "True: 48.00, Pred: 19.14, Error: 28.86\n",
      "True: 36.00, Pred: 7.19, Error: 28.81\n"
     ]
    },
    {
     "name": "stderr",
     "output_type": "stream",
     "text": [
      "Some weights of BertModel were not initialized from the model checkpoint at /home/liorkob/M.Sc/thesis/pre-train/hebert-mlm-3k-drugs/final and are newly initialized: ['bert.pooler.dense.bias', 'bert.pooler.dense.weight']\n",
      "You should probably TRAIN this model on a down-stream task to be able to use it for predictions and inference.\n"
     ]
    },
    {
     "name": "stdout",
     "output_type": "stream",
     "text": [
      "✅ Saved model to: /home/liorkob/M.Sc/thesis/pre-train/hebert-mlm-3k-drugs-punishment/low\n",
      "\n",
      "=== 🔧 Training for: HIGH ===\n"
     ]
    },
    {
     "name": "stderr",
     "output_type": "stream",
     "text": [
      "high Epoch 1: 100%|██████████| 225/225 [00:27<00:00,  8.14it/s]\n"
     ]
    },
    {
     "name": "stdout",
     "output_type": "stream",
     "text": [
      "high Epoch 1 Loss: 1136.2618\n"
     ]
    },
    {
     "name": "stderr",
     "output_type": "stream",
     "text": [
      "high Epoch 2: 100%|██████████| 225/225 [00:27<00:00,  8.15it/s]\n"
     ]
    },
    {
     "name": "stdout",
     "output_type": "stream",
     "text": [
      "high Epoch 2 Loss: 1006.8128\n"
     ]
    },
    {
     "name": "stderr",
     "output_type": "stream",
     "text": [
      "high Epoch 3: 100%|██████████| 225/225 [00:27<00:00,  8.14it/s]\n"
     ]
    },
    {
     "name": "stdout",
     "output_type": "stream",
     "text": [
      "high Epoch 3 Loss: 867.7354\n"
     ]
    },
    {
     "name": "stderr",
     "output_type": "stream",
     "text": [
      "high Epoch 4: 100%|██████████| 225/225 [00:27<00:00,  8.14it/s]\n"
     ]
    },
    {
     "name": "stdout",
     "output_type": "stream",
     "text": [
      "high Epoch 4 Loss: 728.4828\n"
     ]
    },
    {
     "name": "stderr",
     "output_type": "stream",
     "text": [
      "high Epoch 5: 100%|██████████| 225/225 [00:27<00:00,  8.16it/s]\n"
     ]
    },
    {
     "name": "stdout",
     "output_type": "stream",
     "text": [
      "high Epoch 5 Loss: 614.3697\n"
     ]
    },
    {
     "name": "stderr",
     "output_type": "stream",
     "text": [
      "high Epoch 6: 100%|██████████| 225/225 [00:27<00:00,  8.13it/s]\n"
     ]
    },
    {
     "name": "stdout",
     "output_type": "stream",
     "text": [
      "high Epoch 6 Loss: 531.9475\n"
     ]
    },
    {
     "name": "stderr",
     "output_type": "stream",
     "text": [
      "high Epoch 7: 100%|██████████| 225/225 [00:27<00:00,  8.17it/s]\n"
     ]
    },
    {
     "name": "stdout",
     "output_type": "stream",
     "text": [
      "high Epoch 7 Loss: 484.3773\n"
     ]
    },
    {
     "name": "stderr",
     "output_type": "stream",
     "text": [
      "high Epoch 8: 100%|██████████| 225/225 [00:27<00:00,  8.13it/s]\n"
     ]
    },
    {
     "name": "stdout",
     "output_type": "stream",
     "text": [
      "high Epoch 8 Loss: 459.7913\n"
     ]
    },
    {
     "name": "stderr",
     "output_type": "stream",
     "text": [
      "high Epoch 9: 100%|██████████| 225/225 [00:27<00:00,  8.13it/s]\n"
     ]
    },
    {
     "name": "stdout",
     "output_type": "stream",
     "text": [
      "high Epoch 9 Loss: 449.1917\n"
     ]
    },
    {
     "name": "stderr",
     "output_type": "stream",
     "text": [
      "high Epoch 10: 100%|██████████| 225/225 [00:27<00:00,  8.13it/s]\n"
     ]
    },
    {
     "name": "stdout",
     "output_type": "stream",
     "text": [
      "high Epoch 10 Loss: 448.7751\n"
     ]
    },
    {
     "name": "stderr",
     "output_type": "stream",
     "text": [
      "high Epoch 11: 100%|██████████| 225/225 [00:27<00:00,  8.14it/s]\n"
     ]
    },
    {
     "name": "stdout",
     "output_type": "stream",
     "text": [
      "high Epoch 11 Loss: 442.4400\n"
     ]
    },
    {
     "name": "stderr",
     "output_type": "stream",
     "text": [
      "high Epoch 12: 100%|██████████| 225/225 [00:27<00:00,  8.14it/s]\n"
     ]
    },
    {
     "name": "stdout",
     "output_type": "stream",
     "text": [
      "high Epoch 12 Loss: 434.9271\n"
     ]
    },
    {
     "name": "stderr",
     "output_type": "stream",
     "text": [
      "high Epoch 13: 100%|██████████| 225/225 [00:27<00:00,  8.11it/s]\n"
     ]
    },
    {
     "name": "stdout",
     "output_type": "stream",
     "text": [
      "high Epoch 13 Loss: 421.3585\n"
     ]
    },
    {
     "name": "stderr",
     "output_type": "stream",
     "text": [
      "high Epoch 14: 100%|██████████| 225/225 [00:27<00:00,  8.13it/s]\n"
     ]
    },
    {
     "name": "stdout",
     "output_type": "stream",
     "text": [
      "high Epoch 14 Loss: 389.4930\n"
     ]
    },
    {
     "name": "stderr",
     "output_type": "stream",
     "text": [
      "high Epoch 15: 100%|██████████| 225/225 [00:27<00:00,  8.11it/s]\n"
     ]
    },
    {
     "name": "stdout",
     "output_type": "stream",
     "text": [
      "high Epoch 15 Loss: 342.3066\n"
     ]
    },
    {
     "name": "stderr",
     "output_type": "stream",
     "text": [
      "high Epoch 16: 100%|██████████| 225/225 [00:27<00:00,  8.06it/s]\n"
     ]
    },
    {
     "name": "stdout",
     "output_type": "stream",
     "text": [
      "high Epoch 16 Loss: 309.9414\n"
     ]
    },
    {
     "name": "stderr",
     "output_type": "stream",
     "text": [
      "high Epoch 17: 100%|██████████| 225/225 [00:27<00:00,  8.10it/s]\n"
     ]
    },
    {
     "name": "stdout",
     "output_type": "stream",
     "text": [
      "high Epoch 17 Loss: 274.9457\n"
     ]
    },
    {
     "name": "stderr",
     "output_type": "stream",
     "text": [
      "high Epoch 18: 100%|██████████| 225/225 [00:27<00:00,  8.09it/s]\n"
     ]
    },
    {
     "name": "stdout",
     "output_type": "stream",
     "text": [
      "high Epoch 18 Loss: 226.7961\n"
     ]
    },
    {
     "name": "stderr",
     "output_type": "stream",
     "text": [
      "high Epoch 19: 100%|██████████| 225/225 [00:27<00:00,  8.11it/s]\n"
     ]
    },
    {
     "name": "stdout",
     "output_type": "stream",
     "text": [
      "high Epoch 19 Loss: 192.7706\n"
     ]
    },
    {
     "name": "stderr",
     "output_type": "stream",
     "text": [
      "high Epoch 20: 100%|██████████| 225/225 [00:27<00:00,  8.09it/s]\n"
     ]
    },
    {
     "name": "stdout",
     "output_type": "stream",
     "text": [
      "high Epoch 20 Loss: 163.1177\n"
     ]
    },
    {
     "name": "stderr",
     "output_type": "stream",
     "text": [
      "high Epoch 21: 100%|██████████| 225/225 [00:27<00:00,  8.13it/s]\n"
     ]
    },
    {
     "name": "stdout",
     "output_type": "stream",
     "text": [
      "high Epoch 21 Loss: 151.8631\n"
     ]
    },
    {
     "name": "stderr",
     "output_type": "stream",
     "text": [
      "high Epoch 22: 100%|██████████| 225/225 [00:27<00:00,  8.11it/s]\n"
     ]
    },
    {
     "name": "stdout",
     "output_type": "stream",
     "text": [
      "high Epoch 22 Loss: 128.1486\n"
     ]
    },
    {
     "name": "stderr",
     "output_type": "stream",
     "text": [
      "high Epoch 23: 100%|██████████| 225/225 [00:27<00:00,  8.10it/s]\n"
     ]
    },
    {
     "name": "stdout",
     "output_type": "stream",
     "text": [
      "high Epoch 23 Loss: 120.3554\n"
     ]
    },
    {
     "name": "stderr",
     "output_type": "stream",
     "text": [
      "high Epoch 24: 100%|██████████| 225/225 [00:27<00:00,  8.10it/s]\n"
     ]
    },
    {
     "name": "stdout",
     "output_type": "stream",
     "text": [
      "high Epoch 24 Loss: 109.8077\n"
     ]
    },
    {
     "name": "stderr",
     "output_type": "stream",
     "text": [
      "high Epoch 25: 100%|██████████| 225/225 [00:27<00:00,  8.08it/s]\n"
     ]
    },
    {
     "name": "stdout",
     "output_type": "stream",
     "text": [
      "high Epoch 25 Loss: 100.9438\n"
     ]
    },
    {
     "data": {
      "image/png": "[encoded data removed]",
      "text/plain": [
       "<Figure size 600x600 with 1 Axes>"
      ]
     },
     "metadata": {},
     "output_type": "display_data"
    },
    {
     "data": {
      "image/png": "[encoded data removed]",
      "text/plain": [
       "<Figure size 600x400 with 1 Axes>"
      ]
     },
     "metadata": {},
     "output_type": "display_data"
    },
    {
     "name": "stdout",
     "output_type": "stream",
     "text": [
      "\n",
      "📊 HIGH Evaluation:\n",
      "MAE: 11.91\n",
      "MSE: 289.78\n",
      "R²: 0.32\n",
      "\n",
      "🔍 Mean Relative Error: 0.50 (0.35 median)\n",
      "Over-predictions: 230, Under-predictions: 271\n",
      "\n",
      "🔍 Top 10 Largest Errors:\n",
      "True: 108.00, Pred: 31.49, Error: 76.51\n",
      "True: 132.00, Pred: 56.96, Error: 75.04\n",
      "True: 72.00, Pred: 12.56, Error: 59.44\n",
      "True: 72.00, Pred: 14.61, Error: 57.39\n",
      "True: 114.00, Pred: 60.94, Error: 53.06\n",
      "True: 60.00, Pred: 7.90, Error: 52.10\n",
      "True: 90.00, Pred: 38.04, Error: 51.96\n",
      "True: 60.00, Pred: 9.04, Error: 50.96\n",
      "True: 72.00, Pred: 22.08, Error: 49.92\n",
      "True: 78.00, Pred: 28.27, Error: 49.73\n",
      "✅ Saved model to: /home/liorkob/M.Sc/thesis/pre-train/hebert-mlm-3k-drugs-punishment/high\n"
     ]
    }
   ],
   "source": [
    "import pandas as pd\n",
    "import torch\n",
    "import numpy as np\n",
    "from torch import nn\n",
    "from torch.utils.data import Dataset, DataLoader\n",
    "from transformers import AutoTokenizer, AutoModel, AutoConfig, BertPreTrainedModel\n",
    "from torch.optim import AdamW\n",
    "from sklearn.model_selection import train_test_split\n",
    "from sklearn.metrics import mean_absolute_error, mean_squared_error, r2_score\n",
    "from tqdm import tqdm\n",
    "import matplotlib.pyplot as plt\n",
    "\n",
    "# ========== Model and Tokenizer Setup ==========\n",
    "model_path = \"/home/liorkob/M.Sc/thesis/pre-train/hebert-mlm-3k-drugs/final\"\n",
    "tokenizer = AutoTokenizer.from_pretrained(model_path)\n",
    "device = torch.device(\"cuda\" if torch.cuda.is_available() else \"cpu\")\n",
    "\n",
    "# ========== Tokenization ==========\n",
    "def tokenize_single_window(text, tokenizer, max_length=512):\n",
    "    return tokenizer(\n",
    "        text,\n",
    "        truncation=True,\n",
    "        padding=\"max_length\",\n",
    "        max_length=max_length,\n",
    "        return_tensors=\"pt\"\n",
    "    )\n",
    "\n",
    "# ========== Dataset ==========\n",
    "class PunishmentDataset(Dataset):\n",
    "    def __init__(self, df, tokenizer, target_col):\n",
    "        self.texts = df[\"text\"].tolist()\n",
    "        self.labels = df[target_col].tolist()\n",
    "        self.tokenizer = tokenizer\n",
    "\n",
    "    def __len__(self):\n",
    "        return len(self.texts)\n",
    "\n",
    "    def __getitem__(self, idx):\n",
    "        encoding = tokenize_single_window(self.texts[idx], self.tokenizer)\n",
    "        label = torch.tensor(self.labels[idx], dtype=torch.float)\n",
    "        return {\n",
    "            \"input_ids\": encoding[\"input_ids\"].squeeze(0),\n",
    "            \"attention_mask\": encoding[\"attention_mask\"].squeeze(0),\n",
    "            \"labels\": label\n",
    "        }\n",
    "\n",
    "# ========== Collate ==========\n",
    "def collate_fn(batch):\n",
    "    return {\n",
    "        \"input_ids\": torch.stack([x[\"input_ids\"] for x in batch]),\n",
    "        \"attention_mask\": torch.stack([x[\"attention_mask\"] for x in batch]),\n",
    "        \"labels\": torch.stack([x[\"labels\"] for x in batch])\n",
    "    }\n",
    "\n",
    "# ========== Model ==========\n",
    "class HeBERTRegressor(BertPreTrainedModel):\n",
    "    def __init__(self, config, model_path):\n",
    "        super().__init__(config)\n",
    "        self.bert = AutoModel.from_pretrained(model_path)\n",
    "        self.regressor = nn.Sequential(\n",
    "            nn.Linear(self.bert.config.hidden_size, 128),\n",
    "            nn.ReLU(),\n",
    "            nn.Dropout(0.1),\n",
    "            nn.Linear(128, 1)\n",
    "        )\n",
    "        self.init_weights()\n",
    "\n",
    "    def forward(self, input_ids, attention_mask, labels=None):\n",
    "        outputs = self.bert(input_ids=input_ids, attention_mask=attention_mask)\n",
    "        cls_output = outputs.last_hidden_state[:, 0, :]\n",
    "        logits = self.regressor(cls_output).squeeze(1)\n",
    "        loss_fn = nn.MSELoss()\n",
    "        loss = loss_fn(logits, labels) if labels is not None else torch.tensor(0.0, device=logits.device)\n",
    "        return {\"loss\": loss, \"logits\": logits}\n",
    "\n",
    "# ========== Load Data ==========\n",
    "df = pd.read_csv(\"merged_output.csv\")\n",
    "df = df.dropna(subset=[\"extracted_gpt_facts\", \"low\", \"high\"])\n",
    "df[\"text\"] = df[\"extracted_gpt_facts\"]\n",
    "\n",
    "# ========== Plots ==========\n",
    "def plot_predictions(trues, preds, title):\n",
    "    plt.figure(figsize=(6, 6))\n",
    "    plt.scatter(trues, preds, alpha=0.3)\n",
    "    plt.plot([0, 1], [0, 1], transform=plt.gca().transAxes, color='red', linestyle='--')\n",
    "    plt.xlabel(\"True Values\")\n",
    "    plt.ylabel(\"Predicted Values\")\n",
    "    plt.title(f\"{title} — Predictions vs True\")\n",
    "    plt.grid(True)\n",
    "    plt.tight_layout()\n",
    "    plt.show()\n",
    "\n",
    "def plot_loss_curve(losses, title):\n",
    "    plt.figure(figsize=(6, 4))\n",
    "    plt.plot(range(1, len(losses) + 1), losses, marker='o')\n",
    "    plt.xlabel(\"Epoch\")\n",
    "    plt.ylabel(\"Training Loss\")\n",
    "    plt.title(f\"{title} — Training Loss Over Epochs\")\n",
    "    plt.grid(True)\n",
    "    plt.tight_layout()\n",
    "    plt.show()\n",
    "\n",
    "# ========== Training ==========\n",
    "def train_and_eval(target_col):\n",
    "    print(f\"\\n=== 🔧 Training for: {target_col.upper()} ===\")\n",
    "\n",
    "    train_val_df, test_df = train_test_split(df, test_size=0.2, random_state=42)\n",
    "    train_df, val_df = train_test_split(train_val_df, test_size=0.1, random_state=42)\n",
    "\n",
    "    train_dataset = PunishmentDataset(train_df, tokenizer, target_col)\n",
    "    test_dataset = PunishmentDataset(test_df, tokenizer, target_col)\n",
    "    train_loader = DataLoader(train_dataset, batch_size=8, shuffle=True, collate_fn=collate_fn)\n",
    "    test_loader = DataLoader(test_dataset, batch_size=8, collate_fn=collate_fn)\n",
    "\n",
    "    config = AutoConfig.from_pretrained(model_path)\n",
    "    model = HeBERTRegressor(config, model_path).to(device)\n",
    "    optimizer = AdamW(model.parameters(), lr=1e-5)\n",
    "\n",
    "    best_val_loss = float(\"inf\")\n",
    "    patience = 5\n",
    "    wait = 0\n",
    "    epoch_losses = []\n",
    "\n",
    "    for epoch in range(25):\n",
    "        model.train()\n",
    "        total_loss = 0\n",
    "        for batch in tqdm(train_loader, desc=f\"{target_col} Epoch {epoch+1}\"):\n",
    "            input_ids = batch[\"input_ids\"].to(device)\n",
    "            attention_mask = batch[\"attention_mask\"].to(device)\n",
    "            labels = batch[\"labels\"].to(device)\n",
    "\n",
    "            outputs = model(input_ids=input_ids, attention_mask=attention_mask, labels=labels)\n",
    "            loss = outputs[\"loss\"]\n",
    "            loss.backward()\n",
    "            optimizer.step()\n",
    "            optimizer.zero_grad()\n",
    "            total_loss += loss.item()\n",
    "\n",
    "        avg_loss = total_loss / len(train_loader)\n",
    "        epoch_losses.append(avg_loss)\n",
    "        print(f\"{target_col} Epoch {epoch+1} Loss: {avg_loss:.4f}\")\n",
    "\n",
    "        # Early stopping placeholder (no validation here)\n",
    "        if avg_loss < best_val_loss:\n",
    "            best_val_loss = avg_loss\n",
    "            wait = 0\n",
    "        else:\n",
    "            wait += 1\n",
    "            if wait >= patience:\n",
    "                print(\"⏹️ Early stopping triggered.\")\n",
    "                break\n",
    "\n",
    "    # --- Evaluation ---\n",
    "    model.eval()\n",
    "    preds, trues = [], []\n",
    "    with torch.no_grad():\n",
    "        for batch in test_loader:\n",
    "            input_ids = batch[\"input_ids\"].to(device)\n",
    "            attention_mask = batch[\"attention_mask\"].to(device)\n",
    "            labels = batch[\"labels\"].to(device)\n",
    "            outputs = model(input_ids=input_ids, attention_mask=attention_mask)\n",
    "            preds.extend(outputs[\"logits\"].cpu().numpy())\n",
    "            trues.extend(labels.cpu().numpy())\n",
    "\n",
    "    preds, trues = np.array(preds), np.array(trues)\n",
    "    mae = mean_absolute_error(trues, preds)\n",
    "    mse = mean_squared_error(trues, preds)\n",
    "    r2 = r2_score(trues, preds)\n",
    "    plot_predictions(trues, preds, target_col.upper())\n",
    "    plot_loss_curve(epoch_losses, target_col.upper())\n",
    "\n",
    "    print(f\"\\n📊 {target_col.upper()} Evaluation:\")\n",
    "    print(f\"MAE: {mae:.2f}\")\n",
    "    print(f\"MSE: {mse:.2f}\")\n",
    "    print(f\"R²: {r2:.2f}\")\n",
    "\n",
    "    # 🔍 Error analysis\n",
    "    errors = np.abs(trues - preds)\n",
    "    relative_errors = errors / np.maximum(trues, 1e-6)\n",
    "    print(f\"\\n🔍 Mean Relative Error: {np.mean(relative_errors):.2f} ({np.median(relative_errors):.2f} median)\")\n",
    "\n",
    "    over_preds = np.sum(preds > trues)\n",
    "    under_preds = np.sum(preds < trues)\n",
    "    print(f\"Over-predictions: {over_preds}, Under-predictions: {under_preds}\")\n",
    "\n",
    "    top_k = 10\n",
    "    worst_indices = errors.argsort()[-top_k:][::-1]\n",
    "    print(f\"\\n🔍 Top {top_k} Largest Errors:\")\n",
    "    for i in worst_indices:\n",
    "        print(f\"True: {trues[i]:.2f}, Pred: {preds[i]:.2f}, Error: {errors[i]:.2f}\")\n",
    "\n",
    "    save_path = f\"/home/liorkob/M.Sc/thesis/pre-train/hebert-mlm-3k-drugs-punishment/{target_col}\"\n",
    "    model.bert.save_pretrained(save_path)\n",
    "    tokenizer.save_pretrained(save_path)\n",
    "    torch.save(model.regressor.state_dict(), f\"{save_path}/regressor.pt\")\n",
    "    print(f\"✅ Saved model to: {save_path}\")\n",
    "\n",
    "for col in [\"low\", \"high\"]:\n",
    "    train_and_eval(col)\n"
   ]
  },
  {
   "cell_type": "code",
   "execution_count": 3,
   "metadata": {},
   "outputs": [
    {
     "data": {
      "image/png": "[encoded data removed]",
      "text/plain": [
       "<Figure size 1200x500 with 2 Axes>"
      ]
     },
     "metadata": {},
     "output_type": "display_data"
    }
   ],
   "source": [
    "import pandas as pd\n",
    "import matplotlib.pyplot as plt\n",
    "\n",
    "# טען את הקובץ (שנה את הנתיב לפי הצורך)\n",
    "df = pd.read_csv(\"merged_output.csv\")\n",
    "df = df.dropna(subset=[\"extracted_gpt_facts\", \"low\", \"high\"])\n",
    "\n",
    "# פלוט\n",
    "plt.figure(figsize=(12, 5))\n",
    "\n",
    "plt.subplot(1, 2, 1)\n",
    "plt.hist(df[\"low\"], bins=30, color=\"skyblue\", edgecolor=\"black\")\n",
    "plt.title(\" LOW\")\n",
    "plt.xlabel(\"Punishment (Low)\")\n",
    "plt.ylabel(\"verdicts\")\n",
    "\n",
    "plt.subplot(1, 2, 2)\n",
    "plt.hist(df[\"high\"], bins=30, color=\"salmon\", edgecolor=\"black\")\n",
    "plt.title(\" HIGH\")\n",
    "plt.xlabel(\"Punishment (High)\")\n",
    "plt.ylabel(\"verdicts\")\n",
    "\n",
    "plt.tight_layout()\n",
    "plt.show()\n"
   ]
  },
  {
   "cell_type": "code",
   "execution_count": 6,
   "metadata": {},
   "outputs": [
    {
     "data": {
      "image/png": "[encoded data removed]",
      "text/plain": [
       "<Figure size 1200x600 with 1 Axes>"
      ]
     },
     "metadata": {},
     "output_type": "display_data"
    }
   ],
   "source": [
    "import pandas as pd\n",
    "import matplotlib.pyplot as plt\n",
    "\n",
    "# טען את הקובץ\n",
    "df = pd.read_csv(\"merged_output.csv\")\n",
    "df = df.dropna(subset=[\"extracted_gpt_facts\", \"low\", \"high\"])\n",
    "\n",
    "# יצירת עמודת טווח טקסטואלי: \"low–high\"\n",
    "df[\"range_str\"] = df[\"low\"].astype(int).astype(str) + \"–\" + df[\"high\"].astype(int).astype(str)\n",
    "\n",
    "# ספירה של כל טווח כזה\n",
    "range_counts = df[\"range_str\"].value_counts().sort_values(ascending=False)\n",
    "\n",
    "# פלוט של 20 הטווחים הכי נפוצים\n",
    "plt.figure(figsize=(12, 6))\n",
    "range_counts.head(20).plot(kind=\"bar\", color=\"royalblue\", edgecolor=\"black\")\n",
    "plt.title(\"20 Most Common Sentencing Ranges (LOW–HIGH)\")\n",
    "plt.xlabel(\"Sentencing Range\")\n",
    "plt.ylabel(\"Number of Cases\")\n",
    "plt.xticks(rotation=45, ha=\"right\")\n",
    "plt.grid(axis=\"y\")\n",
    "plt.tight_layout()\n",
    "plt.show()\n"
   ]
  },
  {
   "cell_type": "code",
   "execution_count": 11,
   "metadata": {},
   "outputs": [
    {
     "data": {
      "image/png": "[encoded data removed]",
      "text/plain": [
       "<Figure size 1000x500 with 1 Axes>"
      ]
     },
     "metadata": {},
     "output_type": "display_data"
    },
    {
     "name": "stdout",
     "output_type": "stream",
     "text": [
      "===== Summary =====\n",
      "Outlier threshold: 38.00\n",
      "🔴 Number of cases with outlier range length: 41\n",
      "🟣 Number of unique (LOW–HIGH) ranges that appear only once: 148\n",
      "\n",
      "🟣 Example of rare ranges:\n",
      "range_str\n",
      "42–54    1\n",
      "8–30     1\n",
      "28–36    1\n",
      "48–48    1\n",
      "22–46    1\n",
      "12–40    1\n",
      "13–26    1\n",
      "26–40    1\n",
      "11–29    1\n",
      "60–60    1\n",
      "Name: count, dtype: int64\n"
     ]
    }
   ],
   "source": [
    "import pandas as pd\n",
    "import matplotlib.pyplot as plt\n",
    "\n",
    "# Load dataset\n",
    "df = pd.read_csv(\"merged_output.csv\")\n",
    "df = df.dropna(subset=[\"extracted_gpt_facts\", \"low\", \"high\"])\n",
    "\n",
    "# Compute range length\n",
    "df[\"range_len\"] = df[\"high\"] - df[\"low\"]\n",
    "\n",
    "# Detect outliers using IQR\n",
    "Q1 = df[\"range_len\"].quantile(0.25)\n",
    "Q3 = df[\"range_len\"].quantile(0.75)\n",
    "IQR = Q3 - Q1\n",
    "threshold = Q3 + 1.5 * IQR\n",
    "outliers = df[df[\"range_len\"] > threshold]\n",
    "\n",
    "# Create string representation of ranges\n",
    "df[\"range_str\"] = df[\"low\"].astype(int).astype(str) + \"–\" + df[\"high\"].astype(int).astype(str)\n",
    "\n",
    "# Count rare ranges (appear once)\n",
    "rare_ranges = df[\"range_str\"].value_counts()\n",
    "rare_ranges = rare_ranges[rare_ranges < 2]\n",
    "\n",
    "# === Plot: range length distribution ===\n",
    "plt.figure(figsize=(10, 5))\n",
    "plt.hist(df[\"range_len\"], bins=30, color=\"skyblue\", edgecolor=\"black\")\n",
    "plt.axvline(threshold, color=\"red\", linestyle=\"--\", label=f\"Outlier Threshold (> {threshold:.1f})\")\n",
    "plt.title(\"Distribution of Punishment Range Lengths (HIGH - LOW)\")\n",
    "plt.xlabel(\"Range Length\")\n",
    "plt.ylabel(\"Number of Cases\")\n",
    "plt.legend()\n",
    "plt.grid(True)\n",
    "plt.tight_layout()\n",
    "plt.show()\n",
    "\n",
    "# === Print results ===\n",
    "print(\"===== Summary =====\")\n",
    "print(f\"Outlier threshold: {threshold:.2f}\")\n",
    "print(f\"🔴 Number of cases with outlier range length: {len(outliers)}\")\n",
    "print(f\"🟣 Number of unique (LOW–HIGH) ranges that appear only once: {len(rare_ranges)}\")\n",
    "\n",
    "# Optionally: print some rare values\n",
    "print(\"\\n🟣 Example of rare ranges:\")\n",
    "print(rare_ranges.head(10))\n"
   ]
  },
  {
   "cell_type": "code",
   "execution_count": 12,
   "metadata": {},
   "outputs": [
    {
     "name": "stdout",
     "output_type": "stream",
     "text": [
      "📌 Number of cases where LOW == HIGH (exact punishment): 92\n"
     ]
    }
   ],
   "source": [
    "import pandas as pd\n",
    "\n",
    "# Load dataset\n",
    "df = pd.read_csv(\"merged_output.csv\")\n",
    "df = df.dropna(subset=[\"extracted_gpt_facts\", \"low\", \"high\"])\n",
    "\n",
    "# Count exact punishment cases (no range)\n",
    "exact_cases = df[df[\"low\"] == df[\"high\"]]\n",
    "print(f\"📌 Number of cases where LOW == HIGH (exact punishment): {len(exact_cases)}\")\n"
   ]
  },
  {
   "cell_type": "code",
   "execution_count": 13,
   "metadata": {},
   "outputs": [
    {
     "name": "stdout",
     "output_type": "stream",
     "text": [
      "===== Filtering Summary =====\n",
      "Total cases: 2502\n",
      "Exact punishment cases (low == high): 92\n",
      "Rare range cases (appeared once): 148\n",
      "✅ Cases remaining (with valid, common range): 2262\n"
     ]
    }
   ],
   "source": [
    "import pandas as pd\n",
    "\n",
    "# Load and filter dataset\n",
    "df = pd.read_csv(\"merged_output.csv\")\n",
    "df = df.dropna(subset=[\"extracted_gpt_facts\", \"low\", \"high\"])\n",
    "\n",
    "# Count exact punishments\n",
    "exact_cases = df[df[\"low\"] == df[\"high\"]]\n",
    "N_exact = len(exact_cases)\n",
    "\n",
    "# Create range string\n",
    "df[\"range_str\"] = df[\"low\"].astype(int).astype(str) + \"–\" + df[\"high\"].astype(int).astype(str)\n",
    "\n",
    "# Identify rare ranges\n",
    "range_counts = df[\"range_str\"].value_counts()\n",
    "rare_range_values = range_counts[range_counts < 2].index\n",
    "rare_cases = df[df[\"range_str\"].isin(rare_range_values)]\n",
    "N_rare = len(rare_cases)\n",
    "\n",
    "# Total remaining after removing both\n",
    "N_total = len(df)\n",
    "N_clean = N_total - N_exact - N_rare\n",
    "\n",
    "print(\"===== Filtering Summary =====\")\n",
    "print(f\"Total cases: {N_total}\")\n",
    "print(f\"Exact punishment cases (low == high): {N_exact}\")\n",
    "print(f\"Rare range cases (appeared once): {N_rare}\")\n",
    "print(f\"✅ Cases remaining (with valid, common range): {N_clean}\")\n"
   ]
  },
  {
   "cell_type": "code",
   "execution_count": 17,
   "metadata": {},
   "outputs": [
    {
     "name": "stdout",
     "output_type": "stream",
     "text": [
      "Low:  min = 0.0 , max = 72.0 , mean = 13.331571994715985\n",
      "High: min = 2.0 , max = 120.0 , mean = 28.25715543813298\n"
     ]
    },
    {
     "data": {
      "image/png": "[encoded data removed]",
      "text/plain": [
       "<Figure size 1200x500 with 2 Axes>"
      ]
     },
     "metadata": {},
     "output_type": "display_data"
    }
   ],
   "source": [
    "import pandas as pd\n",
    "import matplotlib.pyplot as plt\n",
    "\n",
    "# Load and filter\n",
    "df = pd.read_csv(\"merged_output.csv\")\n",
    "df = df.dropna(subset=[\"extracted_gpt_facts\", \"low\", \"high\"])\n",
    "df[\"range_str\"] = df[\"low\"].astype(int).astype(str) + \"–\" + df[\"high\"].astype(int).astype(str)\n",
    "\n",
    "# Remove rare and exact\n",
    "range_counts = df[\"range_str\"].value_counts()\n",
    "rare_ranges = range_counts[range_counts < 2].index\n",
    "df = df[~df[\"range_str\"].isin(rare_ranges) & (df[\"low\"] != df[\"high\"])]\n",
    "\n",
    "# Print basic stats\n",
    "print(\"Low:  min =\", df['low'].min(), \", max =\", df['low'].max(), \", mean =\", df['low'].mean())\n",
    "print(\"High: min =\", df['high'].min(), \", max =\", df['high'].max(), \", mean =\", df['high'].mean())\n",
    "\n",
    "# Plot\n",
    "plt.figure(figsize=(12, 5))\n",
    "\n",
    "plt.subplot(1, 2, 1)\n",
    "plt.hist(df[\"low\"], bins=30, color=\"skyblue\", edgecolor=\"black\")\n",
    "plt.title(\"Distribution of LOW (filtered)\")\n",
    "plt.xlabel(\"LOW\")\n",
    "plt.ylabel(\"Frequency\")\n",
    "\n",
    "plt.subplot(1, 2, 2)\n",
    "plt.hist(df[\"high\"], bins=30, color=\"salmon\", edgecolor=\"black\")\n",
    "plt.title(\"Distribution of HIGH (filtered)\")\n",
    "plt.xlabel(\"HIGH\")\n",
    "plt.ylabel(\"Frequency\")\n",
    "\n",
    "plt.tight_layout()\n",
    "plt.show()\n"
   ]
  },
  {
   "cell_type": "code",
   "execution_count": 4,
   "metadata": {},
   "outputs": [
    {
     "name": "stderr",
     "output_type": "stream",
     "text": [
      "Some weights of BertModel were not initialized from the model checkpoint at /home/liorkob/M.Sc/thesis/pre-train/hebert-mlm-3k-drugs/final and are newly initialized: ['bert.pooler.dense.bias', 'bert.pooler.dense.weight']\n",
      "You should probably TRAIN this model on a down-stream task to be able to use it for predictions and inference.\n"
     ]
    },
    {
     "name": "stdout",
     "output_type": "stream",
     "text": [
      "\n",
      "=== 🔧 Training for: LOW ===\n"
     ]
    },
    {
     "name": "stderr",
     "output_type": "stream",
     "text": [
      "low Epoch 1: 100%|██████████| 225/225 [00:25<00:00,  8.96it/s]\n"
     ]
    },
    {
     "name": "stdout",
     "output_type": "stream",
     "text": [
      "low Epoch 1 Loss: 6.2214\n"
     ]
    },
    {
     "name": "stderr",
     "output_type": "stream",
     "text": [
      "low Epoch 2: 100%|██████████| 225/225 [00:25<00:00,  8.78it/s]\n"
     ]
    },
    {
     "name": "stdout",
     "output_type": "stream",
     "text": [
      "low Epoch 2 Loss: 5.3767\n"
     ]
    },
    {
     "name": "stderr",
     "output_type": "stream",
     "text": [
      "low Epoch 3: 100%|██████████| 225/225 [00:25<00:00,  8.69it/s]\n"
     ]
    },
    {
     "name": "stdout",
     "output_type": "stream",
     "text": [
      "low Epoch 3 Loss: 4.6269\n"
     ]
    },
    {
     "name": "stderr",
     "output_type": "stream",
     "text": [
      "low Epoch 4: 100%|██████████| 225/225 [00:26<00:00,  8.64it/s]\n"
     ]
    },
    {
     "name": "stdout",
     "output_type": "stream",
     "text": [
      "low Epoch 4 Loss: 4.0609\n"
     ]
    },
    {
     "name": "stderr",
     "output_type": "stream",
     "text": [
      "low Epoch 5: 100%|██████████| 225/225 [00:26<00:00,  8.58it/s]\n"
     ]
    },
    {
     "name": "stdout",
     "output_type": "stream",
     "text": [
      "low Epoch 5 Loss: 3.7401\n"
     ]
    },
    {
     "name": "stderr",
     "output_type": "stream",
     "text": [
      "low Epoch 6: 100%|██████████| 225/225 [00:26<00:00,  8.58it/s]\n"
     ]
    },
    {
     "name": "stdout",
     "output_type": "stream",
     "text": [
      "low Epoch 6 Loss: 3.5404\n"
     ]
    },
    {
     "name": "stderr",
     "output_type": "stream",
     "text": [
      "low Epoch 7: 100%|██████████| 225/225 [00:26<00:00,  8.54it/s]\n"
     ]
    },
    {
     "name": "stdout",
     "output_type": "stream",
     "text": [
      "low Epoch 7 Loss: 3.3952\n"
     ]
    },
    {
     "name": "stderr",
     "output_type": "stream",
     "text": [
      "low Epoch 8: 100%|██████████| 225/225 [00:26<00:00,  8.47it/s]\n"
     ]
    },
    {
     "name": "stdout",
     "output_type": "stream",
     "text": [
      "low Epoch 8 Loss: 3.2941\n"
     ]
    },
    {
     "name": "stderr",
     "output_type": "stream",
     "text": [
      "low Epoch 9: 100%|██████████| 225/225 [00:26<00:00,  8.48it/s]\n"
     ]
    },
    {
     "name": "stdout",
     "output_type": "stream",
     "text": [
      "low Epoch 9 Loss: 3.2100\n"
     ]
    },
    {
     "name": "stderr",
     "output_type": "stream",
     "text": [
      "low Epoch 10: 100%|██████████| 225/225 [00:26<00:00,  8.50it/s]\n"
     ]
    },
    {
     "name": "stdout",
     "output_type": "stream",
     "text": [
      "low Epoch 10 Loss: 3.1638\n"
     ]
    },
    {
     "name": "stderr",
     "output_type": "stream",
     "text": [
      "low Epoch 11: 100%|██████████| 225/225 [00:26<00:00,  8.51it/s]\n"
     ]
    },
    {
     "name": "stdout",
     "output_type": "stream",
     "text": [
      "low Epoch 11 Loss: 3.1302\n"
     ]
    },
    {
     "name": "stderr",
     "output_type": "stream",
     "text": [
      "low Epoch 12: 100%|██████████| 225/225 [00:26<00:00,  8.53it/s]\n"
     ]
    },
    {
     "name": "stdout",
     "output_type": "stream",
     "text": [
      "low Epoch 12 Loss: 3.1085\n"
     ]
    },
    {
     "name": "stderr",
     "output_type": "stream",
     "text": [
      "low Epoch 13: 100%|██████████| 225/225 [00:26<00:00,  8.50it/s]\n"
     ]
    },
    {
     "name": "stdout",
     "output_type": "stream",
     "text": [
      "low Epoch 13 Loss: 3.0920\n"
     ]
    },
    {
     "name": "stderr",
     "output_type": "stream",
     "text": [
      "low Epoch 14: 100%|██████████| 225/225 [00:26<00:00,  8.46it/s]\n"
     ]
    },
    {
     "name": "stdout",
     "output_type": "stream",
     "text": [
      "low Epoch 14 Loss: 3.0809\n"
     ]
    },
    {
     "name": "stderr",
     "output_type": "stream",
     "text": [
      "low Epoch 15: 100%|██████████| 225/225 [00:26<00:00,  8.51it/s]\n"
     ]
    },
    {
     "name": "stdout",
     "output_type": "stream",
     "text": [
      "low Epoch 15 Loss: 3.0807\n",
      "\n",
      "📊 LOW Evaluation:\n",
      "MAE: 8.63\n",
      "MSE: 191.37\n",
      "R²: -0.09\n"
     ]
    },
    {
     "name": "stderr",
     "output_type": "stream",
     "text": [
      "Some weights of BertModel were not initialized from the model checkpoint at /home/liorkob/M.Sc/thesis/pre-train/hebert-mlm-3k-drugs/final and are newly initialized: ['bert.pooler.dense.bias', 'bert.pooler.dense.weight']\n",
      "You should probably TRAIN this model on a down-stream task to be able to use it for predictions and inference.\n"
     ]
    },
    {
     "name": "stdout",
     "output_type": "stream",
     "text": [
      "✅ Saved model to: /home/liorkob/M.Sc/thesis/pre-train/hebert-mlm-3k-drugs-punishment/low_quantile\n",
      "\n",
      "=== 🔧 Training for: HIGH ===\n"
     ]
    },
    {
     "name": "stderr",
     "output_type": "stream",
     "text": [
      "high Epoch 1: 100%|██████████| 225/225 [00:26<00:00,  8.47it/s]\n"
     ]
    },
    {
     "name": "stdout",
     "output_type": "stream",
     "text": [
      "high Epoch 1 Loss: 13.2787\n"
     ]
    },
    {
     "name": "stderr",
     "output_type": "stream",
     "text": [
      "high Epoch 2: 100%|██████████| 225/225 [00:26<00:00,  8.49it/s]\n"
     ]
    },
    {
     "name": "stdout",
     "output_type": "stream",
     "text": [
      "high Epoch 2 Loss: 11.9052\n"
     ]
    },
    {
     "name": "stderr",
     "output_type": "stream",
     "text": [
      "high Epoch 3: 100%|██████████| 225/225 [00:26<00:00,  8.49it/s]\n"
     ]
    },
    {
     "name": "stdout",
     "output_type": "stream",
     "text": [
      "high Epoch 3 Loss: 10.1327\n"
     ]
    },
    {
     "name": "stderr",
     "output_type": "stream",
     "text": [
      "high Epoch 4:  13%|█▎        | 29/225 [00:03<00:23,  8.24it/s]\n"
     ]
    },
    {
     "ename": "KeyboardInterrupt",
     "evalue": "",
     "output_type": "error",
     "traceback": [
      "\u001b[0;31m---------------------------------------------------------------------------\u001b[0m",
      "\u001b[0;31mKeyboardInterrupt\u001b[0m                         Traceback (most recent call last)",
      "Cell \u001b[0;32mIn[4], line 167\u001b[0m\n\u001b[1;32m    164\u001b[0m     \u001b[38;5;28mprint\u001b[39m(\u001b[38;5;124mf\u001b[39m\u001b[38;5;124m\"\u001b[39m\u001b[38;5;124m✅ Saved model to: \u001b[39m\u001b[38;5;132;01m{\u001b[39;00msave_path\u001b[38;5;132;01m}\u001b[39;00m\u001b[38;5;124m\"\u001b[39m)\n\u001b[1;32m    166\u001b[0m \u001b[38;5;28;01mfor\u001b[39;00m col \u001b[38;5;129;01min\u001b[39;00m [\u001b[38;5;124m\"\u001b[39m\u001b[38;5;124mlow\u001b[39m\u001b[38;5;124m\"\u001b[39m, \u001b[38;5;124m\"\u001b[39m\u001b[38;5;124mhigh\u001b[39m\u001b[38;5;124m\"\u001b[39m]:\n\u001b[0;32m--> 167\u001b[0m     \u001b[43mtrain_and_eval\u001b[49m\u001b[43m(\u001b[49m\u001b[43mcol\u001b[49m\u001b[43m)\u001b[49m\n",
      "Cell \u001b[0;32mIn[4], line 132\u001b[0m, in \u001b[0;36mtrain_and_eval\u001b[0;34m(target_col)\u001b[0m\n\u001b[1;32m    130\u001b[0m     optimizer\u001b[38;5;241m.\u001b[39mstep()\n\u001b[1;32m    131\u001b[0m     optimizer\u001b[38;5;241m.\u001b[39mzero_grad()\n\u001b[0;32m--> 132\u001b[0m     total_loss \u001b[38;5;241m+\u001b[39m\u001b[38;5;241m=\u001b[39m \u001b[43mloss\u001b[49m\u001b[38;5;241;43m.\u001b[39;49m\u001b[43mitem\u001b[49m\u001b[43m(\u001b[49m\u001b[43m)\u001b[49m\n\u001b[1;32m    134\u001b[0m avg_loss \u001b[38;5;241m=\u001b[39m total_loss \u001b[38;5;241m/\u001b[39m \u001b[38;5;28mlen\u001b[39m(train_loader)\n\u001b[1;32m    135\u001b[0m epoch_losses\u001b[38;5;241m.\u001b[39mappend(avg_loss)\n",
      "\u001b[0;31mKeyboardInterrupt\u001b[0m: "
     ]
    }
   ],
   "source": [
    "import pandas as pd\n",
    "import torch\n",
    "import numpy as np\n",
    "from torch import nn\n",
    "from torch.utils.data import Dataset, DataLoader\n",
    "from transformers import AutoTokenizer, AutoModel, AutoConfig, BertPreTrainedModel\n",
    "from torch.optim import AdamW\n",
    "from sklearn.model_selection import train_test_split\n",
    "from sklearn.metrics import mean_absolute_error, mean_squared_error, r2_score\n",
    "from tqdm import tqdm\n",
    "import matplotlib.pyplot as plt\n",
    "\n",
    "# ========== Setup ==========\n",
    "model_path = \"/home/liorkob/M.Sc/thesis/pre-train/hebert-mlm-3k-drugs/final\"\n",
    "tokenizer = AutoTokenizer.from_pretrained(model_path)\n",
    "device = torch.device(\"cuda\" if torch.cuda.is_available() else \"cpu\")\n",
    "quantiles = [0.1, 0.5, 0.9]\n",
    "\n",
    "# ========== Tokenization ==========\n",
    "def tokenize_single_window(text, tokenizer, max_length=512):\n",
    "    return tokenizer(\n",
    "        text,\n",
    "        truncation=True,\n",
    "        padding=\"max_length\",\n",
    "        max_length=max_length,\n",
    "        return_tensors=\"pt\"\n",
    "    )\n",
    "\n",
    "# ========== Dataset ==========\n",
    "class PunishmentDataset(Dataset):\n",
    "    def __init__(self, df, tokenizer, target_col):\n",
    "        self.texts = df[\"text\"].tolist()\n",
    "        self.labels = df[target_col].tolist()\n",
    "        self.tokenizer = tokenizer\n",
    "\n",
    "    def __len__(self):\n",
    "        return len(self.texts)\n",
    "\n",
    "    def __getitem__(self, idx):\n",
    "        encoding = tokenize_single_window(self.texts[idx], self.tokenizer)\n",
    "        label = torch.tensor([self.labels[idx]], dtype=torch.float)  # wrapped in list to make 2D\n",
    "        return {\n",
    "            \"input_ids\": encoding[\"input_ids\"].squeeze(0),\n",
    "            \"attention_mask\": encoding[\"attention_mask\"].squeeze(0),\n",
    "            \"labels\": label\n",
    "        }\n",
    "\n",
    "# ========== Collate ==========\n",
    "def collate_fn(batch):\n",
    "    return {\n",
    "        \"input_ids\": torch.stack([x[\"input_ids\"] for x in batch]),\n",
    "        \"attention_mask\": torch.stack([x[\"attention_mask\"] for x in batch]),\n",
    "        \"labels\": torch.stack([x[\"labels\"] for x in batch])\n",
    "    }\n",
    "\n",
    "# ========== Quantile Loss ==========\n",
    "class QuantileLoss(nn.Module):\n",
    "    def __init__(self, quantiles):\n",
    "        super().__init__()\n",
    "        self.quantiles = quantiles\n",
    "\n",
    "    def forward(self, preds, target):\n",
    "        losses = []\n",
    "        for i, q in enumerate(self.quantiles):\n",
    "            errors = target - preds[:, i]\n",
    "            loss = torch.max((q - 1) * errors, q * errors)\n",
    "            losses.append(loss.unsqueeze(1))\n",
    "        loss_tensor = torch.cat(losses, dim=1)\n",
    "        return loss_tensor.mean()\n",
    "\n",
    "# ========== Model ==========\n",
    "class HeBERTQuantileRegressor(BertPreTrainedModel):\n",
    "    def __init__(self, config, model_path, quantiles):\n",
    "        super().__init__(config)\n",
    "        self.quantiles = quantiles\n",
    "        self.bert = AutoModel.from_pretrained(model_path)\n",
    "        self.regressor = nn.Sequential(\n",
    "            nn.Linear(config.hidden_size, 128),\n",
    "            nn.ReLU(),\n",
    "            nn.Dropout(0.1),\n",
    "            nn.Linear(128, len(quantiles))\n",
    "        )\n",
    "        self.init_weights()\n",
    "        self.loss_fn = QuantileLoss(quantiles)\n",
    "\n",
    "    def forward(self, input_ids, attention_mask, labels=None):\n",
    "        outputs = self.bert(input_ids=input_ids, attention_mask=attention_mask)\n",
    "        cls_output = outputs.last_hidden_state[:, 0, :]\n",
    "        logits = self.regressor(cls_output)\n",
    "        if labels is not None:\n",
    "            loss = self.loss_fn(logits, labels)\n",
    "        else:\n",
    "            loss = torch.tensor(0.0, device=logits.device)\n",
    "        return {\"loss\": loss, \"logits\": logits}\n",
    "\n",
    "# ========== Data ==========\n",
    "df = pd.read_csv(\"merged_output.csv\")\n",
    "df = df.dropna(subset=[\"extracted_gpt_facts\", \"low\", \"high\"])\n",
    "df[\"text\"] = df[\"extracted_gpt_facts\"]\n",
    "\n",
    "# ========== Training & Evaluation ==========\n",
    "def train_and_eval(target_col):\n",
    "    print(f\"\\n=== 🔧 Training for: {target_col.upper()} ===\")\n",
    "\n",
    "    train_val_df, test_df = train_test_split(df, test_size=0.2, random_state=42)\n",
    "    train_df, val_df = train_test_split(train_val_df, test_size=0.1, random_state=42)\n",
    "\n",
    "    train_dataset = PunishmentDataset(train_df, tokenizer, target_col)\n",
    "    test_dataset = PunishmentDataset(test_df, tokenizer, target_col)\n",
    "    train_loader = DataLoader(train_dataset, batch_size=8, shuffle=True, collate_fn=collate_fn)\n",
    "    test_loader = DataLoader(test_dataset, batch_size=8, collate_fn=collate_fn)\n",
    "\n",
    "    config = AutoConfig.from_pretrained(model_path)\n",
    "    model = HeBERTQuantileRegressor(config, model_path, quantiles).to(device)\n",
    "    optimizer = AdamW(model.parameters(), lr=1e-5)\n",
    "\n",
    "    epoch_losses = []\n",
    "    for epoch in range(15):\n",
    "        model.train()\n",
    "        total_loss = 0\n",
    "        for batch in tqdm(train_loader, desc=f\"{target_col} Epoch {epoch+1}\"):\n",
    "            input_ids = batch[\"input_ids\"].to(device)\n",
    "            attention_mask = batch[\"attention_mask\"].to(device)\n",
    "            labels = batch[\"labels\"].to(device)\n",
    "\n",
    "            outputs = model(input_ids=input_ids, attention_mask=attention_mask, labels=labels)\n",
    "            loss = outputs[\"loss\"]\n",
    "\n",
    "            loss.backward()\n",
    "            optimizer.step()\n",
    "            optimizer.zero_grad()\n",
    "            total_loss += loss.item()\n",
    "\n",
    "        avg_loss = total_loss / len(train_loader)\n",
    "        epoch_losses.append(avg_loss)\n",
    "        print(f\"{target_col} Epoch {epoch+1} Loss: {avg_loss:.4f}\")\n",
    "\n",
    "    # Evaluation\n",
    "    model.eval()\n",
    "    preds, trues = [], []\n",
    "    with torch.no_grad():\n",
    "        for batch in test_loader:\n",
    "            input_ids = batch[\"input_ids\"].to(device)\n",
    "            attention_mask = batch[\"attention_mask\"].to(device)\n",
    "            labels = batch[\"labels\"].to(device)\n",
    "            outputs = model(input_ids=input_ids, attention_mask=attention_mask)\n",
    "            pred = outputs[\"logits\"].cpu().numpy()\n",
    "            preds.append(pred)\n",
    "            trues.append(labels.cpu().numpy())\n",
    "\n",
    "    preds = np.vstack(preds)\n",
    "    trues = np.vstack(trues).flatten()\n",
    "    median_preds = preds[:, quantiles.index(0.5)]\n",
    "\n",
    "    print(f\"\\n📊 {target_col.upper()} Evaluation:\")\n",
    "    print(f\"MAE: {mean_absolute_error(trues, median_preds):.2f}\")\n",
    "    print(f\"MSE: {mean_squared_error(trues, median_preds):.2f}\")\n",
    "    print(f\"R²: {r2_score(trues, median_preds):.2f}\")\n",
    "\n",
    "    save_path = f\"/home/liorkob/M.Sc/thesis/pre-train/hebert-mlm-3k-drugs-punishment/{target_col}_quantile\"\n",
    "    model.bert.save_pretrained(save_path)\n",
    "    tokenizer.save_pretrained(save_path)\n",
    "    torch.save(model.regressor.state_dict(), f\"{save_path}/regressor.pt\")\n",
    "    print(f\"✅ Saved model to: {save_path}\")\n",
    "\n",
    "for col in [\"low\", \"high\"]:\n",
    "    train_and_eval(col)"
   ]
  },
  {
   "cell_type": "markdown",
   "metadata": {},
   "source": [
    "Multitask"
   ]
  },
  {
   "cell_type": "code",
   "execution_count": 7,
   "metadata": {},
   "outputs": [
    {
     "name": "stderr",
     "output_type": "stream",
     "text": [
      "Some weights of BertModel were not initialized from the model checkpoint at /home/liorkob/M.Sc/thesis/pre-train/hebert-mlm-3k-drugs/final and are newly initialized: ['bert.pooler.dense.bias', 'bert.pooler.dense.weight']\n",
      "You should probably TRAIN this model on a down-stream task to be able to use it for predictions and inference.\n"
     ]
    },
    {
     "name": "stdout",
     "output_type": "stream",
     "text": [
      "\n",
      "=== 🔧 Training Multi-Output Model for Punishment Range ===\n"
     ]
    },
    {
     "name": "stderr",
     "output_type": "stream",
     "text": [
      "Epoch 1: 100%|██████████| 225/225 [00:24<00:00,  9.03it/s]\n"
     ]
    },
    {
     "name": "stdout",
     "output_type": "stream",
     "text": [
      "Epoch 1 Loss: 1674.9346\n"
     ]
    },
    {
     "name": "stderr",
     "output_type": "stream",
     "text": [
      "Epoch 2: 100%|██████████| 225/225 [00:25<00:00,  8.84it/s]\n"
     ]
    },
    {
     "name": "stdout",
     "output_type": "stream",
     "text": [
      "Epoch 2 Loss: 1507.3110\n"
     ]
    },
    {
     "name": "stderr",
     "output_type": "stream",
     "text": [
      "Epoch 3: 100%|██████████| 225/225 [00:25<00:00,  8.73it/s]\n"
     ]
    },
    {
     "name": "stdout",
     "output_type": "stream",
     "text": [
      "Epoch 3 Loss: 1315.4425\n"
     ]
    },
    {
     "name": "stderr",
     "output_type": "stream",
     "text": [
      "Epoch 4: 100%|██████████| 225/225 [00:26<00:00,  8.63it/s]\n"
     ]
    },
    {
     "name": "stdout",
     "output_type": "stream",
     "text": [
      "Epoch 4 Loss: 1121.0267\n"
     ]
    },
    {
     "name": "stderr",
     "output_type": "stream",
     "text": [
      "Epoch 5: 100%|██████████| 225/225 [00:26<00:00,  8.57it/s]\n"
     ]
    },
    {
     "name": "stdout",
     "output_type": "stream",
     "text": [
      "Epoch 5 Loss: 954.9321\n"
     ]
    },
    {
     "name": "stderr",
     "output_type": "stream",
     "text": [
      "Epoch 6: 100%|██████████| 225/225 [00:26<00:00,  8.51it/s]\n"
     ]
    },
    {
     "name": "stdout",
     "output_type": "stream",
     "text": [
      "Epoch 6 Loss: 835.2077\n"
     ]
    },
    {
     "name": "stderr",
     "output_type": "stream",
     "text": [
      "Epoch 7: 100%|██████████| 225/225 [00:26<00:00,  8.45it/s]\n"
     ]
    },
    {
     "name": "stdout",
     "output_type": "stream",
     "text": [
      "Epoch 7 Loss: 761.8194\n"
     ]
    },
    {
     "name": "stderr",
     "output_type": "stream",
     "text": [
      "Epoch 8: 100%|██████████| 225/225 [00:26<00:00,  8.45it/s]\n"
     ]
    },
    {
     "name": "stdout",
     "output_type": "stream",
     "text": [
      "Epoch 8 Loss: 727.3380\n"
     ]
    },
    {
     "name": "stderr",
     "output_type": "stream",
     "text": [
      "Epoch 9: 100%|██████████| 225/225 [00:26<00:00,  8.41it/s]\n"
     ]
    },
    {
     "name": "stdout",
     "output_type": "stream",
     "text": [
      "Epoch 9 Loss: 697.0798\n"
     ]
    },
    {
     "name": "stderr",
     "output_type": "stream",
     "text": [
      "Epoch 10: 100%|██████████| 225/225 [00:26<00:00,  8.45it/s]\n"
     ]
    },
    {
     "name": "stdout",
     "output_type": "stream",
     "text": [
      "Epoch 10 Loss: 630.9313\n"
     ]
    },
    {
     "name": "stderr",
     "output_type": "stream",
     "text": [
      "Epoch 11: 100%|██████████| 225/225 [00:26<00:00,  8.40it/s]\n"
     ]
    },
    {
     "name": "stdout",
     "output_type": "stream",
     "text": [
      "Epoch 11 Loss: 535.4286\n"
     ]
    },
    {
     "name": "stderr",
     "output_type": "stream",
     "text": [
      "Epoch 12: 100%|██████████| 225/225 [00:26<00:00,  8.40it/s]\n"
     ]
    },
    {
     "name": "stdout",
     "output_type": "stream",
     "text": [
      "Epoch 12 Loss: 456.4363\n"
     ]
    },
    {
     "name": "stderr",
     "output_type": "stream",
     "text": [
      "Epoch 13: 100%|██████████| 225/225 [00:26<00:00,  8.39it/s]\n"
     ]
    },
    {
     "name": "stdout",
     "output_type": "stream",
     "text": [
      "Epoch 13 Loss: 383.5170\n"
     ]
    },
    {
     "name": "stderr",
     "output_type": "stream",
     "text": [
      "Epoch 14: 100%|██████████| 225/225 [00:26<00:00,  8.42it/s]\n"
     ]
    },
    {
     "name": "stdout",
     "output_type": "stream",
     "text": [
      "Epoch 14 Loss: 333.0819\n"
     ]
    },
    {
     "name": "stderr",
     "output_type": "stream",
     "text": [
      "Epoch 15: 100%|██████████| 225/225 [00:26<00:00,  8.41it/s]\n"
     ]
    },
    {
     "name": "stdout",
     "output_type": "stream",
     "text": [
      "Epoch 15 Loss: 284.0865\n"
     ]
    },
    {
     "name": "stderr",
     "output_type": "stream",
     "text": [
      "Epoch 16: 100%|██████████| 225/225 [00:26<00:00,  8.41it/s]\n"
     ]
    },
    {
     "name": "stdout",
     "output_type": "stream",
     "text": [
      "Epoch 16 Loss: 251.2267\n"
     ]
    },
    {
     "name": "stderr",
     "output_type": "stream",
     "text": [
      "Epoch 17: 100%|██████████| 225/225 [00:26<00:00,  8.40it/s]\n"
     ]
    },
    {
     "name": "stdout",
     "output_type": "stream",
     "text": [
      "Epoch 17 Loss: 222.9627\n"
     ]
    },
    {
     "name": "stderr",
     "output_type": "stream",
     "text": [
      "Epoch 18: 100%|██████████| 225/225 [00:26<00:00,  8.38it/s]\n"
     ]
    },
    {
     "name": "stdout",
     "output_type": "stream",
     "text": [
      "Epoch 18 Loss: 192.6000\n"
     ]
    },
    {
     "name": "stderr",
     "output_type": "stream",
     "text": [
      "Epoch 19: 100%|██████████| 225/225 [00:26<00:00,  8.39it/s]\n"
     ]
    },
    {
     "name": "stdout",
     "output_type": "stream",
     "text": [
      "Epoch 19 Loss: 174.0988\n"
     ]
    },
    {
     "name": "stderr",
     "output_type": "stream",
     "text": [
      "Epoch 20: 100%|██████████| 225/225 [00:26<00:00,  8.40it/s]\n"
     ]
    },
    {
     "name": "stdout",
     "output_type": "stream",
     "text": [
      "Epoch 20 Loss: 153.6837\n"
     ]
    },
    {
     "name": "stderr",
     "output_type": "stream",
     "text": [
      "Epoch 21: 100%|██████████| 225/225 [00:26<00:00,  8.40it/s]\n"
     ]
    },
    {
     "name": "stdout",
     "output_type": "stream",
     "text": [
      "Epoch 21 Loss: 140.6770\n"
     ]
    },
    {
     "name": "stderr",
     "output_type": "stream",
     "text": [
      "Epoch 22: 100%|██████████| 225/225 [00:26<00:00,  8.38it/s]\n"
     ]
    },
    {
     "name": "stdout",
     "output_type": "stream",
     "text": [
      "Epoch 22 Loss: 134.3538\n"
     ]
    },
    {
     "name": "stderr",
     "output_type": "stream",
     "text": [
      "Epoch 23: 100%|██████████| 225/225 [00:26<00:00,  8.38it/s]\n"
     ]
    },
    {
     "name": "stdout",
     "output_type": "stream",
     "text": [
      "Epoch 23 Loss: 133.4661\n"
     ]
    },
    {
     "name": "stderr",
     "output_type": "stream",
     "text": [
      "Epoch 24: 100%|██████████| 225/225 [00:26<00:00,  8.40it/s]\n"
     ]
    },
    {
     "name": "stdout",
     "output_type": "stream",
     "text": [
      "Epoch 24 Loss: 116.3583\n"
     ]
    },
    {
     "name": "stderr",
     "output_type": "stream",
     "text": [
      "Epoch 25: 100%|██████████| 225/225 [00:26<00:00,  8.42it/s]\n"
     ]
    },
    {
     "name": "stdout",
     "output_type": "stream",
     "text": [
      "Epoch 25 Loss: 109.8149\n",
      "\n",
      "📊 Evaluation:\n",
      "LOW - MAE: 7.31, MSE: 117.90, R²: 0.33\n",
      "HIGH - MAE: 12.21, MSE: 303.21, R²: 0.29\n",
      "RANGE - MAE: 6.05, MSE: 76.27, R²: 0.13\n",
      "✅ Saved model to: /home/liorkob/M.Sc/thesis/pre-train/hebert-mlm-3k-drugs-punishment/joint_low_high\n"
     ]
    },
    {
     "data": {
      "image/png": "[encoded data removed]",
      "text/plain": [
       "<Figure size 640x480 with 1 Axes>"
      ]
     },
     "metadata": {},
     "output_type": "display_data"
    },
    {
     "data": {
      "image/png": "[encoded data removed]",
      "text/plain": [
       "<Figure size 640x480 with 1 Axes>"
      ]
     },
     "metadata": {},
     "output_type": "display_data"
    }
   ],
   "source": [
    "import pandas as pd\n",
    "import torch\n",
    "import numpy as np\n",
    "from torch import nn\n",
    "from torch.utils.data import Dataset, DataLoader\n",
    "from transformers import AutoTokenizer, AutoModel, AutoConfig, BertPreTrainedModel\n",
    "from torch.optim import AdamW\n",
    "from sklearn.model_selection import train_test_split\n",
    "from sklearn.metrics import mean_absolute_error, mean_squared_error, r2_score\n",
    "from tqdm import tqdm\n",
    "import matplotlib.pyplot as plt\n",
    "\n",
    "# ========== Setup ==========\n",
    "model_path = \"/home/liorkob/M.Sc/thesis/pre-train/hebert-mlm-3k-drugs/final\"\n",
    "tokenizer = AutoTokenizer.from_pretrained(model_path)\n",
    "device = torch.device(\"cuda\" if torch.cuda.is_available() else \"cpu\")\n",
    "\n",
    "# ========== Tokenization ==========\n",
    "def tokenize_single_window(text, tokenizer, max_length=512):\n",
    "    return tokenizer(\n",
    "        text,\n",
    "        truncation=True,\n",
    "        padding=\"max_length\",\n",
    "        max_length=max_length,\n",
    "        return_tensors=\"pt\"\n",
    "    )\n",
    "\n",
    "# ========== Dataset ==========\n",
    "class PunishmentDataset(Dataset):\n",
    "    def __init__(self, df, tokenizer):\n",
    "        self.texts = df[\"text\"].tolist()\n",
    "        self.lows = df[\"low\"].tolist()\n",
    "        self.highs = df[\"high\"].tolist()\n",
    "        self.tokenizer = tokenizer\n",
    "\n",
    "    def __len__(self):\n",
    "        return len(self.texts)\n",
    "\n",
    "    def __getitem__(self, idx):\n",
    "        encoding = tokenize_single_window(self.texts[idx], self.tokenizer)\n",
    "        low = torch.tensor([self.lows[idx]], dtype=torch.float)\n",
    "        high = torch.tensor([self.highs[idx]], dtype=torch.float)\n",
    "        return {\n",
    "            \"input_ids\": encoding[\"input_ids\"].squeeze(0),\n",
    "            \"attention_mask\": encoding[\"attention_mask\"].squeeze(0),\n",
    "            \"low\": low,\n",
    "            \"high\": high\n",
    "        }\n",
    "\n",
    "# ========== Collate ==========\n",
    "def collate_fn(batch):\n",
    "    return {\n",
    "        \"input_ids\": torch.stack([x[\"input_ids\"] for x in batch]),\n",
    "        \"attention_mask\": torch.stack([x[\"attention_mask\"] for x in batch]),\n",
    "        \"low\": torch.cat([x[\"low\"] for x in batch], dim=0),\n",
    "        \"high\": torch.cat([x[\"high\"] for x in batch], dim=0)\n",
    "    }\n",
    "\n",
    "# ========== Model ==========\n",
    "class HeBERTMultiOutputRegressor(BertPreTrainedModel):\n",
    "    def __init__(self, config, model_path):\n",
    "        super().__init__(config)\n",
    "        self.bert = AutoModel.from_pretrained(model_path)\n",
    "        self.regressor = nn.Sequential(\n",
    "            nn.Linear(config.hidden_size, 128),\n",
    "            nn.ReLU(),\n",
    "            nn.Dropout(0.1),\n",
    "            nn.Linear(128, 2)  # two outputs: low and high\n",
    "        )\n",
    "        self.init_weights()\n",
    "        self.loss_fn = nn.MSELoss()\n",
    "\n",
    "    def forward(self, input_ids, attention_mask, low=None, high=None):\n",
    "        outputs = self.bert(input_ids=input_ids, attention_mask=attention_mask)\n",
    "        cls_output = outputs.last_hidden_state[:, 0, :]\n",
    "        logits = self.regressor(cls_output)  # shape: [batch, 2]\n",
    "        pred_low = logits[:, 0]\n",
    "        pred_high = logits[:, 1]\n",
    "\n",
    "        if low is not None and high is not None:\n",
    "            loss_low = self.loss_fn(pred_low, low)\n",
    "            loss_high = self.loss_fn(pred_high, high)\n",
    "            spread_penalty = torch.mean(torch.relu(pred_low - pred_high) ** 2)\n",
    "            weighted_error = torch.mean(torch.abs(pred_low - low) ** 2 + torch.abs(pred_high - high) ** 2)\n",
    "            loss = loss_low + loss_high + 0.2 * spread_penalty + 0.1 * weighted_error\n",
    "        else:\n",
    "            loss = torch.tensor(0.0, device=logits.device)\n",
    "\n",
    "        return {\"loss\": loss, \"pred_low\": pred_low, \"pred_high\": pred_high}\n",
    "\n",
    "# ========== Data ==========\n",
    "df = pd.read_csv(\"merged_output.csv\")\n",
    "df = df.dropna(subset=[\"extracted_gpt_facts\", \"low\", \"high\"])\n",
    "df[\"text\"] = df[\"extracted_gpt_facts\"]\n",
    "\n",
    "# ========== Training & Evaluation ==========\n",
    "def train_and_eval():\n",
    "    print(f\"\\n=== 🔧 Training Multi-Output Model for Punishment Range ===\")\n",
    "\n",
    "    train_val_df, test_df = train_test_split(df, test_size=0.2, random_state=42)\n",
    "    train_df, val_df = train_test_split(train_val_df, test_size=0.1, random_state=42)\n",
    "\n",
    "    train_dataset = PunishmentDataset(train_df, tokenizer)\n",
    "    test_dataset = PunishmentDataset(test_df, tokenizer)\n",
    "    train_loader = DataLoader(train_dataset, batch_size=8, shuffle=True, collate_fn=collate_fn)\n",
    "    test_loader = DataLoader(test_dataset, batch_size=8, collate_fn=collate_fn)\n",
    "\n",
    "    config = AutoConfig.from_pretrained(model_path)\n",
    "    model = HeBERTMultiOutputRegressor(config, model_path).to(device)\n",
    "    optimizer = AdamW(model.parameters(), lr=1e-5)\n",
    "\n",
    "    for epoch in range(25):\n",
    "        model.train()\n",
    "        total_loss = 0\n",
    "        for batch in tqdm(train_loader, desc=f\"Epoch {epoch+1}\"):\n",
    "            input_ids = batch[\"input_ids\"].to(device)\n",
    "            attention_mask = batch[\"attention_mask\"].to(device)\n",
    "            low = batch[\"low\"].to(device)\n",
    "            high = batch[\"high\"].to(device)\n",
    "\n",
    "            outputs = model(input_ids=input_ids, attention_mask=attention_mask, low=low, high=high)\n",
    "            loss = outputs[\"loss\"]\n",
    "\n",
    "            loss.backward()\n",
    "            optimizer.step()\n",
    "            optimizer.zero_grad()\n",
    "            total_loss += loss.item()\n",
    "\n",
    "        avg_loss = total_loss / len(train_loader)\n",
    "        print(f\"Epoch {epoch+1} Loss: {avg_loss:.4f}\")\n",
    "\n",
    "    # Evaluation\n",
    "    model.eval()\n",
    "    pred_lows, pred_highs, true_lows, true_highs = [], [], [], []\n",
    "    with torch.no_grad():\n",
    "        for batch in test_loader:\n",
    "            input_ids = batch[\"input_ids\"].to(device)\n",
    "            attention_mask = batch[\"attention_mask\"].to(device)\n",
    "            low = batch[\"low\"].to(device)\n",
    "            high = batch[\"high\"].to(device)\n",
    "\n",
    "            outputs = model(input_ids=input_ids, attention_mask=attention_mask)\n",
    "            pred_lows.append(outputs[\"pred_low\"].cpu().numpy())\n",
    "            pred_highs.append(outputs[\"pred_high\"].cpu().numpy())\n",
    "            true_lows.append(low.cpu().numpy())\n",
    "            true_highs.append(high.cpu().numpy())\n",
    "\n",
    "    pred_lows = np.concatenate(pred_lows)\n",
    "    pred_highs = np.concatenate(pred_highs)\n",
    "    true_lows = np.concatenate(true_lows)\n",
    "    true_highs = np.concatenate(true_highs)\n",
    "\n",
    "    pred_ranges = pred_highs - pred_lows\n",
    "    true_ranges = true_highs - true_lows\n",
    "\n",
    "    print(\"\\n📊 Evaluation:\")\n",
    "    print(f\"LOW - MAE: {mean_absolute_error(true_lows, pred_lows):.2f}, MSE: {mean_squared_error(true_lows, pred_lows):.2f}, R²: {r2_score(true_lows, pred_lows):.2f}\")\n",
    "    print(f\"HIGH - MAE: {mean_absolute_error(true_highs, pred_highs):.2f}, MSE: {mean_squared_error(true_highs, pred_highs):.2f}, R²: {r2_score(true_highs, pred_highs):.2f}\")\n",
    "    print(f\"RANGE - MAE: {mean_absolute_error(true_ranges, pred_ranges):.2f}, MSE: {mean_squared_error(true_ranges, pred_ranges):.2f}, R²: {r2_score(true_ranges, pred_ranges):.2f}\")\n",
    "\n",
    "    # ========== Plots ==========\n",
    "    plt.figure()\n",
    "    plt.scatter(true_ranges, pred_ranges, alpha=0.5)\n",
    "    plt.xlabel(\"True Range\")\n",
    "    plt.ylabel(\"Predicted Range\")\n",
    "    plt.title(\"True vs Predicted Punishment Ranges\")\n",
    "    plt.grid(True)\n",
    "    plt.savefig(\"range_scatter_plot.png\")\n",
    "\n",
    "    plt.figure()\n",
    "    plt.hist(true_ranges - pred_ranges, bins=30, alpha=0.7)\n",
    "    plt.title(\"Prediction Error (True - Predicted Range)\")\n",
    "    plt.xlabel(\"Error\")\n",
    "    plt.ylabel(\"Count\")\n",
    "    plt.grid(True)\n",
    "    plt.savefig(\"range_error_histogram.png\")\n",
    "\n",
    "    save_path = f\"/home/liorkob/M.Sc/thesis/pre-train/hebert-mlm-3k-drugs-punishment/joint_low_high\"\n",
    "    model.bert.save_pretrained(save_path)\n",
    "    tokenizer.save_pretrained(save_path)\n",
    "    torch.save(model.regressor.state_dict(), f\"{save_path}/regressor.pt\")\n",
    "    print(f\"✅ Saved model to: {save_path}\")\n",
    "\n",
    "train_and_eval()"
   ]
  },
  {
   "cell_type": "code",
   "execution_count": null,
   "metadata": {},
   "outputs": [],
   "source": []
  }
 ],
 "metadata": {
  "kernelspec": {
   "display_name": "new_env",
   "language": "python",
   "name": "python3"
  },
  "language_info": {
   "codemirror_mode": {
    "name": "ipython",
    "version": 3
   },
   "file_extension": ".py",
   "mimetype": "text/x-python",
   "name": "python",
   "nbconvert_exporter": "python",
   "pygments_lexer": "ipython3",
   "version": "3.9.21"
  }
 },
 "nbformat": 4,
 "nbformat_minor": 2
}
